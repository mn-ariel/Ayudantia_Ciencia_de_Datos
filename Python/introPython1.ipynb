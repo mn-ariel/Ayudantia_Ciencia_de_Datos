{
 "cells": [
  {
   "cell_type": "markdown",
   "id": "54a90f8d-d32d-417a-8334-29120504c068",
   "metadata": {},
   "source": [
    "# 1. Simplicidad en los 'programas'"
   ]
  },
  {
   "cell_type": "markdown",
   "id": "33491199-a9a3-47aa-80c9-d595784beff7",
   "metadata": {},
   "source": [
    "## 1.1 Ejecutar Python desde una línea de comandos\n",
    "Para probar fragmentos de código, podemos ejecutar Python desde la línea de comandos. En este Jupyter Notebook vamos a simular esto. Puedes escribir los comandos en los campos y ejecutarlos.<br>\n",
    "En el campo escribe:<br>\n",
    "```python\n",
    "print('Hola, Mundo')\n",
    "```\n",
    "Luego presiona `<shift> + <return>` para ejecutar el comando."
   ]
  },
  {
   "cell_type": "code",
   "execution_count": 1,
   "id": "cb87f19a-68b9-459f-bfac-fab769ed051b",
   "metadata": {},
   "outputs": [
    {
     "name": "stdout",
     "output_type": "stream",
     "text": [
      "Hola, Mundo\n"
     ]
    }
   ],
   "source": [
    "print('Hola, Mundo')"
   ]
  },
  {
   "cell_type": "markdown",
   "id": "01c81b2e-f77d-40ef-86f6-f22740b80ccc",
   "metadata": {},
   "source": [
    "## 1.2 Comentarios\n",
    "```python\n",
    "# Soy un comentario.\n",
    "```"
   ]
  },
  {
   "cell_type": "code",
   "execution_count": 26,
   "id": "7ad2a383-a688-455f-9283-0b1e3a389407",
   "metadata": {},
   "outputs": [],
   "source": [
    "# Soy un comentario."
   ]
  },
  {
   "cell_type": "code",
   "execution_count": 27,
   "id": "733702a9-9e75-48ad-95c8-832917dd9812",
   "metadata": {},
   "outputs": [
    {
     "name": "stdout",
     "output_type": "stream",
     "text": [
      "Hola, Mundo\n"
     ]
    }
   ],
   "source": [
    "\"\"\"\n",
    "Soy un \n",
    "comentarios\n",
    "multilínea\n",
    "en Python\n",
    "\"\"\"\n",
    "print(\"Hola, Mundo\")"
   ]
  },
  {
   "cell_type": "markdown",
   "id": "3e89e17c-dfc3-4792-accb-026912c1f8ad",
   "metadata": {},
   "source": [
    "## 1.3 Matematicas en Python\n",
    "\n",
    "```python\n",
    "1 + 1\n",
    "```\n",
    "y ejecute el codigo."
   ]
  },
  {
   "cell_type": "code",
   "execution_count": 2,
   "id": "43813dc6-994e-4da9-b275-92d785279c6a",
   "metadata": {},
   "outputs": [
    {
     "data": {
      "text/plain": [
       "2"
      ]
     },
     "execution_count": 2,
     "metadata": {},
     "output_type": "execute_result"
    }
   ],
   "source": [
    "1 + 1"
   ]
  },
  {
   "cell_type": "code",
   "execution_count": 20,
   "id": "fc97a404-e1fe-4ae2-99f9-d8a90a152399",
   "metadata": {},
   "outputs": [
    {
     "data": {
      "text/plain": [
       "4"
      ]
     },
     "execution_count": 20,
     "metadata": {},
     "output_type": "execute_result"
    }
   ],
   "source": [
    "5 - 1"
   ]
  },
  {
   "cell_type": "code",
   "execution_count": 10,
   "id": "96d9cfcc-e981-4011-8793-2773ff80fac0",
   "metadata": {},
   "outputs": [
    {
     "data": {
      "text/plain": [
       "10"
      ]
     },
     "execution_count": 10,
     "metadata": {},
     "output_type": "execute_result"
    }
   ],
   "source": [
    "2 * 5"
   ]
  },
  {
   "cell_type": "code",
   "execution_count": 24,
   "id": "87930264-4d13-4b65-8c0e-43cb05250f61",
   "metadata": {},
   "outputs": [
    {
     "data": {
      "text/plain": [
       "3.3333333333333335"
      ]
     },
     "execution_count": 24,
     "metadata": {},
     "output_type": "execute_result"
    }
   ],
   "source": [
    "10 / 3"
   ]
  },
  {
   "cell_type": "code",
   "execution_count": 22,
   "id": "3c731de7-01d0-4105-b76b-f30c9ec4aa7e",
   "metadata": {},
   "outputs": [
    {
     "data": {
      "text/plain": [
       "3"
      ]
     },
     "execution_count": 22,
     "metadata": {},
     "output_type": "execute_result"
    }
   ],
   "source": [
    "10 // 3"
   ]
  },
  {
   "cell_type": "code",
   "execution_count": 23,
   "id": "d7dac095-968e-4db4-a073-51da5f8debd8",
   "metadata": {},
   "outputs": [
    {
     "data": {
      "text/plain": [
       "1"
      ]
     },
     "execution_count": 23,
     "metadata": {},
     "output_type": "execute_result"
    }
   ],
   "source": [
    "10 % 3"
   ]
  },
  {
   "cell_type": "code",
   "execution_count": 13,
   "id": "864b29c0-ae3d-43d7-9a7d-5abae83db0a3",
   "metadata": {},
   "outputs": [
    {
     "data": {
      "text/plain": [
       "25"
      ]
     },
     "execution_count": 13,
     "metadata": {},
     "output_type": "execute_result"
    }
   ],
   "source": [
    "5 ** 2"
   ]
  },
  {
   "cell_type": "markdown",
   "id": "d09923cb-c984-48a0-b7a2-824baa233ccd",
   "metadata": {},
   "source": [
    "```python\n",
    "print('Un gigabyte es 2^30 bytes, o', 2 ** 30, 'bytes')\n",
    "```"
   ]
  },
  {
   "cell_type": "code",
   "execution_count": 31,
   "id": "aea733ef-753a-4cbd-bffc-2ebf0733c0ad",
   "metadata": {},
   "outputs": [
    {
     "name": "stdout",
     "output_type": "stream",
     "text": [
      "Un gigabyte es 2^30 bytes, o 1073741824 bytes\n"
     ]
    }
   ],
   "source": [
    "print('Un gigabyte es 2^30 bytes, o', 2 ** 30, 'bytes')"
   ]
  },
  {
   "cell_type": "markdown",
   "id": "0be855e4-cb10-428f-b99e-e3bfb5fa07d8",
   "metadata": {},
   "source": [
    "## 1.4 Orden de Operaciones\n",
    "En Python el orden de las operaciones se realiza siguiendo el **PEMDAS**\n",
    "\n",
    "1. Paréntesis `()`\n",
    "2. Exponentes `**`\n",
    "3. Multiplicación  `*`, División  `/` y residuo `%`\n",
    "4. Suma `+` y Sustracción  `-`"
   ]
  },
  {
   "cell_type": "markdown",
   "id": "4836242c-3bd9-4b34-b7bc-2718c37d46d1",
   "metadata": {},
   "source": [
    "**PEMDAS**\n",
    "<br>\n",
    "![Captura de Pantalla.png](data:image/png;base64,iVBORw0KGgoAAAANSUhEUgAAAa0AAAEPCAYAAADxgpvSAAABQGlDQ1BJQ0MgUHJvZmlsZQAAKJFjYGASSCwoyGFhYGDIzSspCnJ3UoiIjFJgf8rAyiAIhAwM8onJxQWOAQE+QDYDjEYF364xMILoy7ogs7Zsal5wUYzhzoaY6AS19MzHmOpRAFdKanEykP4DxEnJBUUlDAyMCUC2cnlJAYjdAmSLFAEdBWTPALHTIew1IHYShH0ArCYkyBnIvgJkCyRnJKYA2U+AbJ0kJPF0JDbUXhDgcDYycTO2NCDgVNJBSWpFCYh2zi+oLMpMzyhRcASGUKqCZ16yno6CkYGRIQMDKLwhqj/fAIcjoxgHQix1BwODSTNQ8CZCLPsdA8OeRQwMfO8QYqr6QP5tBoZDaQWJRYlwBzB+YylOMzaCsLm3MzCwTvv//3M4AwO7JgPD3+v////e/v//32UMDMy3GBgOfAMAZQ1f2D1kBNoAAABWZVhJZk1NACoAAAAIAAGHaQAEAAAAAQAAABoAAAAAAAOShgAHAAAAEgAAAESgAgAEAAAAAQAAAa2gAwAEAAAAAQAAAQ8AAAAAQVNDSUkAAABTY3JlZW5zaG90GyC9vgAAAdZpVFh0WE1MOmNvbS5hZG9iZS54bXAAAAAAADx4OnhtcG1ldGEgeG1sbnM6eD0iYWRvYmU6bnM6bWV0YS8iIHg6eG1wdGs9IlhNUCBDb3JlIDYuMC4wIj4KICAgPHJkZjpSREYgeG1sbnM6cmRmPSJodHRwOi8vd3d3LnczLm9yZy8xOTk5LzAyLzIyLXJkZi1zeW50YXgtbnMjIj4KICAgICAgPHJkZjpEZXNjcmlwdGlvbiByZGY6YWJvdXQ9IiIKICAgICAgICAgICAgeG1sbnM6ZXhpZj0iaHR0cDovL25zLmFkb2JlLmNvbS9leGlmLzEuMC8iPgogICAgICAgICA8ZXhpZjpQaXhlbFlEaW1lbnNpb24+MjcxPC9leGlmOlBpeGVsWURpbWVuc2lvbj4KICAgICAgICAgPGV4aWY6UGl4ZWxYRGltZW5zaW9uPjQyOTwvZXhpZjpQaXhlbFhEaW1lbnNpb24+CiAgICAgICAgIDxleGlmOlVzZXJDb21tZW50PlNjcmVlbnNob3Q8L2V4aWY6VXNlckNvbW1lbnQ+CiAgICAgIDwvcmRmOkRlc2NyaXB0aW9uPgogICA8L3JkZjpSREY+CjwveDp4bXBtZXRhPgqks6jmAABAAElEQVR4Aex9B2BcxdX12V7VVl2yiiVb7h0XjLGxsTHV9E4gJAFCEv4vIaSTL/lCCCGFJEAKJRAIAUzHGIdug3vvlrut3ru0vfznvpVsWZYrBkn2DKx39crMnfPmzZl7584dXYQJKikEFAIKAYWAQqAPIKDvAzIqERUCCgGFgEJAIaAhoEhLNQSFgEJAIaAQ6DMIKNLqM49KCaoQUAgoBBQCirRUG1AIKAQUAgqBPoOAIq0+86iUoAoBhYBCQCGgSEu1AYWAQkAhoBDoMwgo0uozj0oJqhBQCCgEFAKKtFQbUAgoBBQCCoE+g4AirT7zqJSgCgGFgEJAIaBIS7UBhYBCQCGgEOgzCCjS6jOPSgmqEFAIKAQUAoq0VBtQCCgEFAIKgT6DgLHPSKoEPcMRYFznSBiRYBCRUFDD4pBIzzoddDoDdHo2aYOev3XaNcFwBKFQBMFwGOFuEdRBr9fBZNDBzO9wgNfx2hDvQ3sBBqMBeqPkL59DM5F405EgywiGILdIkvxEBqNRxoQ8yPJDwfY8tSs6/cNLdbzeoKfMlKG7MuRqKSccCjCrMIL86PmfTqeHwWiEgd9dxJI75CbKxOuJlyYnjwkGcq+e9+gNvFfKlQJUUgj0EQQUafWRB3XGiynkEGiFf98qNO/eyQ68nSEEGHbAEWsMjAkDYM8bBmuMDTp25tIbe/0+rNtcjdWtYXg7WKUTmHp22qZYBy4fEIcBcUb4GppRurYCFdV+EkREI5GEoWnoPyIJTrMQRacuXpMphKZd1di+sRZ+vxAjCcjpQOboVGTnOWEIheBvrMeeJdWoawoKfx1MzMpiM8GRmYCM/i7EJppgMrEMktehKUpYdZWbsblyLxp8XpKOFfGufIzIHYYEixnGznLxZo2kSHJt3ioUVWxHUUMtfAESK+Uz2RORGdcf2Wm5SLBaYCRpdi3x0PLVXwqB3oOAIq3e8yyUJEdDgAQBbxmaP30OxQtXUnvgxSQrKg3yA7BaYYzLQszgCXCddzsS+qdAbzYiEGjDS2/twD9aeIMQhnTunXto0YrS05CTasOAWAPaysqx5LGV2FLt1QhGLk8e3R/Tvj0Z44c5YTIf7OAjokE1NmLrq+ux4L0SeAIsgDcYnImYfM8kpPV3wkpNR/Jc/Pgq7GqKkobkqWljFMdkMcCeloCs3CRkTRmIUeclIZZEZtI0O6kbE/MIheuxZcPreH79CtT6/SzHgvh+k/F1RzrOzkiB0WCIXtt+fTDghb9yId5avxQbigtR3NQIHzVCqbrOFo/s+KE4Z9INmDl0KFzUUDVcDuagfikEei0CirR67aNRgh2KAAnB14hAUxOC3gDCGmFFqHGww42EEGlphr9pC+rKdsDb6ofhuvvYqTvZ2QdQ20JzIjtsLYnJLsKuW3pvScIgNOVZ5ZvJ1+ZBU7WHZHfQnFddWInNn1Zh6GA74qMsqV0boRmxfnMxtm6oQKs7SFNclLTCbX543AGaJGkZ5CfgC8ND0gz4KSc1u6jZkFnweh+vbdtRgZodldi6vhIltSNw/vUDkU7TXYf2FIkw76a92FC5Gw1eykaNkXSJ+vId2FaxH8NTEmElaUVrwHO8PtC8Fv9695/4pLwSLRTCaDCxmryGFwXbqPm1boSrYhImDh6EBHTcq1VL/aMQ6NUIKNLq1Y9HCXckBHRGE8xTf4LBcybB4G5A4+LfoHjRDgQ9AXgKV6Bx6zo4088RXogm6a0TXfjFZfm4KssGi2hYTBpnUSNLsXXSVHhQ5pniE+1wN3gR9vlRv7UClfXZcKYZtPkvyTgc8qJsUw1qKgI06emRmOJAQ1XrAT6MFnzwXx0JC6OG4zv3DkFsvAk6Elv94p1Y8tZObK/1wVtThy1vbkdCSgJmz6SmSC1MxAwGW7GnaC32VlcjROLJHDAWgT3rUBeowI6yvagfOAJJZuYnlaFckXAQu7e+gyVVVfBG9LAl5mH2+XdiVr9c2ClOac1KLFu1FGGrHWbO10WROCin+qUQ6M0IKNLqzU9HyXZkBKhZ6B2psKTk0qEgG0mZP4Bvw/+gzNNArasG7qLt1HAmt9/PbllH9qKWlRxjRY7LCofmJMHTPCXdtk7OtzOc1olTk9MNT8fojcVYTy2pan8ldq2vRzbJxMSyI1SjwlVNKN1dhwZaHg2Ofhg6oRXL340SYXeCCxHqbGbEpccgKcUK8dxIyItHzoxUvPT9JdiwvxWB8nrs/KwEI85yIStZnCVIWp4a7C3fiUpPkA4h/TB1yizsKdmEel8Ae8oKUd1yLvLjHQfIJxxpRHVDC3zUsCKwIdU1EZPzRyLT7oCZmmlKfDrGDJhDojWy3l3m6boTXB1TCPQiBLQZgV4kjxJFIXDiCEjHq8+HPcdyoOMmA3XKp/03ScnPyTAPTX+tNNXJR34HRGvqfLmwFrUWgykJYy5Phk0cI+paUF5IgnKTCHhtOBBA3Z46FO1pobXRiIQL8jCIjhon9EKRxPQmI0zZObj4G7lwiRNGJIDy7ZWoKGqj1yNti5zPam4qJWntg4f0asmYhGlpkzB6QJJYNYHq7VhXWwN/OKQ5jkQrbYaZ+epZh0jEh8aGQmzatQ0VzTKvFaC8YqI00fxI70PRzlRSCPQhBJSm1YcelhK1EwIac9CVO+hjx0zS8e2Fu9RLqhLTnhkGehPq6MyAqHd8lMNa3Hh9ZTEKt5MoxFTH06YYO64ekYIJyWZYuvTferJC5iXDkbtgIbbX+1C2sw51FT5kxNPBo82H8nX7UFbLEmMSMPGCVBgWFmp5dsmmk9CH/9S0LxKM8+wBGJiwHavqSIr1XtQ3+RAgaVn0ftTWbccekqZO78DAgWOQYXGghSbC5B3voTJUhQ2FG1EzZBjSSZpGEqzBEIO8nCFI3VSIEo8XLXVb8O4n/8DevMEoyBqP0bljkU0PS7OJxMUlAod4RB4uojqiEOhVCCjS6lWPQwlz3AjQCSIS8pGs3ICnDK2L/on6mrbo7bF0TMjI53yNmP3acxSSa2nD0lX8dBQixJUQh5ikGAx3GWERkuuUZJ7KkJyBIaNjsHNhI9p21qK0tBmD6ZDhaWrGvjU18PF6x4BUFGRY4e5yf6esjv5TtDpjLL0NqWnVs150NPFRCwzSwSQUdKO0ZCPK6Myhc/TH+Ox+MJqsSE4bh8EJH6GyxouafYuxquFKXJKkh8Vg1kg7Lf9y3DmjBX/74AOUhNrQULcDS/lZs205lqYNxITRc3DhcHpaWkhalO7Qmh9dXHVWIdCTCCjS6kn0VdknjUCEZi7fZw9g6zrODUnn3tZKTz2a2yxOmgnHIXbkcM4HdTLWCXsJqdDpQrOrySk5lmBFmt0Iu3ZtZxshT8scFEkgZ3IG4hc3oc5dhz1bmjB5gguefaXYXSQOGDZkjUpGXIwJ3pPu+cXjz0CTHWUSEcT7gjQii4nd3n0o3LcfHpJ0XNog9Lfb4Q/4YLemICe9H3S1uxHxF2HR9v244OxBvJ2kxf/0llSS7Tfw47RReO+jf2NhRRVNowHO89Vjf9FqVFSVobLJg+snT0M/WS5AU6FKCoG+gIAirb7wlJSMhyEgJkG46WzgbRV20ZwKDM54mFMnIP3rP0Z8sv2gliV3Cw8kJ+KRqwfhxv522EgM4vkuczoWziV1qyTxvGhb9kFZ6J++C3UlQexbV46Gy9JQ8+l+VHNdlj41AbkF8bBZOZ91Uv0+6yHmzVALasqoZYmolEnyEi/A5u2vYRHNhaGIDf1cCXSbFycLzneRgJx0qHBFdqGGbv37t3yC0vF5cDIDmYLT0+xntiQiJ2sGvv6V8biqZgneWDkPK3bsQ22bF61txfhs0/sYlJmP9IJ87R6BSCWFQG9HQJFWb39CSr5uEZCIF8aUfMRkJNGZge7vsQWwT7ocsYP708wnJrLOXbD8Zm9OMhAXbxtJyt7uPShnNGcEzXuwa1FyVgd7XDz6j07AxpJq+Av348PPbGha0MiVUnq48hORkc1Fx7xUrj7RJNwbYaQKX1klikq5jot5GlPt5FfRmBqwZPM6EhoXJYdbsGnF37FlJclRNEQ6aEiIphA1MOjovlizFKsqb0B+Xoy2cLljnkqnkygb8UhKvQi3XzIDl+U/h4c/eAO7GmhWbSzDrvpKTAvliWMl3TxUUgj0fgQUafX+Z6Qk7AYBHX3BTWO+ifzrpsFgoYlQtC1xKqA7+kH2EL3l0CQdvXgKdvYWFP1GlKQjddrGWJoQ6f7u+qAGlVx8vOeNPTTXRejm7kDW8FSkpdFrUUjvGEkISgoWr8AQQz5FRBZ6Lwbr67D2n4UoIvcwFAZceS6kSp6NH2JJmYfkKM4VJB8tVuBBatQcUBhXUOIqhuiQsWnzGszIms2FyWIgjGiOHBJbUOIMCs/J0bj8azAjdR5JS4QV0pMoHSopBPoOAoq0+s6zUpJ2RkDmYDjfpDfbOH9j4ZmDnXnny6K/yRbthOHj+iqPxAgUd3KmqCmOJkLaBztPgUXvi/5rMJtJJClIyzSjaqcHbSWNWrBZa3IscsakIc5OumMUimMmslZECMtHzYqLoOlvj0ZGw9j4zlYsXd5I8onAFBeD7LEZSEmIoGT1MhIZmUwfi9y8czFz1GgkkLiEYCVJtI/Kve/hg22bUeH2o7LoI2yqm4okVz02rvwvNoUzMDhrBAoSUhDjEBEZCWPPO1hYSY9LySCG4atcaZzPozlS/lZJIdAHEFCk1QcekhKxGwREc4iqDzx5NMJqv070iboG/ODljXiEvu0dc1h6CW1E89/vr8zFVRm2aGfeuTj25hFqb87MOGT2j8eOfV4EvNTMaJ5MSE1BvwIbtSDeoHHW4XJ0JgMJ+4St2/H0t/drgXEluGGQC4TbmpknSdjKhc/ZU4bgnAu5gFm3C6u3l2uhoAwxSSgYdAFmDhsBu6w2bk8SrsntbMG6kiJU0Umk1VOOrft3Y6rFz++1WFT+HpautcIsIaGkHhTS721CvYf+KCYGCKbr+/CMLJZFTawjU/WtEOjlCCjS6uUPSInXCQHZekSiOJAwtI+mGh29u5Uo7mbpsUWxEtJodKOiU5aaB0LAijq/pntwPojmNOYrcf8kRqDGi2Jui49F9pBEuNbUwkvtx+i0Im58FrKs1FK0i/jN642cM4vwfr3cI4zFIg2Sn8kAAx03wj4f6srFUV4S7+F1Bp6z0Psw9+IpmPPNHC4yprt70Ras8fq0+rri0zA4ZxgcdHXX1pdFb6Z5kThkj8ZZsR9wHVcTvQh9qC0tRCU1MpfZCn3AjWaSVEDqrZXW7qBhdiKj33m46fzrMSjWHp3Ta89TfSkEejsCirR6+xNS8kUREG3Akgln7ni42iwIGS2wD2F8PpLYkROdKCwxmHlWEsq5/kmCsHdNmnkwhuY3BwmA5GNLikPOuCxYaMpLGxerEZ7mqGEyo995+RhcHkRssQfmuCQMn5JKMooSW4RkZR+Xi4E7TOQiBzIyHZpzhmhkNpoRB53XD+ZacbTonHguLhaukakYeXE/zfVeyE3kqPQFkddvCBKSgdQBV2FYiuUwchGjntEwgGuuzscOYzzz5votym/RFeDSi7+LpM0rsL6mGHXNNSyUpklimBQ7GCNGzcawzAwk0oHFxLKOTvud5VW/FQI9j4COk7mHvkc9L5OSQCHQDQJsptQYZANIbRNIMevJR0hLNJ0jpDDniYI0wwXaHTC6XiZdtngayiaQJnGDp2OEzHfJSyEBbg3tpCQHZHNIOReSLT6oPRmoWckWI1rxfI3kuHj6iQYlE2QHNoGUc8y388aSmhy8TLQ0KUc2mezYriTqYBHd8JHik5glcoWQo0h7aJJrQ9oiZM6RaYJwfzASpSTBSTaN1KLPt98msQaF6I2CXfsx9aUQ6EsIKNLqS09LyUoE2IsLo0jSOunoz6P9q13ecU93F7b33gc68fYius2+45zkc+CGTpl2nO96rv14pysP/Oy2nPZKypBSyOpYiXpU+yWHEpt2/OAp7ZpDrzhWzuq8QqB3IaBIq3c9DyWNQkAhoBBQCBwFgc7OTUe5TJ1SCCgEFAIKAYVAzyOgSKvnn4GSQCGgEFAIKASOEwFFWscJlLpMIaAQUAgoBHoeAUVaPf8MlAQKAYWAQkAhcJwIKNI6TqDUZQoBhYBCQCHQ8wgo0ur5Z6AkUAgoBBQCCoHjRECR1nECpS5TCCgEFAIKgZ5HQJFWzz8DJYFCQCGgEFAIHCcCirSOEyh1mUJAIaAQUAj0PAKKtHr+GSgJFAIKAYWAQuA4EVCkdZxAqcsUAgoBhYBCoOcRUKTV889ASaAQUAgoBBQCx4mAIq3jBEpdphBQCCgEFAI9j4AirZ5/BkoChYBCQCGgEDhOBI627Su38+ZuPLLJHDe2kw3wJB3P3j7HWXaPXdZRr466dHz3mECqYIWAQkAhoBDQEJD+WZKeG58auaFp1/75qKQlNwaDQbjdbvj9flgsZh459oZ0cl9vTgKKx+OBSbYb50clhYBCQCGgEOgdCIiCJHxjt9u1j5BXZ+I6KmnJzW1tbXj6qScxf/47SEtJhsnc9zv5QCCA/UUlSIiPRWJi4iGA9I7HpqRQCCgEFAJnJgIerwc1NQ248667cPXV11BZshzSRx+TtITlEhISMHp4Li6eOQGxMY4+j6TH48NzLy3A0MG5mDJpFPQ6Tu31fQWyzz8XVQGFgEJAIVBRWYcFH6+Fy5WgTU91ReSopCWEJR+n04HszFSMHVlAAovtmkef+7utzYP3P1mJ/NxMjB8zRKujIq0+9xiVwAoBhcBpiMD+4gqs21IEh8MR7Zu71PGopCXXii1RPkJeRqNB+3TJo8/9aTAIGetgMLA+8pvfirT63GNUAisEFAKnIQJG9seawkTe6S4pl/fuUFHHFAIKAYWAQqBXIqBIq1c+FiWUQkAhoBBQCHSHgCKt7lBRxxQCCgGFgEKgVyKgSKtXPhYllEJAIaAQUAh0h8AxHTG6u0kdUwgoBHoWgUgojAjXUYa5XEMcpQyG7iete1bKL7h0BgkIBxmph1WPEAf6VGkpeowOZMRE/lNOVl/wc/iSs1ek9SUDropTCHx+BKSzDiLAT0hvgMlg1DxhP3++fSkHhpgjcft9fhIWSdss0XoY+odEJtEU6H4GIkPvYOGsM5DQ+9KjPEFZe9Y8yJiGCLDRsZFFfL6DH/k7EATYKBENQ3WC1VKXn7YIRNgmgoFu2gzbDyOdIMg21R677PTEQF6ICEo2f4rvXPFVTL/vJawva+2Z90Q0Hb6nQX4CAWp+oS/xZSVh+0rX4NtXfAvjZv4dS9hXhFl8pHYLfnbL/2DEV1/GhmYP3D72IyqdVgj0oKYlIyUvglWl8LlJUgc6muioSGexwWCPhzk+HgYjubVD9z+t4FeVOTEE2CsF/QhWl8DX5jsQxLnD/qMzW2GwxcHENmM0sWlLm+mrg+z290E4Wsc1hYfWg9qEx8sQa260uvntC5HGIl+yRiHvbwB1lZWoavbzPU1DbrINZlnz+IUnBvEOerB76XqsrG1BaM4ojBXC4n+h+ExMHRyDN+e/icffnYLfXZ4Ju9V0KHxfuHyqgC8SgR4iLWlhHJk170fVi/9A+d4G/sljnVIkLg72tAFwnXUOXMOHw57I8FF9tQPqVC/182QRiLaZsLsE1a/8HWU7a6LzGZ2yi8TGwpqci8SzJsM1YiQcSYze0hfnekSDoSYh0zWBYARmixEmGbj1pkQZg20VePXxJ/Gf1eVwTf0a/vH98cg0fwmkxaYQqCvCOx9vQ5MuBz+5ZgTsJjGTsluJxGHWdVOR/d99WPbaf7Fj+q1wOawwCXyq/+hNLeikZemhN0EIiqTVWg13nRshf7B9QpWtirZoziwDjY1w71iHivkvoWL1Jvi9p7vZ56Sf4Rl0I7WJtjp42GbCbDMhmgK1oQ7bjKaNNDXDu2sjKt6di/Lla+Fto7nwyzRZnaInIXM1oaLN+OOfnsX//n4hdvlpDj1FeZ+ybPiK6uADWppRX88P2jSHkFOW/xEzIhLhAIo3bMPKfVWwjB6LaWkWkjpnrthvaJF7Bo7F1QOt8BRvwsqdTfALnr0PwSPWUJ04OgI9o2l1fQPZ2HSOeMRPuRSpBYnQtzSiZukrqNnlRrCuGg2rlyF+aAFcmQnQsXGqdGYjIGYgzRhmsSPunEuRPjwD+rZm1K18FVVbmxFqqtPaTNyQwTDnpUbDdPUhyMKc6w2U78brb36E0rYxmHHPZBTYLeiZl/VIwNH5wZmFa777LYy8yQ1bdn8kUyP8wpOYTSNu7Czcj4oKHSbdNhQp3DLpQK9AU6rJnIwJ49Ph3bQPa9btQe2EVGToTZxm+MKlUwV8CQj0ksdI0jKZYU7LR8zgbOg4krLkcnL3gRfRQPNIuLoYjeV1SEiPP9g4vwRwVBG9HAH2QiaaA2MKBpGYwrDm0Wz0f/9CvTgF1JWhqawa8dlJMOki8DKyv9frh5dOA6H2+SI991KTbQ+cJAQzzW8yUo/QLOenc1BrGz3QmEy0Ocl9AbqXm6w2zo+Y4bSZONgnsdBhyO3xwyfOCDyvo8Ynnnw2uw1Wi+zVRqsB8wuEgmhz++gjEoaFW/sEqSX6vJyTk9bMuTebzQYbO16rWU9vOC88La1oamzT5quCAQ/quE1Dhd8Hs8kKO8uOcURfW1ZLc3v3+zxoqqPeo5UVgd5ogtVqgcNuhVGLsRnt0kWDC9OJRWT2sPwATfIyftTTA9Fus1AOXs95QG1aihiJjF6vF17KK9fSh1zL18n6mcSdPGyENTEFg+OJu8miXaNtXETTv3j1eTnvJnj7xc5JbARrO++1sADjyQ4+iXOkvh6b9pajJJSAOQPjmFdngxHlYn0KzhuPvL9vR8Xm7dhRNwFpGYLZAWqTR6tSH0Wgd5AW25K4rer4wuvZ+HUcUxptIxGT9zoadnpoDmBD7TAF9VGgldinGAHpf6TNyM6mZrYZdoIGxwjEDrCgvtCjdebaOia2m0C4BZuXrMIbr67Au+u2o8HvjXqmDhyEC2dehO/cPB6D4p2wmUhaIQ+2fzQPP3rwVRhm34afjwzhN4+/gNXlIbgmzMQjP7kFFwyKZ4fcgn0btuDNVz/E3MU7UC95sm8eNuocXHf7Jbh0Uh6SY6zs2EOo3r4cP/nu4ygafD7uu24Uiv4zF//+bA+KSAzxOQNw2XU34BtzRiI/yYHW/dvw+4efwAuLi9FCsnQHluK7c9bBQVIz9JuIP//xq7hiaJIGpnBv2O9Bbek2vPDqUrzw2lrsZ33jcwsw5/prcccVY5AdR+cUmdcjkQSDPtTuL8anCz7AM6+vxbbaRnrchZGeNhAzb7oUX5tzFnIS7SB9EwcfqvevwzNPvoXXV+9CbSNxTHThnOtuxsPXnINclxX6cBM++MPD+MV7e5Dzzd/gpZv7g54YJEY/6ko246V/vo3/LN+M8jqSZXwcRl92Jf5wywUYmGznG35yc1/yTJs5dVBRVQ9vShbyibEQ7YEk7UKINy8bA00hbGmuQFmNDyGaEFU6PRDoHaTVGUu+ROxRyFPl8FaLuypboY5N3CrbLne+UP1WCLQjoPXeMrCpgKeS81iiPrDN6MWDkEzSUrsRTz7wBvb3S8LISZORlWqFubICa0r24aPnnkatIYjf3nguBifZOZHP+Q9qLF5qGU1rPsRdc+thGTYIMwfZEeqXAYeBDggBLzZ/9Dp++dB8FDsyMXDcJFyS5UBpSQkqSjbhwYdLUfLN2/H/Lh0BpyGEEDUt0dZqtq3CL+9dgXByPPKmjUeupxlFu0vw/O8exW79D/H8LSOhd6Vg8uzzoA8sx39W7SUBxGPCNZNwVowdJtcAjBOHpPYkhOPZuxV/++0GeJ2JyJ0yFrn+Nuzdthcv/uGv2G78MZ69ugAWDgTDXA5QtW05fvOTf+DdMhMGjBmOOZMSWNcm1Jbswn8efwzrim/GH741G4MSqUlWbMID9/wJCypjMOqcCZiWZeH72IjqBa/gV3H5eOpaWkQEK+Yru5v7SJaiwUZo2vRXbsejP/srnt0Y4r1nYfysGHDiC9VL38f344bjjdtIbidLWpEQGutIROXNMKXGI4taskHmwQ8k6S9EW8zEgHwzlnIT24raBpKz86TLPJC1+tErEOgdpKU1djpj+OiU0dYKnacarUs/5hwvnS/YABGfAmdirGa+6RWoKSF6HgEhJo66wzSNhdwtgI+uAKs+RlMT2ww7MX1sEpxJdH3n6lKrMwdX3nETYicMxOBMLqMQViORbFv4Dv7vd69g1bIdKJs5TiMtGTLJ8osQ8y5m5583/Rb8+H/Ow8y8OHry0fzHPjFYWYhnH1+AQqTjxq/fgtvOH4o0u4HOQm1Y9/E7+MWf3saLC1bgsrMHYqiLNzA/2QW8cn8dhpx3Ie68eRqmT8yFpbEKi1+ei58/twzLXl6KwuuGYXhsKi64dA6mJEbwbmEZTXlDcMe3b8QFiTEsW7bSYX6dUlt1PSJTZ+G+26Zj8ph+cLTW4ZN/PY+HXl+HT5//DDsu7Y8JDjNCjeX47/PzMW93COOuuQb33jkLw+I5EKQm2FC0AT//yZ/x8fvz8drkMbhvahrc61bj/XI/bMPOwy/uvQgDUqkd6dwoW7UJm5Li6JRJOQh1mGbDcHv9+KVh11a4GR8XtyKYcz5+/v0rMSTTyXu9qN64DYstCTRZdiaZTpU5jp8Ryuv1tMLtDiMjxQUnzaCaLIfcKybCOCQlmeDd40F5TSP8kX6HXKH+6LsI9DxpSecjrb21CY0fPw/fKq5spx3fW14FL4/rTHY4Bg2BM9mlhWXpu1AryU8pAhzlR0gSzYtfxu5NVjKJF76KKng4byNtxjpwMJxpyTDSdGjkZNfFt+Zqc0ohagJBzrGE2OemZOVicFYMllfUo6yVJsVOAuo4WEqeMAMP/eRyTM62w875JkleDqpKF3+ADysA16SJuHzaIKQ5uP8PO3GZsxk9agzOGbAE/96wE6upmQzg0g3NWMD84oeMwT3fuQqXjCChin+2rR9mTB2Nv81bh6bSXVhJLXFYNuXlXJuZ52WfN9lV28T5XivNg6QYDtxESqFWGc8xz+Hjcfc35+CaszKpcbBSDhtmTx+Ffy3ajuJ9hVhT5ceYOBsad23BR9sq0Jo4HDffei5GUJsySH76CJKzh+OeWYPx3t92oZCmwLKzk5DCuTe+mAjWl6Cq0Y1BGbGwWRMxeMb5GEwoaEDkXJUmxmH/iPyaVaSxBMU1LRiWFce5MGqX50zBAMoo/51skjnH5spq1HgisFvENMhadGOCkWNJiXHQbQ/Bw3Wg2pzcyRaq7utVCPQ8aXXAwZGvv6YSgVoeYIPT0dvH6ODk8KDJyLhgBie3+RKdfFvvKEV9n04I0FQUqK1Ccz0bhrQZaiIGOh/Y8scj46IL4YizcDxEbYy9aysHRdX7CzF/4Q6s3FpCZ4sA1/rUo3RPE5BIpwGS3YEknSDJwpqahaEpJBHRDOQYk6wn3L11F9o4sPKs+S/+776tsJmFTmTsRSJtacO+HbXULGLQzGujt7GL5w9TQjz6uaixSEerzcPQOSE5Ef2pLeyGOHVEHSOkHOl0tRJFFPnd8bec7JTMLhcy42k6FDKgFhaJ6GBOTUYenSpWR3ygIqqNCavLylHT3EKnprV44v7f4yWa1SR/HQeGEeLo2bKLc1kGjhfpMEJHDvvkGbi7YCEe27EG9/6oApMunI3vXXEWslJiYee6J8sRHCnE5dw+dhJuG/YJHlyyFf/7s4fx6oxZ+N41Z1PL5dpLJx0xOA/5edadyfMUvuw8yOgESftPnUb02h8yKFbptEGg95AWG7vBzheabrMygrSlj0L8zAuRUJAOM72BTtIEfto8KFWR7hDguhx63hnp0SfrtGypwxE34yK4hmRoHaNMyIfodddWU4rnHv07npq3A2283iwB6USLoGecm2a77pZykSM0opD5Evl9MImGwfkb3ud1e7BjdxF9Dw41d8kiZ1dmFmLibbRURm/uyE/+FkeHaBKi0bN9S2Fy5MQ6Vy1P3iuExkwPJAPrZyLpSpaiEWl1pYapaZlhHXbuKabmGCXajpsijECTFJeA+IFp9GI0wmzrj+889xukPzoXz83bgMXPPYUP//kqHTEuxp13X4QpyY7uXfBZHxNd4W//0/1If+YNPPniSqx/4wVcP/dtjJ59Pu76/hWYmUpTpzEaK7Cj/BP5lmct9QpzoHEwkk7XHPh8tYGIPD8N3K4XqL/7KAI9T1ram8UXOcaFxDl3Int8f7rssqHpKZp0GFoHoxpdH21fX5zY0ilbnUi46E70nyIu7+y1xZOQAxwZ9NCuppXtJzHtfOVJ/PbdfcgYfTZ+9c3rce7IVLpsR9CwaxP++scn8FTR8bcv6QCd1DQMJhtyJl+Dv//mYuRTa4kqHiQI7X+Jum5gJAt2zAxV9nmSKAmaRfDzZMIu3mql8wmDyhqTx+OxuV/HuYwWIi+/1p9rmggx4B8is8wD8hWke3o2rr/3u7j4K5VY8v57eGX+Mix54yVsqNZh/q8vRS59G4QSD03Mh/hbrBm4+M67MO3a67Dmow/x8juf4dNF83BrlQ6f/ulajMygN+Txw36gCOkPbMkJoOEPFVxM7qPWFSWuQzOTY5VVdYgYUmBmGCdx/Vfp9ECg0/isByvElyUi9nsz4w3a6HLLj44vj068v+StUu2tBx9OLy1a2gQ7Rz3nrPQ2B/R2fjinpLUZITCtNxZHAbo9b9+HgCUWg885F2ePzSDpWGg6MrKzo7ZEUjuRpGenOWjcCCSzfG9VESraqClx/sfGdU52muRkrZPkLXNSMsd0Uk2XsndoB+FQExoY28/HwK9+rg0LdacWHqMCMt+WmpOFLLqdm+t3Y1OVLA/jGiuaJTvWZ1mprVoos3TuWqR0rrMKUDuTJQWxaemYef1N+NUd5yKZ0Po2bMC6RjpOdVcuMQ0wgkeQ93L0CYcrEVOuuAo/v3Mm8h1cu7Z+DZbWBjQHjhCv83EtV0uLR6vf8VjxxARsYf9gs+nQxnt9XHfWse7uoDg0eYZb0dAUhNlpR1pyHCzt7eHgNepXX0Wgd5BWX0VPyd3rERBHhuRELkr3ulFTXIGKFpoL3W40NhTjpbn/xYc7m7UO9HgrYuR8T/KkizFnsAF1+zfijecZZqm0gZP9Pnq0MXhtQxOKP12G1z5ajUouUJY1uSeahOh08bGM4kCfpMBerFlfjZbWRmoOVZz3YuikE0xiTovNH4mLz0qHTV+Bt3//Mj7ZXIGWNkZBZ35umjmbdxXh47lv4rNi1sXXhCXPvIYnF2zCHgblbfOSXIKtqPC0SeAmaqnUdGK66zposgu6se61BfjnW6uws4UBfWVBN9e+Vfva4Oa9ep0LrnjeS4YK7NuAX//qL7j1209iQQk9h3n+WMQlFpjY+FR6BhrgrqmnTFyDRVPtwSSqLtekhcqwd7cf8Q47MpMSNIeWg9eoX30ZgZ4xD8qohxPGmilHFhRzNCcfmUhWSSFwZATYPkS7am8zEWkzYg6UG47QdIzU2EdefyEmzPs3Nn/wGr6ydzkGxnhQWsRRemsbQxEl0DuPi9lFO9PyoabBPMVEZuJHa5Kd8tbOxffDV352Ldb/YC4WvzMXGxa+jfzcdJoEjdhHYpQoGAlnz8ZZE8Yi2SztXH8gP7FSHRj0i1ajlSXlR7Uc8Vrk/zDkDsbsglisqq3AvN/9Gov/So0yYwwe/NWNmM0F1OJZaGR5IqMWdy8qPf8VLY3zw7TvSR3kW7Q2vd2F8++4EpdvL8X8rUvw0+9tQAY1kCQSehE9dcW5QR+bgJsHTsPkzAjq9q7H0y9/gH8+aUFcRgoMdBuvrq5CC0njonuux8RYmhENvqgpkbKYiJ9odBEd11GVbMV/3t+Jp55mZI7sNMQ0kvAqytHsjmDGfV/DjAQuuqaeVrd/N5YtX4fN5Yk4r5VmPuGe7rjwQN1YO2KZlJyKAf3TYF7cSGL0YLpE3OhIMkiQua6SUux06xATk4LMZJpzBXiVTgsEjtFEvsg68uUyJcERQ5NFrAPmOAcssm7kwBv9RZat8u57CEinwzZjcNEDjduPsM1Y4vlxHd2r1GSyIGPIRXjsmW/hawO4zc3uYmzcWIfUlBH47g/vxl3T85DIfOyWaIQGMT+Z6EodHxeD+Biaq3n4kO6OB/ScG8ofeRmee/Z+/OyK8bDTBLluI13cN+5AY3o6ptx6M/783QvQP4HzNkJKlCE+jvNvIjOJpHP/KSGXYuNZFs85GU1CSFKcM0yOfrjt0fvxvUuHwBDwMX50GP1Sc5BDc6gkE+eoYpmnyGiVCah2KTWCopODM4Z5sl5OOlWI84ds1RKXOg5/ePpBvPSzqzAywU6CLcPKdVtRQvNm8tnn4xe/vQe3j0tknRNw2S//Hx64cRxcxkaUrCvE/hIPEobNwG+efgKPXN0PCTQnGkhgdqcDccQqgWvBJJySXufEeffcjl9+bQpSYltQyXt37mmAPXcyfvTII3j6K1lItJtpggxTy/Mw3BNNiTIQkRocT28kAwAuI+ifmghXZD+WrKrXzKaCSTSJg0YQexetwnbinjRoEAYlmzRC7bhCffdtBOjxemSFXLyNPGxY786fh/J96/HVGy9AQgK3ezgliUMixiWTPXk0CfhyywssI+lDe4lTUtghmbS2uvHgH5/DhLFDcflFU7RR6xdd5iECqD9OEgG2GXruRRgmSGszHODo2EFr7uNHGuzIhTQfiYt7UOIFaqYk0XCojQhB8L4Qu0zRtiyyrQZH6dLufZxv0ZGgxHlBG6Ufwlw0FPAaCWzrF/dr3iMLbLVQZOx5jZwbkhiEEntQJ4tvSWriMCCxBi3U/Awkpai4Yk5jHjShRURTMYj2Ik4cLIz5hSRuH+MbBjiPJQGCDdQszZTTzDVjMh8U4PkwyxEtTebQtCRyME+Jd+gLcFsTEpKFxKW1bxKFeNwFxN2f8Rm1RcG8SeQWTdPE90++hagj1F4CnC+SebSoiZNYC2GwHDPXYWk8yRN+EmqYVpOQzDWRkEV+wUZ2VdbqLJoPk2jEmlbIew1EPNRWjX//9nH8Yf5uGG7+Dj6+ezySYm3tuETv6f5fZhjyY+1rL+Cnf56PotE3Yd4vZ2MgXfEFU63u3hq88J3v44drDbjh/h/gt1cMg03CfAmuKvV6BPYXVeCZlz7GrIuuxvgJk7R3UN7XjtQz5kGtdDYgWYQonw5p1LdC4KgIsKWISVA+R72u00npyaRTlw/XIB8zaZ021xppi2uPfLUQmngI2khqR03sKMWz0cZ2fnjiOdbF6uzmNaTcBnHwkM/hN2rby3dsMX/Iad4nzigauXWtLwlVPHNlnRQ93I+adCRcixD50a5j3cyGwy+Q52OWT9fy20uUXcnrdmzDRxsZ0Hj4DPzqa2O0QMTyqI6deJHejLzRQzEqdwW2rF2HZXXnMWZihIRJciQxB0rW4431XiT0OwdzJmazvsSys3p77ELUFb0YgYP01YuFVKIpBBQCpw8CobYmrOZcVnFMHkNUXYiz4w5GHDmuWpK3YnMGYda4HDhbd+AfC3bCI56VEukk1IKVbyzBNmq3oy5jqCoX99oSDeu4CPG4SlcX9TACirR6+AGo4hUCZxoCelscJl55HR779e24dEQaNaGos8jx4yAaagwmXnwOzkp3onnBRhQKL4l2yqjun3DO0ph/Pr51ZT4SuEWMSqcXAt3YJU6vCqraKAQUAr0LAT0dXZKzc5H8OcQSE2RMwVT88+1JNP/KfCDn20Sbcg3G/c/+GffTHGigSbZrgOHPUaS6tZcgoEirlzwIJYZCQCFwIgiIJykXdtOLUWx/slwmagGUqB6iXbUfO76JshMpWF3bwwgo0urhB6CKVwgoBE4SARKSRCjpmro71vUa9XffRUDNafXdZ6ckVwgoBBQCZxwCx9S0ZBmXrO2QWGJ+WRvC9SZ9Pcl6nZCsV+FaElm/o+dvtai5rz9VJb9CQCFwOiAg6w9lraRsnNpdOippyU0aadF91M+MfFy9LtuQ9/Xk44JNIWEBx8s66fUMDNrXK6XkVwgoBBQCpwECXlGOuEBe+ujuYl8clbSk/j6fDyWlpfjg42XYvmMPdy89xmLKPgCalxGsC3fs1z4Ll6zTtCxFWn3gwSkRFQIKgdMeAYlYVFxWh2GjJmkaV1fiOiZpSRib5ORkjBszFJfOmsTozvY+D5qHYXP++cJ8DBuSi6lnj6bHrJra6/MPVVVAIaAQOC0QKKusw/wPVyMlOUULt9Z16uaopCXxnuTjcDiQmZaMEUPzTmHswZ7Dt41bMqQkxyM3Kx2jRhRESUupWj33QFTJCgGFgEKgHYG4+Aqs2rAXdm4r0znmYAdARyUtuUhYTj5ys7ajaTcuph2Z9ZVvCVgq9ZHYcdqWCvxWk1p95ekpORUCCoHTGQEJAC39s2x1011SdrHuUFHHFAIKAYWAQqBXIqBIq1c+FiWUQkAhoBBQCHSHgCKt7lBRxxQCCgGFgEKgVyKgSKtXPhYllEJAIaAQUAh0h4Aire5QUccUAgoBhYBCoFcioEirVz4WJZRCQCGgEFAIdIfAMV3eu7vpVB2LhIBgJPphiMPDEz0eZdNR8UjX9so5/Ap15AxHgBHGwA1rtXbUHRTiNSttyCSrGvit0mmGQCTM2KgRhKQD4UcLO8efej2Xs/Chq2d+mj1vVqdHSSvAxlZUHsS6Vgbk7Ya0uI8bjFYdRqQYMThWKYWnX/P7fDWSfqqhOYSNVUFUBthndZOdgY3IlmDARakGmA/fxaKbO9QhrfMPS88ve1TxJeytZC8kxRh1lTvWY3skAwNMLdhdUotmrwWZA/IxMj9B2wTSIKMWlU4bBHqUtNr8IbzyfhvuL+VwubseR3gqzoifzrLh/0aae5ZhT5tHfvpUJMRBz5Y9Pvz0PQ9Weo9QL2nhg6wovcqOTNV5HQGkToeFCLjrgY+7H+h0XOBplN1/o0EGOl3VO34yoHfI34gPH30cf/cMxbjYNtS7fajZVIPI4Cn4xe9uwoQksxZEoHcIrKQ4FQj0qPrCIL6oppalqVnsgLQkgyKRquPDTsekjfiip9W/CoHOCLT6ImjysO0E+BHtQNrPYW1IB5OyE3WG7ci/SQTB4s341f89im/dNw+buBNCsOPdPPJdPXImIrJWF2LRFjfq99VCN2QavvnNW3DX9GTs3bQe6xsoO82HKp1eCPSopiU0JR+tk7HpccnZNvx0sAnmdioV86CeEmbEGKAsO6dXwzsVtdHaTkdGQlR5FiycbYOV7adjDpQRu2Bi26KFUKVjIkBE2ckHa8vxycKVKG314RLfJRhCEGUD+96WwtQKw3v2YoVbh4G3XIv7rhuONIceyxeGNe1Q5rf4v0qnGQI9SlqHYMnOxcV5qyHJRtjbSUvITJtI7/j7kBvUHwqBTggIaVnYfpL0sLGTtcjfTNJ+dBwa6UMBtDW2obbZDSMDQCclxMDIUZGB50JBP5qbWlDb6kesKwEupxWGcBCtLTQ3tfgRE++AWRdGS2Mr2rj/migeNrsDzlgHYu0WmIxsoFJeu2nN6/Gghfc2tXqjDgIUwmi1I8Zu5y4JVu16mWeJBAPwtFGmRspk43mrgTK2oI27EASZoZlyxsXEwGnjQM7U/hJIL0yN0uf1oq1VyvDBz3kd6Zvt7TLFHJCJ1zH/loZm+Ew2WMxG6L382+2HJ8CO3WKBI8aJhFh7dKDIOjfU1qGmvA5uyuD1tKC8qBS7udODg7InJsXCYTFRa43A7W5DM+vY4vFTHFbeZIIrLg6xDivMHDF0jcwtz+J4U4QmmCCfieDd1OSGXyrH/GNinTBFAnC3+GCLj4WVmBTvL0PYnIOLLhgEl8PIchuxv8iNQP44nJtF0yBj2Kl0eiHQe0irHVetr9H+abcQss2pqYjTq9F90bXRuqmONsRv0bbCbS1Y/8Jc/OjZD+CbdA2ee+BqDIgT/SGE1sod+Mcv/45HV7Ri+v0/wj+vHUJCqcd7v/sDfjCvFd9+/NsYVLUWc5/7FCv2VaONpJE/YAxmXTcLt1wyHrmJdhKRDmHuhN3a3IDVny7HG699infX74GbxBRhh2vPHYJLJ03DdVdNxFkD2PnTuy0casXquc/hB//4BHm334fbUirwzr8W4JPdtWggOaWPmoCrr7wcN18yFLmxFvAWbb4pEGjBlsWr8Na8z/D28j1oCvggG5sWDB6HC6+7ADdcMBpZLhtloqNK6Sb86u7fY2v+VNwyayga3puP15fuw37OWzlTM3HeJZfhjpumYWSaFbq6Ejzx0J/xzw/3oa65BUHDWvz8xp2IMRhhyhyJhx76Bi4ZkoRwoBHLFvwXz7z5KZbtaUCEO4H70jJx3U034p4Lz0J/lm082Z6Fml4g0Iwdm1Zh7rMfYd5H21DFpxRJzMSMG+bgSssuPPjYWoy+7Xb87M6x2LWnHKEhUzA910ay5IP21mPPfh/0I/qhP70HFWl90W/bl5//yTatUyupjKQ4N7Fyhx+/bgpGTTscnVroOTiuv1nz/BKXZZUUAkdEQNpQTRC/XezhHCgHPO2jH0eKCd8fwk7XHothF47HlNVr8eqSBfjJiwPx168OgyvYjIUvvoO5m6qROf5W3HfZAO3+sHSe3EHV66nBx8+8iHmVtXDlD8BFo0bA2FyLpR9vwNOPlaIhZKNZagyyY43wtDZh0SvP4tfPr0VNOA5nzZyCDIcJYb8XezYV4t0XnsHy7XV47JE5mJgco20nHtTK8GPX+6/gR/uakDI2H+eNGEUTXQnWrFqPxx4sQovrfvzi/P6wU/vyez0o/OA/+PnvPsFeSzomTJ+Bggw76utrsK9wI554/GlU+u7A9y4fQzK1cD4qqNWjYstaPLpmI+z9UjB0znScFXBjx7ot+PBf/8YeUzxe+cY4xMe5MOWS2az/SvzjvbVoDCZhyldnYiK1K4crGxPSY2EgCVes+hgPPfJf1MdkY+YV5yA/xoPKknpUfPoZ3s8rwF0TrXwY7aOGIz6wbk6QqEO+FmxftAA/eug1bKt3YPTUczAt0QZfQynWPP0k/tdiQ43Fjovy0+DyVGL9TjccIzOQwXUxHDZAV1WPnQETzh6VQ+1USKubctShPo1A7yAtgZA2gJ3bffjjDjZ2ae/yoZ3w+ogeU+iu7JJrVFIIHAkBIa3aAP78WfBg+5E2lBPGzZwnzaKZyJFdgK9efy427pqP5S/8C/8e/D1cYdmJuZ9sQq2lP375w+kooAlNxkcyXxKiNhIK1qFwaz2uvvsruGlmAfpTqzKTtN6OeRK/em0TFi9djYumDEQ/ewya967Bc88uRqUlG1defw3uvGoM+jnMiPg92L70U/ztH/Pw/op38bdFYzH6ykEw0M4o8y4hLjYr31aL2d+8HXdcNASD+8UjXLMf7zz6FH74zm4sn78BRVOzMJADOV/1NvztkfewC7m48us34WszhyDVFu2wNy9+Dw8+/Dze+XAFZo3PR1ZCEqeomD/LqKtsRcF5F+B/bp2OSaMyEEvSWv3GK/j1vxZh0xvLsf4ro3B+bDwmnXc+RjrDmLtsK81webj+1iswm+ZJp5VmQRKDn+bF0rUbUBh0YtasC/GTr4xBgp1mx2AL9u6uga6fUzPJHukxHfk4saBjRX3hevzj6Y+wrsyKC+68GfdeNQ45STZ4a4qx7I038csnl8KcFIeMpHhYandifWMYYwbnwUKC0tNIWr2/GHXhJFw3KYVLHGj+jY5ejlysOtPnEOjd4xB2OvS4hYzbVFIInBQCZh1itRvpTGCyY+C0i3HvFQWI1OzBa394Gg/9+yMsKubA6IbLcdVAB+dJOo3jSBIRdtTDrrsJ37t+EkZlpyCRc0AxGdmYeuP5mJCiQ2llNUqqGrU5mL2LPsXyGiOGjJ2KG66dgEEpnOPhfFFcQgLGzZiO2y4digRLAz59YzX2+enZRkIRhtXR7tfvkmvxy2+ch0kFmUiNcSA9pwBzzhvEOZww3GVF2FvnJ4kGUL5iKeaX+BBDU6CcTyJhafvDUc4BA4dgJs1iLZv3YVVxDceBJAIpgfWIHzYKX7vtYlw2eSCy4mIR70rG5AnDkJ0aS+1kD9aUBkRPoVmPWikx0Iu7O+WymE2wWs3R+TCa3yQvp51vpKcV1fuK0OQO8HozYuPTMGb8SIzOdDCPk+hWRNZQI5a8sxjLttagbtws/ODmyRiRm4wEYp6clcd5q2FIM1s4x5eKjBSaZHPH4Dd/+Rm10BRYSVCyD5Nr3Pl49C934coMB0lW5tZOqtWom3oxAp3e0B6UUhoWtaqrzrPj9yPMmveXNrfLIa+TroScX1dJIXB0BKQNDbRh+xVR70ET/5Y2ZOeghw5ldLoQeuDGn/Y4jL39Ztz94Sb8bec67N1lQMrUy3H3BUMRywVJ2sicSzEkSYcn99gTXUigk4Sc07EjlKO2uCzk9qMWVdqKMjoM+ELJ2LlrH3x0bkjqn06zoKwPandIoI3KQLNWbm4G7DS1tWzZj53U4nLo0MCstPzMSS4ktxOQziBUw3afm4mB/OWLBOlsIZ16GPt374Un6EPVqjfxk7vXaPM4hvaeOUTHjPqiCs595YJrrVl/LXOtCKPDifgYzvuILFoduKkry8xzsvOHD0E6ZkiixO3f8gd/a//LP9HjQlCZF8zGZfMKMX/Rm7h011bccvNV+M6sAjp12OiwYaXWEyU3LaPj/YdaVqSyAp/tKkFVyIV7vn4+MpwWEmC0XKlQqKQcO0mm8bFZSEsludJRZfAg0eyEYKUgPpf4JAyKpeMN5W2/83glUNf1EQR6AWlJ0+KHkiSQuNKd9P7qBVL1keenxNQQYPuRZmQGUshQTg52up8DFdKR3apjMaIgBZHd+7iOJx4DC7KRmMAOUkxJ/F8o40CSzk/Iqr3Tjh4XjcTEe6jDlfJq6XCpKUi3H2bBDnomxrSTW0c+0rHKp6PzF/OjkKokyVrOaeSjHdMOaB2vHJP/Oty3o98h9uFmegF6YWGnrvXX0ZxgJdENSB2IjLS4Tsdljo/XCYlq10X/kTrppW7yp1Sj0zntJ2XsmvTUwpLyxuFnf/o+Bj79X7y7dg/efOQ3+M8fMnDxHXNw27XnYkJqDOeTOpfUNZdu/qbW2djQiNqGFvgzh+LighhYLe0dAbXNUNCNd99bjTDrEHfuCAyhRmiUCatDJq1YJs+fBpurdwOQOtSBgKKHDiTU9+mPADUVcW8v3fABHvugHDG5A5AUasDiBe9hwag85F84WHP9PkgC7MuFjNihhoWYtNkuduQ85vU2o6SsERFLKuw0n8kC+Bi7DTq6iTeW1qGWARETosY5DdcI3ck9bo82fxWhRhKnEeHxQ65RF0nGSY1Jr6e2M+oi/OWPV2CouMMzr4OJVwoxk1wsHYR08OSJ/5Lqdr5LSNRgQvrAMfj2A8NxfdEeLHzvY7z9/grMf+F1uCMO5H7jHGQazR383PnuI/4OMxBpY2M9Gpra4E52IoPkr5E8Sw8xOkflts/wytI6zjVaMJQaq5hEVTozEegFT15eCX5okmmjM0aTN4yG9k8jv5v99NHg3LpKCoEjI9DehthOWnxhNPLT0Yaa6JXK5VdaVIcAXdI9uzfg0ScXYac5GZfcdTu+d91E5Lr34t9Pf4IVrR74JPpuexLCou87SpYsx9oqN4nKz/VR/JB8GrauwWclfiRlJCMvPZFmNwMG5efAGPZi7/ZCFBY3aWud/PQO9Pt8aKurxKr1+xgXL4KEScMxhJ1yh1mvo7yjfpOX9Cwjb9QQZNKF3l+7F/vquDSNv202K9do2fht4fyTSZt/MopW1ZnLjpp5x0neIOWQ7PQ0XUYijaiu9UPqEKRbuzimyLefGMjaLD1NTaqNCwAAQABJREFUhSn5Bbjs1ltw75VDENvSgpJdpaj2cJ2VDBBYb0+bF61tND92wrWjtEO/mS/Xt/k8HBxwgBAkUfn9XIPm9aG2ZCeeeOZDLOMaO+jiMCAnPqplHZqB+usMQaB3aFrS5zAUz8uL3Vi/jup9+8sm1hQT7fy30IX2W/QAUw4ZZ0irPJlqCtdwfc7M5wLauj722VoSU1Fsuhn/mm1Ciq8Kbz31Fj4rbEbW5d/Cd2fSMaJBj7WLtuC1rQvxjb+OwMp7xsNKN3UtkbRkAfC+5e/jlz/X4c67L8SUfDtaNqzArx7+APtabDiXnfagXJriaK5KnXYupr+wBgvXLsLvn+ai4+/MwfgEO0ItdXjvuX/jiQXb0Jw0Cvd/bQxS6KUY8bULGS3t6P+2azjxo6bj65Pm4fcbt+Plx95Gwf/MxpBMuqKTaEIeL+o3bMKiljAmnTseQ1McR8+zu7MsJxIXgyyS6r7QXixeXoZLZ7vQ1hLkQudE6CL1eOuhNxGYOR3TxubAxXL91FZ315OkdVwATE3QzggkYVkcvOgV3PTkFmSOOQf3fms2Bru4aPsIVdbpGFTAGcM5MR0cO5fhieXn4MfT+qOxfAf++tirmLuSrv8kfFdcNvJzTKxvLxhvd4efOvaFI9CjpCUavrilRo3vZK7mMHa0dKqztEsnMF1GX50Oq58KAUFA+j9xsNDakLQQxh/cVdXuRdEBkbRwMz3wqK4XL1mKF9buQEvWNDzx/cnIjGEwWOdw3HXzFKx45H3sefHPePycZ/DjyYysIPezA9czjlj/sXloW/sefnr3+2yqQmScUwrpkDd6Mu742nQMIMmJg0Zczljc++A1qP3FWyh8fwHu/uSDA510kPeEErPwzQe+gsvzErRYiEG+AHqyqpGmPBO/ZY4pWq5WODUrOkuQDA2spHTSYi4zxSbh5t/fiRXfeApLl7yNm1e9i5x+NFFS29q1t0STOWXSBRh61nipgKadGZi3mNNkzq7z3JyOeRroIShlG/nRaECO9RuAi0clYcXCUnz825/h3EdogswYiV/99uu4JC+I0p0r8OxHi/EAvRD7cV6vcm8pfNSqXAVDcdW105BtYZyRoBe7Nm7A1u0laE0cglY+m6O9wzrinDF4EM4bVYBtH27HWw88hHcfknkrHYIxObjjxql47vVl8J8/HlMZ+UKbfxSYVDrjEOhR0pIoAmNyjSjgm0peOixJwzRyYj2JHoTay3zYFerAmYwA+3ikxxswMsuA5jZZj3Q4GiY6BFBxgLGhAkvX70ejdRC+9f3LqQExNBNbvz5kQP8LL8EPtpbiNwtLsG35OlRPOgcpzEvr4OlwkT7lKvz02614/Il3sLW0iZ1vGkZdPAV3XDcd4/tJeCSqc0w2ZyzGTmG0jSdz8K+XOcezZDe8DPtksXIehotkL7juIlyYl4gYma/h9QadAc54F3Kz02FPcmja0oF2zrZvsMUim/M33sxExMo7wAqbLFYkpU3HX5/OxKdvLsOz721EaXMrt2hpQ9zYkZg6cSJuv3gs8pPsmkxmho9Kz0pHbroLsZz/OpDIUHqTFSkZqcjN8SHFHpVJRpAmSzKuf/inCP75X/jbh7vpMOJEwZBhGBHP0Fck0bse/yninp+H15ftRF1VHZwx+RjPSB/fvH4GxmU5NOcQv8+Phga3FgtbzzBQXHlw9HeYpGpKyMVdP7wVMUlz8fSiMnh1FqRNmIb7bjgX2RUrsHx9EXLOyoedD05MmCqdmQjoaLfv5lWPghFiDDAP7czvzp+H8n3r8dUbL0CCeEydosQpBpoWIlqAbm0Tty75Sqck60XobcwXocvJz/Fna6sbD/7xOUwYOxSXXzRFG40e/Y36HIWpW784BNhyxRVcvLX9dJboriFL3yYdnFUmTbmI18eLZXNAk4Uu6ZpkUc3Jz8bo41Y5ZjpViKktTFPiK/c/jO+9tR1Tf/x7PHXjQF7PlUwsJMLGIpqJiWuYxIU86gbPzMScyPkYmTsLMjp6gPM4UZlIQHI9559Eq9Hc6qXP5fsV4MfnYxQYymQ2MVSTqDtaf0wSpnYoc2h6lqNnKCUtTJEmgDgn8F6Z95EypFzR0sQDkfKYWY58cwpMy0Oui1CjkjxkEW5H/prGSA3QL5hIXUgG8s6xEjTv8biUz3rQfZJyGbT1WgatfG5dwnmuAOeteCnPs2wKLmu6TIKHhMbasxJ33PYw1tiG4raf3YV7p2TBwfm2oybWI8zy/Fq9JJ4ihWHZEtlCnqPgqeEu9ZMDIqtKpx0C+7ls45mXPsasi67G+AmT2C7NbH+aHUCr6ymkghPHjoM2NsKOltfxfeL5qDvOUATYZMS1mp7ucByzB5Omzo7/sIlRdrjiaScfWxTHCElH1jl19IriAGG1WrkUg513lOmiF3b9VzpvXitOGWau1zpm4nUSZcLEl/LwRKIjCdj5OTSx0izHQM1Lzh9WnUMv1q6R6w5PlJUvoFk+XTMRkuJaKyvJoeupaD4G2HiuHa5DsxbC87dg07yPsKQ5AVfceiVumJjJco4GXHsWrJcQtPUI9ToORA+VRf11WiLQo6R1WiKqKqUQOIMRkLBR4T2b8NhnNOXNuQn3XDMC/e3cwFU0I5UUAqcAAUVapwBElcXphYBmZhNNgtEdYmPsdHKILjymAqLSMRDQFmLnjMNfnhoGn8GGFEanF2cKlRQCpwoBRVqnCkmVz+mDALUCgzERc37xAGb/mLEnaOoTMzatVyodCwEyu8ERg1R+VFIIfBEIKNL6IlBVefZtBISdOPEr3q3iYCCTwMcxI9O366ykVwj0EQQUafWRB6XE/JIRIHGJV6B4w6mkEFAI9B4E1BvZe56FkkQhoBBQCCgEjoHAMTUtWQMSlphjXE8iMcgCXLvR11NHHDVZTyNrQvSsX+dIAX29fkp+hYBCQCHQVxEIcK2erBGWINXdpaOSlhbZmqTlD/gZ9NKNmromLvDrEianu1x7+TE3Y7S5PT40MYpAdU0j194ohbOXPzIlnkJAIXCGIFAncSzZR4uS1F3si6OSlmDk9/tRVVWFJcs3oJK7tNoYkqavJy9DzGzYsotbS1Ri87Y9mpalHMP6+lNV8isEFAKnAwJNLW3YW1SNsRMqNY2rK3Edk7Qk9ExSUhLGjhqMyy+czO3DTyJydC9D0kMWf+r5dzBsSH+cN2WsFipKuTP3soekxFEIKATOSATKK2rw1nurkJyUrHnudp26OSppiauvfOx2O9JSElEwIBuuUxh7sKeeSBv3Q0p0xSIrIwVDB/VnHDNlHuypZ6HKVQgoBBQCnRGwc1F/UuIuLu63afzT+Zz8PippyQXCcvIR8pJAoxLYs68nCSaqrb3RYr/xN7+PGbqur1daya8QUAgoBPoAAkb2x5rCdATzl1Ix+sBDVCIqBBQCCgGFQBQBRVqqJSgEFAIKAYVAn0FAkVafeVRKUIWAQkAhoBBQpKXagEJAIaAQUAj0GQSO6YjRZ2qiBO2dCDDaiCxSDzP6tzj0GL7sbSq4OF72Gg5yh2NJBm7k2NWFVjuh/lEIKAT6BAKKtPrEY+q7Qoa5xb2fi7lDOm4zb+S28fRC/XJJg2HIZOt4XwAM1gWLLrq/0xEck/ou0EpyhcAZgsCXZx6UgW6IHYifo14vYxnyE/Lx7wBPRAfBh0Mup3g+1Pke/o5IJKkj3XN4LmfmEcGO2sUheGvYyYkjQMLj8jxC7c8nwOcj2Gt4H+GWox+OwOcpxzNf+wbOuvS7eOCTcsawPFLhXXKSbds7yCbIGGTHeVuXXIhBCK21hfjxNbdjyh2P4uNdLQdkkPyDjHMWCLAtHq9cXQs4VX+LRigxPkUexveMiDwnWedTJdKXmo/UtUv/0NFPyLe0RWmb3bZFwY7t5XNhxzwixF+wDwRCJ4b/mf7svtSGchzrtE6ZPLINNzuJ6nXN2FvBl5IZ62kqsqZaMHBcDJzcu6jrWinpdD1VXhQVtqG+JRo8UW/SIyHfibxBVpj7/pKxUwZv14zkBfSUe7Cv0I3GtmjvZ7QZkDLEicx+ZpgF786JHYZsld6wsRk7i/3R/pKbIeqcFgye5ECC80TBljIZt9LnQ1urh7HErHB7gzQVRmXRipaOgo9V2xG4s+ojx4M+lOzeg427a+HqPxKTBidEd8DtInbnKnT3O0JNL+D3oZVRUFrNHvgZJDksnQw/zQ0V2LxpH9z2TJw1rB8SY83dZXHqjmn1ZdmCqzT2znWhCdXracD61YVo1LswZuQAJFOeL92ceupqe2I5sf6eGrbXDWyvbj7/Lneb7Xo4MuzI6meB3SlrK4lgR5Pkve6WGqxbtxutpmSMH9Uf8Q7TCWEXCQdQW1aCDdvLoUvoj6mjM2CiDLI9zTET21hTXTk2bCqG15GBc0ZnwWY2nlD5xyxDXXAAgS/NPCgjx6DHg+V/LcHSCjHVRBuEPdWGCd/uj4vOsnF32ANyaaOuoCeAoqU1mP9iLSpatTtgtBqQf3464gdYkHY8DapTlmfOz+gAoWRJLf47tw7lGnYcoZC0sqam4MKbUjCwn7ySB5M8n1BtGxY9UYJle31apyEvrCEmFtcU5GA8Ses4Xt+DGR71V5Q0/H6J5ByCnmZDiUpyoINmJxRsLsO7z8/F3z/cCde5t+PF385EmpgYT8kzZ/mhIPatWIiH//AeytIm4sH/vQEXD0s5qtSf6yQJS3ZLEDOlTha3s85GWdPeTtYhytOwczl+98Bc7HEU4Cf3fx2Xj02H/ZTU93NJ/qXcLIOsum2N+PDvVShhe40OUQ8WbbaStNhXZOXY0P/cJIyaaEOMne2BjTIcCqBsw2d4+IF3UBw3HA89eDtmDEw6obYSdjdgzX/fxW/+vRLu/Nl4+fHrkWM1cWB87FYf9rdhx5KP8eBfPkZ12tl44pFbMDIlBrbjuPdgDdWv40XgSzMPyuA2SE2rloTl9/Hl9fNDtb+F2sC6+Y1o6GwCkj6Nnai3zo/tS+pQ2SjbooTh430BMRW08e/OI/bjre0ZdJ10Am2NAY5AQxpugrm3NYTi9S3Yu8sHscp2TiGayMoWVWNjiS/6bARrmmQCzUG0ybM5lUkaA7ceKP/gZVx728P43aubUM3n3TnpzDq4zEH4vB7oUnVwnELK1MphX2RxhGELexCwBeG0HLtz6izfCf8mEYf2rscPfvAgrv/6y1itbb9wMBcp3WgHYsKMbm0KwGaj08jB06f9L2kSAS/feXe0bwjQyiItQgYpemqmYiJs2N+GzewPPny2BB9+0oQ6Dwc97ZtOmO0R2EJePssQ7Izp3VlxPy7wOIaLsdAC5PMg7AJi5YEcb5NgL+qwhmAMehCMCSGGD+5L61iPq3Kn10WddZsvtmbSKjv6JTYGO0fu0uD87Bh9HGHtqExGUhYn6dvf1DA70dbaVuzeEkSQ98YnmtBUHzUrfrGCnj65C+SSxPyWmGxGQy0HDDU0t+72oO1sJ+I6Xm5eGAz4sPUzNzycw9LTdGh3GGjWE7KKPjf5dco6URlw8OHXFhVh9brtiBlzDlpotks3t5vnROuyZePy+36K6d/yk1zsiKHXn4Gd16lJzEdvwoCJV+Ppt+YgaDSz0/kidy8QDDnoaqzF+vWF2N9iRoWP7ZoaF41IWpX0BiMS82bh0dfPRYAPzOm0H27CPTWV7725dLRXYZxx6bjvO0mIYTtEUwDlH1Xhw3frsa8tjMaiVix/3YDUJAvOHmenxmpC1ug5ePLN2Rp2sSeBncGUiIk33IW3L/0qRw9mxFLLMh6npqQ3OjH4/Jvx4sRrENQbEMv2aupqfu+9qPc5yb480uqAhg1TTCL6TBuyOeFZUsSRJecb1rzbiPF3JUHrOtipBalZNa9pRFmE11qsGDjCgI3LOLJiPqd43N8h2Wn6Tdu/9NHj4zFoYS12sLPctaoZVbPi4KSJUHsxOaoN7mzFjgY/XdN1sCU4kdPPi+2bOiFNYgsHA2iur8O+0jpYkjMxMDMeRm1+RkiI8wr1tdi8rwaOuBRk9U9EnKkLyTCPSDiI1oYaFO6twraSevj8HlQVF2Hdqi2oZkfhTErDwGwXzJEgWurqsKu8AfFZeSiwWjl6pQycI6stLkGlh518dirs/lbUVdWjpsmLCEnAGROP1MwkJDqt7DiOPt71uVtRUVKDVnsi+mcmwmppfx1IMCGSeEtTPfZX1HEvOZqrSCrOpETkJCcgnkN5kUXq0tLYjNoa4tnUqs2ViQwmZxzSUxKQnuDQzFcIeFC2v5jzi8Vodvvg8dShcO0WxJOkHbGxyM1Nh4umW74IqCguQ7PBjgH9M2FiDDYxIcr8m8wHu5tZDuta0diqjf8ilMnqjEc/ypQUb+P1fNasciToR31FJfZUtyAxMwuJRj9qSmtQ7/HDT/UhLjkFGakuxNlMjCd6dIxk0BLme+ppa0UVsZB6+kXzNhk5mIhDvyQXXPFW2IidtLMI20h9WRnKGjywpmUhNtCI6up6tAQ4EEpOxdDsJK3NHNXMKxlRLpvTyLZkQISfvFuy8P/Zuw74KIu0/98k21I2vfeQEBJIgNCrdBClCNjL2T3LqZ/tzvM8y9lOT8+zd1FOUc8OKiIgHULvnZBKek92k235/s+7CQZIAGmhvPNjye5bZp55Zubp88zNw33w0d9ysb2Ufsm8evr/atGliwH+XjIvLNifW4haDy8kxZGKcAwtxQXIKrPD4O+PuEh/+plaTNwcOwpJ5fn5yK9sgN0/DF2C+U59NXJzy+D0CUYKVV03wuHuRrM550J1RQXySjgXqAk6KFTJXIgJapkL1A4tdcjPKYZZ74sUti9n9LUeu/qqShQWERc8dkN4cxNPz/D0CkBsiB98TXpFo+Qrii+3lHMgp8aGkIgw+DRZUFJQjgquWyfb9Q8JRViQH0zHNHbnJkk7/UyLeNSQ0LlzwcZ01aCuvBHFVP3rt9RgX20Akk0cOa4Je1UDNqzmAPNZ72Qu4lAntnIuUxFQy+/BgPAN4lBn9EJKf5oGfyVx54LfkmNDXDiZlkaiBe3I2lyPykoi3s0DYcP8EL6vGLtkER1oi885aJ6Z8w0e+s8caKfchzkPXaDoCRoubEWTWDsHU+/5CjFpU/Cvj69CP0lEfGghMSlePRd3Pj0HRfsrFB/P6nnfYMfyOTDSqRk04Cp8+cJYBDtrkTnzYzz4yWrE3/Esvr4lVXGM26wVmPvvl/Dkcg/c8sJNCNqxCLO+XYO1OeWwkmLHxqZg2NTRuGbiQKSGHekYHSeKdq7FM4++j81dJuDth6Yg0MdF7Ow2M7K2rcEvcxZi+k/rkUuTdhMFp5CMHrj8kgn40+hu8NIykKNwD2bNXIi5S7ZhWVYptHoHCRytAVGJGDluOP543VCk+xjgrCrBF2+9hXfm7EVJZQ3s2s146d7n4Eeqpo9Ix+NP3ICLugbAWr4X/3non1gW2BsvPnYrhiW5NE8nmVAJgwTmzl6A72evwZK9+S7CZzTANzIFkwYMxEVXDcegaD30lPCdjir8+uZreODbHRh334PoVbYWP81eifVkYoxxQEyvQZg6aTyuHN8VUb4M9pA50lYhsxSNuLwoD7/OWYSvv83Ekj35sNK0y4P14B2RhIv6DsLFlw3FiC6+wscYAFmHZR++g0e/24aedz6MtO0/4rNF6+mnorZ/0Y1Y+dRFVHJb9Mu2GhWhltc599wo9LgrZlte4PemTgEYf00tCl8tQ5X4JNfVoewif2pFDCDatwHP3f8GNsQMw3uPXYvUYC02fzsdt72bheTJU/HsfeOQ2FoIsBTj6xdfwUuLs+F3/WOYfV0Uchb8iAde/hGWUbdg7sMjKQRQu2eARgHnwmef/4Ivlm9AQa2H4nsP6JaBm66cihuHdILezY789Uvw6GOfIid9Mr76+yWI1Lt8xk4GFOXv2YPZ38zF93M2YQOP3XCKIODjjeCo7rhm2ECMmtIf3cM5DsrYleHbx57A87ubMO2mqxGWtQo//rIR22oscNAP2mXACFx+6ThMHhSPYGqE7Y5d26g9J652ENPihCS2A7uZ0HkbJbgsGyXWBmTvaESnXpSouShq1lNqz22imUiPTmkcYFM9bdvEebMN+5zA/mnshJaO7NiBAQjJ3I9iOq63ZtbjQuK6iUi1Flqwe5sZNQ2ALtwb/Yd403RXchB0wryaRAOhxG9lWLCmOQqPbM5lv2+5Z7MpvkvnIT6qA5WRsQR064v/uzMAO2fNwn9WliC+z0BMGJGCWC50n+huCCGxUAJ32EajhCCzTcWiyMZko7KENlvMXNyvTQfMdsRn9MGN47zRVFKAX75egU/eq0CN0xN//0N/ahkCeRtFtHkSPglvtrJ+mzTA4mSbZXs3462XP8I3q80IHTgEfxzPyEVK27s3bcKnb3+DxE4xuDjOAwVbt2DBr/tg7N0VN48Io2ZFv0zRfixauRYLZsxEXWAI3rykG0w+ARgxZRLNRsvx4tfLUW4Nw7i7LsYgRph5+odjYLQf6MJDIzU3G9uXE1vthEc5/I6MoyJvLz5750O8OWcPNIFJuPLmAfCnsGGrqcLqRWvxxSd7sGiXFW+9OgY9hEnSnyk4stIfuOKzT7Cyxg3JQwbi6hAvWHK3YM68lXi9sBKGqLtxa/8oGKnVKIziEDQ1cR2aK/bjy/feweuzdsDqm4CJ10xEBKV8K9veSCL+7cyPkLm3Hv5vTkE6tUUPxqTbOAcaGhqx+rMPsKYa6DZyHC4O9oA1PEbRHilD/f4iWiTf8uvlj1ifctRUc7xKyMwtTsTZRWaiD1aZm4I7mZUaxPbqgfgZG7F+204KHoMR46Wj9kMiwn7V5+wlzkpR3xiE60fEkx4xOIwMWo56l4+4JKROZ3U+Zn7wDd6bX4l+F1+MSZ2pXTlqkL1xN+avysbV/ROorTJEns8qOJd3D4wdULRlFV5/4wvMXJYL34QMXH3RUMVf1lBWjEVz1+C1t7diBaOpn314AFJMnsrYST/qKioxe/oX0GlN6DFuJAb66FCyfQ3mL/0VL1Y3IiLyOozqEtLu2P1+BJ89b3QI01LQw5nrxgXWLcOIpWRaNtqtC0Xa76aFPxfvjsUuqdAQokdkghGe1eazB6tnIKRuOjeYIr0QHe1BIcGBqswa7L0lACkeTjKoehTl0zTIMfHJ8EWCnxvKRUBoXYQOyGLk4nTw70Gh683PKZkv5B4XvMgWh7ELUkYNbf6+lNAvmRiNdaXr8dqqWnRK7oGpUwYjyUiiQm2LBiGI91KYpFKnEJDmyoSQC3ERiT43z4Gb/3IjLu0Xgwh/I+xlRUj3suKvMzZg2Yq12D2+O/zC2tD2muFViBL7I6H+LaejOsxV2LRwBQlSMUIHT8Pj945HHzJyrdOK/H3pmPXhIuQwEEijYSRben/86dF0+MUGU6gyQCPwNtYj3p/Pvj8f85buReOEVLibvJHepx9iNfX4YO461NRG4cLJI3Ehib+XXqcQ8iYHIzYFbxLFSaYj/VVgorltb+ZSfPXTNthj++CBmy7BhAsS4UMKbjfXYnePUDz9r++xbPnn+HhxOlLGxcJdwZGME7WkUuCah27AlYPiEOmnp0+zH6IsL+PJxblYvWI3JvUOR5xixj2ck9ip4RVSg/ji+y2oC07FPbddgQlD4hHKcbKx7ey+MXjquS+wcs13eOOXfnh5XAS8SFFkbghu92cXYsLdD+OBycmI8RVSw/GVdX9cXIuvk3FpaaEJCec8quE8YLCQhfhicwqupF2ZL4I3idD0j05GeqIJqzZlYzXNwBkxJnhqdcSvBXs37aTpsAZ+Ay7CpFiBi4xHwT/HsAX/nIPmkkJsotWhPCodd/5hAmICDUrUYt3wIuTavGBoNq8qAh3fF0Yv9ShjZ6nAsp8WY86KLHj2Go8nbh6D/t2JI64DW00lxqX64qFnfsL6Rd/j5/HJSBhoODB2VosdDmMYrrzzUlzM+R3i6YHarGTo697Bh5t3InN3MfolBkJPnBzR1No818+lP4eSptPTt+b1IedzRQ7wRTBbddJmWyzEcz8JUlEt1u+g+EQZPoC+r/B4qsH81ZY0eHoAPstbIb5FszUG6RCd5AkGpsFBX8y6tRQWuDiKd9ejpMJJy6AOKdSyjKQvpw7XJFo00+hJrFvOzXEno9Lr9LQ4kYBzToj5uP3ILRf3cuM76df9AbePTUWXqAD4+XjCNzQU/aaMQA9OqILiEhRW1B/YSHxMI0hiU19exv0+21BojcSgsRkYnBRCn4MXfPzoE0zviz89czfu6O4PT/rY/COj0Lt/EuJCTDTLScg+YdcZERsTiWA/TzRm7UeW+H+ozXrQtKOjWUx8He5k3HqdljigOY9+Fgl8aRPfZIJ2Sz02rNiA3bV+GH7RKIy9oDMi2VcTpXJ/nijec8yFuGVcOAeUBPLnDcinZqoIFNRom2jqTbvuetwzoTu60GcX6OOFsNhEjOqXAHcS7rL9JShmdCjpfJvFQY1vy+KV2Fnvh4xBQzFhVBfE8PBUH2+j0nbqBaNwy4VR8NLVYcHXmcijhtUsW7BPHuh07f14/LKuSInwh6+3D/zou/For69tQtDGRUZqedBkqJAQaUwYVhuPuYsPMjwKQ4d0R1xDLr7+ZRsq6mQrB4WCmjLuqcpGaZ0fBl3YHVES2t7MfA6typNmYT0ZpS57O37ZXMS56QYdxzgkvhP6JYdT6KCQ1RYT5thZyPBWbtmLYnMkLrtljLJ/K5RjIGMXEB6GAZdcgbtG+sBcuR+ZmbuoOLrGTnz+HvR1Dr96Gq4bmYqEYD8E8L2YpC7onRoJj8Yq5BRUoq6BDPJQgM+D3x2naRG5YrP2iPZBepwb5mU7UZpjQd4uM4yl1djP4ACNgT6Ozlxofu6UvNVyIhho4kJw89QiPMkLQSvqGFDhxJZ5FRgZ5o2crfWoY8CLO8cijWYvDw3Nf82CxYm02f67zUSn+QFZpBJA0NLosTTtxhd0nl7wVJiFS/byoHPbyxSBCPrqNAUMsqg1M7Tfu30w2rhjMdejuLQcttBkxAZ6K8yIdFaAI3HScu+NB30SvEAzmNXcgNKiXOzesBmfL96LnWRSomHYikuxv5LBEjFkOmSECoVt6SNrkrGQD/8d6LO0cGhxkvA5yAjyyYBtfoGIpv3Rh4yvZcOrEFAtmX1CbCSb2Ar73iIUsP1IpV5plvd5+qunXva30QRI3yN7AWNMGGL4TbQD/muX8InWkpO3Hw7fYCW4xZcMVvw8fJUwsE7iO55te7jvRtNOBjVwzXZu7oSMqc7bxK0EHnxHXji0d8fxm7iUKNeKImpU8rpoGQKOgshD6yN+GdWXnNoZSQlLMTdzCzZUDkJcoKcSyLN2Vy4scd0wpitNs4KbttwOUm9sEq4e0Q1ZJZn44PHHMPPrgbjr0mG4oHs0ghlEEeBlIAIPZx0yduaaWpRXVsEa1gVdGZSjJyNv0YpEE/Sg0JKSGAXND9tRm8dgC2qKwYIntitjq2fAjwSPyB5GjTvHjs8HBgcoz7i0WbZ7eNOHIuKc++1a7R3ULWXzKtX1VEr3Og68o9CMbavK8PPcesnoAp2JoaxpXorJoYNAPEeadRENyfsXHG9EcBhlFZpAHGvLMGdpJbZsFQlZg/De3gij70vWansT47c1IjJrG6XNi208d6KXpEtCDFsBKsRL8ht6M+SYd5rNNL+voRbTkINHfvuKNigVtRQhJiQ2QniabNw6sG4pHn3gBdz+1DfYuqcEBobNG/menpF8TTTHujJvtLx88F+6pI5aNFwTUoditmLdJhKxgza7KgSb2p3AJbXJ82Ka41/lN68rEXCKRNDcXPM1uS6lHSVLuSf1KPVRK/RkNKZB2mmFDxEcRMuQay68NTMTvi0QiSn4yFqz0syx/UdYhCg0UBgpKBcTIAXecD3NZoShFUwtlYlQwMYRkRCLrgnR0BXuwKx1ZQz8MWPH1u3YuM+M/qP7oFuQryuasY06NHxfwtmH3HgdXvzbtZjSozNCijfjhUefxTX3vIF/U3urbRBf2OGDKeOr4I8AWcnYAiX45BBANdQaZRyUptk/B4UE6aZS5Lq0zzXreoBXeU2ebzFEtDza/MZ586dDNS1ZbEpapt7+iPm6BjurHbSh16KJ0YQiQnknmJCSIBFubYlB580YnbSOyh44Y5QnYmIM2LStEY02K3bNqwJ92dAFGNAzw5OmEC4W65GblMUoi0shyrKiZNHygkJgFVb2+5aTUt+RqGcb4CgEgaY30RRaimgGDfRJFdK87NQzXFj22nCO/R4tXXwmnoyM0+6rRG5NnbIJW1w+LsLiak8EqvrKcsz74iv8kGXH0EkT8ciVYxiNycAW+jSKV83Fwy99iV/sylst4DX/JUNRKNPRcSSEV0yo3tSWPCprUVBWq2z09m2pkX130v9bw1B4pTY/mp5EKud7J6NIPSaaRjXV9dQoqxjc0gTu4W1mEjLeTlRXE9e8rgmi2ZBEuZUMcTJAcNXBNiUHqb28His/YYYXG3+TPoSkeCLUl0mY3dufsNqQSIzo0xlfrcjB8nmbkDvQiBVLVmOnJhwTunGrAdM9CV9oNY0Ohps40Gr9kUZT6JMDhiF30zos+GUR/ktT7PuvOGmuS8DIqMP9puSpigncSE1Yz60dO+sbkdF6k74ydg5UVFVzOwVNnj5GeCljd3Dz6q/DMXBK5tjhzbRzhQMrkpgu0AvJyQwR5WJurGL0DuPaJfwzerA/QrxE4jg5i7AdKM6fy1wU7lykcV084eVJbYHExlxMCsAx8E/yRiL3l7gLhW6jUOhTpD6XZNiEol05yGGEWIPVygg/5hc0l2Pp8p2UuJVhbKOGQy5xTF0Sow11tbWoraN/TWz6XNhH0lBaanGSOeybvxCZJdwobWEWD6ZHstBcV7x2OdOEORASGYZ47l8Sx/8xFz7q5eWF8NAgaOrzsWl7KaroB7E0cH8TM9Wb6yqwY+6P+HBtDfctsS3umbKaQtGrTzoSYpi2h5GustfLZuXeQwoEhxaBRBac01mBoiLpLyPdGL0okZIKHzvkBdFkxOQZw764W8uxcu1OFHLDfQP7KhGGCt6L9uDH5QWK/yqqbwrixFz6O7p8SJMH/RTfY6c4mq+s1Ma37EA2hQEzx1zGqVHGvnQf5q7IQwMZStTQNCTQ/HUymnYJJGRSzHjRUGtHA6ME92dyq8Mr+cjc0ahYYdwYEJHag0zam/PoCGPs5mFCt0EMUAn2hmXtSny/ZQtWrS6BH7WvtGju82MEZ7Ouc1Df5YeYeiXhso1WCTEJ66jtxvfIwFVXjcXAWH/ouA1hHbP2SGDSoUXGzpsp0IIDuZfRkovZS7JhNlsOGjtz/gbMZBYaD28vxHeLRYgydicDg4dCc2797limRVwKMdTS8x+T4aOk6pEhk49W54Wu/RlNozKskzbjBJVuXBhBqZ6IMDEoQGpWrmkR1YmBDEHtOJUVCEgcuOk1OiYCAUylYdn0I/78WSb2UBvZv3Mn3n/2ZTz+w7YDkW9HBFrhVrTZhwUgrMmMPVl7kZVbiVozAxfyCl0hw0esgJFz9PXkcr/XY3/+BF+sKUZpbR22LfwFDz49F2WNPkjp3IUbSg3UVGQ2HWuhVB0QhF790pBoNGPZ+5/ikZ92oLqGPr/i/Zj9znu44/lPsCirRtlgGkiC5F7CRKk7C1HKTcN19Ift27ka/5w+H2vzua+mNScS5PuZEE8i6XTsw/wluaitp1ZYnM9+y7OHy/qKecjghdRBvdArwIEdsz/HvR/Owca6etTUmVG0dxNeevwdfL6hBPZOY/B/lyVzwzLH9SStGdE6E4YNxoAAO3IXz8ZD787CKvqbBd7ifdvw9vPvYfrKAtSHD8bjNzOKkgxb5tTvwXhbIyOo0Gwoxit/2o4XbtmKF+7ajrdfyMWvK+tQyww6DNlD6giOU38GDTGA4khDLL43fXQiRiSTeZh3498PvYtlVl9k9O3F4BRaFiQAox2AnUwLtfPXBfj3y19jUU4Zky5TgKFPraS6iHtKzbBr/BEZQU2tLXyTsLmFRGAotbw470aseec/uPXzldjBsavm2OVtWoSH7n4bc4usCOwxCleNiIPvSRy7tvB6rlw7feZBDqyyqZgalJhsZCe+RE2JuO2md4Nvsi/iwqqwg/ZqcUJ6DApAN9qrhanJR0K2RfsSuUgJm21nop0rA3PC/RCccTV7UHPSkgi0RG3JGHiEUyBI0WN3BUO3nbzPCM3oJCMkKlmxxBL/gm95RzZ3K5Is8a1hEEJ4v8G488INeOq7LdjMTb4TXqWjWDbJ6oKRdv2F6PH6z9jD3+SNHCl5l98pgYuZy0Mxf8jAybgzMjS9N4YmL8HXW5bi3uuXMW2RDsGDr8GX/x7H5Lj0T7E9LX0BsrdG+Fxr25NE6nXq0xWaHQvx5J3z8BilYlrKCKMeaUOG4/YbhiKakYjuvC4wSHYJiUx0necl2BUmTJjkQ3hbpHWt3hs9h1+AK1Zl4cMFO/HzY3/HHAUHnH+EJbHveNw2PADeBisGXzQM/VZ+h5Xvv4ah875Ckkc58gs0jGTUw9/fF41sT3DY0l/3iE64mPuiVv28F8tefAT9X/GgubYHHn/6ZkxJ9ec8J4yERfos8CgWBuKg8+ALcMe9xah7eymyv/4CU7/6H1FBkxyr1jBC0C21N155/Xr0ZVSa+Jgkc4L0TTKCSP+U56TLzUUiGKUd6besJYGwrSKppcIZ1n/XX/JQ+5952DX7O1z3/bcuPxbblwhBJPfEky9eg8FBRiVohQen8bprTkj7bUbWtdGYwMg4F2W+enAcJXdmXZWMnQs6hXYw7Nubif0SGbE4arIJgUbpp1inBVcyX6Vfgjteb2mDFXvogjB8eCr+vSQXBTWNMHUKRZ+MZARLgEpz5+V9he4I7DJP+B6rYeU12LBwNj74/AvURUUgjhp3ATODCDO84I6pmEIrkd6DSZBlnhOvMtcPjB2zcwy+ejJuYWaVV7/Zjs1vv4mL335LGTuF0fFZQ5/hePaFS5DKiEzX2Al9k3pc43Pw2InPVsZVNjiLgKksspaenjd/TxvTEuTLZAjv5q2kkvFLNVBidyFdrpuiKFGOC4BjE3e4uumQOMLX5bjke0qkTTxV6K40A9FPEMF9FXqpUC3tYICLmIvIJ5zh16kO+FLiF/OrQkCIcslG0nlyMDrVVion+vpSCo1N4D4jQSk/bgzG8OtqQkIds2fw0ER/AxcwbwjTMjDl0UX/dwdCQ7/Dx9Ss9vIVv6hYjJkyESMTzfg2Mw8+DAUW34qsKXetAVGpicio8kcn5opztcFGuOiDY7oyhPxPcH9vDjbn0ZepCcHE0WncAiEERMs0TTHo2b0GMRGudEis7kARBhI2aDIevqUCn/9vMbbkVbOtCHQd0QfXTRqENPqXJCpMHPbCiJLSOqPWJwaBzGWnkGkSQ0/fQKSkJ8MjLhS+jFSVoqE5zhCUgNueuBcDMuZgxtfrsF3MQ97+6HHBcNw6PgOJQYQHBnQdOREvGgLw1cwlWFzKlA8e0Zg4qR+zRARhxbJVWFIfBROJizJTSRR1+kBM/Nt9cET8D+8v2MPGvNGpewYygk0KkdTpfdCZcNabmHqJGcwVpkWEeXqFYszU69AtJQXvfrMZyzdkk6ozqasv+zV8GC66sB/6M6BAjpuRPW5EBEIS4pHRowmpPM7DRYAVKDi43PoQEIb0HskwJQTDh8JJe0VD2LUeARgy7nIkJyXj/S+5/23DPvpCHdwwzXRJgwdi3MVD0DfUR/EfClB2pxbBcfHo2YMmZ46bEOBjKuyniWPWqbcPDBSmWlvcJGDBy5+Rc9190HOkCaHEjQgDwrCkCMMx+PgjJS0ZGmo3fhzLZl4ndxUGEzluNO6csx9fFdchtkdf9E8NJr5akT+NB0yh4ejO+dAYF6hEPLq5GdB5+Fg84umLmcwIkrmV/idqvml90jBq0jBmIonnfGKwDtvw8gtG1/QuCEgMocnRxfRksnt6xeK6e+/BsCFL8NKXO7FjD025HKJgmq4Txl+My0amIIW41AmDV8ZOj/AuSeitcyIhiIkWWIfSGRk+4sE/IhI9undGcoSJW1OUmSwoOK8KfcKtbRgH991Bv4GFx4n8MPt77N+3HtfT2ezvbzr4oWP9JXZ7Svx2bgjkHxIHkSaaJx4H0clwWRvv8avMM0pHrvvKiue7yn3azuW+BzUzIcAcw+MqdVTPn37xI/TNSMWkCwcrUqnSznHVdoa+RJzJAY6SmULCWLSiqYq/SiZ/a3wSoRIMo4yFrGFBMO/blYMR+Z3Pu8tYyLtShIDTcSU+Fav4Y3hJkTJp2tDwHm9S5tARp5R6KcZKhgkr/V6yZ0iYnphjWnyUkv9NMkBI1gu+RqZF4sOsGIqmwcli4/xrpP9GJ1F8rN+dIVn1Vfn47P7H8fiKcmTc+wzemxYDA+eRbMoVSVnZA8ZoN9HklXZYj+TtU9pgZ2R/mERxCS2wyYnKvOcgXFp+DuzVaX5HMn9YmeFA5qu8INKtlkxNnhNsiDZgo+9K8KD4NfiMK6JO+sK+N9EESrh1JGJKOQBLC+44JpScDYRJaLsb74u/Slaklv4TkdwFTrmghNLTJCpt2QXPLNI/0YYEX1oJjXY9rIyRZFVo4BgJvFrpc/PwSV3iSxO/lJJOSfrEdpQOKbUe+h/bZl12GQu+IxFuEnihaDOizbF+0XCUTBPyKmGz0oQmvk3Bq07RDI6BcUkf+Y7QBxlLmVeti/SVfEWZV2Ly5VT5DWbiTcaikfghqMr+N4FJQYdUwrplHkqfG/iRUH0t54gyji0P8X2Z1xbel4plDx27R0sEz4TjBm/lgEk+I0JQy1yQfXfKPOMzsn1Axo6gH9x+q7ET/6WVdUg5sbGzcezkvDC2z362P3ZKU2fdf9k5hfhg5nyMvnAq+vTtz/Uj6+O3OdRK1DjFfZOJxkkgJprDCueB7NnSt3VPHua7YuriPFLLsWKA+HI3iuRNnB/6zpHwKcSNTEAxTxz6nvwmgROGZOCi4Q6VoxZZXPJsW0UkeZF2dW1W5K4QPGFYv5XfSJmAKQxKgh+8maGh3ULqJkzZ2AYMWk4obVtzqvmdo/VRQ4Ks8zAyr2O7rR98oxUsbb9COImPw4oQbPZVJ582cdX6DWKGzynm0INw1/wM6xImJp9jK8IshDjycywLkHND5952747YnvSRXVfMo0d8sI2bxKuGxNvQFu7kcdYt81Avn/bSUTbPa69D5wnXio4mZ92R+s5n2MIxjR1PnzlCOdljd4SmzuJbv7Gvs7gTKugqBlQMqBhQMXB+YKANse786Ljay7MRA9QAuRnd29cEX99GHknhytt3NvZEhVnFgIqB48OAyrSOD2/qWx2CATFtBWHyP57BRNq4xU92wJfSIfCojaoYUDFwujGgMq3TjXG1vRPCgBLK3exfkMCNYw2pPqFG1ZdVDKgYOGMwoDKtM2YoVECOCQPiVGcAhFpUDKgYOD8xoAZinJ/jrvZaxYCKARUDZyUGVKZ1Vg6bCrSKARUDKgbOTwyoTOv8HHe11yoGVAyoGDgrMaAyrbNy2FSgVQyoGFAxcH5iQA3EOD/H/RzutaQDas6cIam+GLhx6gvbk39KOh+2L8Eip63tU9+7k9KCpEBSKuKYSGLAEx0WpkeSwuxJTI3iSoukXFD/O+cxoDKtc36Iz6cOkpCRYdmYg478g1GGkiRYshqdKIU8Cg6V3HbMK6fkUpRTCiQnHdNTMS3ZaeGZRwGvw2+Ts0iOSTk0som5mlzZ0E/MyCO5BuXQTxsHWrL4H8jv2OGdVQE41Rg4sZlzvNCRoDQxQa6TCXAlqWvrj1yTjyTPPCxr5vG2p753fmCAhMzRUIMlM97F+FGP4j+Ls2B2CeRKIldJnGuT5LYtmtgJY0WYJBO18vDJbQs+wWXX34I+I29B32lP4Y2FWTwRuqXxE26ogyqQhepKOGwn7o6QW/sI8Mlarsfit17GuAtvwbT/ZvHQSFncJ1iq9+GtvzyJAX/4EJvrzUyuzHbOdnSfIErOl9c7hGmJ+cZaa0N5nhwmZz7k04Cy/Y08QtzOYzPOl2FQ+3kyMNDELN3myhIsXLgOu/y9ebSDD88SE8LLrPVWzrWCAuzIKUVNA09rPhlFiKTTiqql3+HKP3+FFZsbYDAEIkRbjX3Zxai1Slbwk9FQB9VB4B2Ct8JiFBRXM8s7bXHH0R+nw4bayiqUlVehqMKM+sYTXdgUbI1+SInxhGXbD3j2y0LUk6a0dYJwB2FObfYUYqADzIOcXDTfZM8pwA9fVKLIcvAqEB+Ely/PjeGhkN26+SCO5+tEREmG5lNs4jmFSFarPj0YsFkbUbxzBeZttKLPJd2RziPRXScXN6E2Zydef/5tfFgQh1devglTUkJO2K0iNki7tRwL5m/kScI2RF77AGbfls7TCLQw8kgSo05DwYtmMR7rIUeIyPEKx2SqJLMQ85ed9Qshdh0IePrlSznOo2DrUjz69DfINaXh8T9fgf6d/JXjZU75iBIHimbcJu4ka7sJ/cf0R9IXG7D6i1lYPeEODPLnETbMcK+WcxsDHcC0KJzyrKa6cgdqqxyopylQORuLa9LlNKe5pcGBytIy5K+rQsQWf/S/LBjdeUS8ciqDyrvO7Rl53L2Tc6KqsfKr5SjwD8AFaUkIl8MC6c8Szd7e2IiGhgbU1zfCzPOkTkYRc5mjvhLZ++t4lpM3Rg/kIYCBfjzJtvkwRvpcrDtX4tnv9iKhex+MH9sFIccShCBnVhVsxxvfrUelNRpX3zUIiXI+1MkA+nfUIWd4OetKUZpbhOyQEFTynCyi8tQX4lUOWCvfuAyvzMlF14H9MWpwJwQqwS2u5uW4FLeYLpiY5IVN6zbip/Xl6DskhIdZqUzr1A9Qx7bQIUxLutwy9+VsJn2PIFwx3kdxmjdV21G8qgKr19SjvM6O7Mxy1HK5htwWjthQLSXWjkWY2vqZiAHOJvpeGhvz8OviQgQnD0ZG1wjohUGc0kKNyNKIOmokTRof+JpcBzG6dCIhvA7UbVuL9z5air4T/ZAxIpGEVw7vOzJcopnZ8nbi089/RKE5A/1v6oMEA987pX05vHLRDkPTh+Gxf8ah0uiPjNgAni11ZNgPr+V4rsh4OlC6aRVxtx6j3ELRs28s/Hki8wHc0SLj7uGH3r0jgLVbsWz+ZpQOuAAm6E47cz+eHqrvHD8GOoxpKSBz4jHnKbShnugywI8LwqWFJfU1IW1bKT54vhglFgeq11Vj9WY/hAfyuPfTsmiOH6Hqmx2AAZHMSeidmesx1wwk+UYiJtLoOqr894LDusQ0Z20+kdhqZzQgXTkazjs5uVgnJ97S9NfE02yt1Nxq6iz00fDEWjn11mxGVVU1jDxg0Y3nHTsbG1DNU7ItDNSora1DVWUtKsR0aNBBr5xMLCH5BwPo4CnPDayntqYedfUWWBqkzhpUsD4PMhEj3zfouWwFTmojEimpnLBsZf+lKjJqMZEJrHJKs3LK7yFtHGhRmCMZroXwy7HuYvFQTmrm6bxyuq+OGqPOGIjO3b3BuCl4sd0DVSnvuk6WllON5YRspf3m/+VUXXdGbwqsB94RmCWSkHipq+FpyBIUI+0SXr2CVwqlFGedxK3FXE+/dj1xQRzX1KGyugblDYI7Pf2Gcqozu0oJttPADCS9vQXZa9dgS+lAxPqQnpxu7n4AoeqX04GBjmVa0kMuFDkG3kPP49npA2CAMnTeVP2NYbjowjrMmFUPu8WK1b9UY2RfLy4CdUaejolxVrUhZix7I3Zsz4aZmrsxLhRhOp5YfDxuINbVUF+DHctXYMaM+Zi5ejc5VhOMniYMGDUON/9hJAalhMNWWYr/vfAsHp21B3UWmh0bnHj1ptvwARlF4sARuKWvD9766EfsLajiMeyNyJzzMS5ZMFM5qVmfPhVzp1+JBM51DzKGA4VEvWbvJjz33FuYsTQP9Zz39faFuH1UpsKs3KL74T8v3ogp3cL4CuEkYd+2fBk+nv4LPl+9g6Y7EnwvTwR16Y87J47D5HFdEO4npw63aqOlMT7rsFdi3stv4sGZazHggWdwWcNiPPnej9hd6UTYlDsw98HBaCragIfvfhXroobizceuQ+9ok6Lx2Rss2LtuDT589wd8RhxZHfTdMcKQMYZKC3qDAYaMq/DDGxPQqeV0aLapYWDHns1L8dP0n/Ft5j5U8fGYwWNw1w1TMLFvOEzuTuT/PAMTn/wRxWW1aODz82e+jaVffaCcxhzQ/yp8/+YUxIKh82R4usQYpLB/22uzkFvUCHscD95WXA0tHVX/nmsY6Him1YzRAxIn15d81xo0CBsagKif65HHid1UYEUhfWGBp91Icq4N+bnXH/EtOe00Ka8rIMVyh190EAJlg9ZvMv6xdZr11FUUYf6n/8XzM9agPigSA/qPQESYE3m5udi89Hvcvb8YzzxyMy4IM6D3kIG43OmFxUu2Y0eBA7GjhmBUiBeiO3VFUpIekyeYkT1vGT7ZXgbfuE7o068zYiVAI64rYgnfgTnfCjpdYAj6jhgEW30m/rchhwqkCT0m9kZPH09oA5PRM9CLPJRwlhVh7ldf4LmPV6DM7oP0vunwYpcdZJAFWWvwr6c3Y9b2W/HmQ70QbzKiTQMF6xFNrZEa4+65n+Avm3JhTOiMwV08YPUzQEeB0iLaHJmRlX5A2Srg5DtUkZC1cgH+8a/PsK7RB2k9BqFLjBZVu7Owel8+8quAHoN6o/uAZES1UnvE7Fmz4kc8MTcbVv8QdOmXBlt1KXYvn4un9uSh5J/34/Ye/jAmpWDaxAbs+3UpvtxRgcDkLujXPQ7h1Mb8+D2KmhlBU8bXzT0cSV10aNhqRV5xBTXeIGqgxK0q27aaVefW1zOGaR2EVkX7oq/LWw//QA3ySmlWqLKhmpFUIse1ITce9Lr64/zCgDAtO/cCVZXbFWk8MTyERPp3Bi4IMaaJr2DTakz/fCVqg9Nxwz1X4Oq+0RSTnLBUFWHmW+/hvZ8X4W/fDML8u9LRefQkPJIcC2SXY1+JFZdcew3u7REAAwm1O81gPdO7oji8Hp/9fRm6pA7F/Q9ciG5GmgZJfMVsd9hZYORingERuGjKNAwL02LewyVosHTDnfdfj1EM4deRWGvFqUs489avxEcfLUChezQmXzEZf7ymL8KoYlhrKrHs6+/w6ieLsO6z6Zg+NhaPDoyiL/hQUyQZkGioZCRWmiQ3LVmP3pNvxIM3D0CvKCMsFjItjyaY+Yzs0RIToKLJyb6thmosn78UKyhNDr9zKv48sRfCfYyoL8zBF29/jJd/yEHkiPF4cEIK6yCDcdkNlQ3fRVt2IuXyabhxWh/0ig9AQ+5mzPjHW3hzVx5+nr0BU9OGIbZTXzz4f2nY7F+Jb59fjx59RuCBu4chibgz0Dx6AHdOMS36IiTEA7b1jSgsKiO8iQzYYnShSiXOWSJwPAaU04IMiSQUW7fO2MykhKgIx1KLioFDMKCkT6ooxs4K7v8hs/LxNjZHoh7y4JF+CgGnBrF9+XKsq/ZCr7FDMDotlMFo4iNyg6dPECYMSUe0nxF5s5ZhI7V+DX024t/Scp4KmdRqhajqFROgjhkxhDlpJepPQt3lN02HBn6EkCsMqw3pS8O65Fkt63Vnu+K3kXqNrFdPP5OHGwU3WwO2rsjE+lIDMsaMw41X9EOirzdM3p4IDAvFuKsm4YZhUXB35uPnbzbRQsE9j+2F/XGdSQaPmDHT8OhdY9A/Lgg+nr4IDTIosB+KMtHyHI1WlHLPVa34uxKilHaNRj1MYYFI6xKKAH0NikvsNH1K33/rpPQnfNQ0/OX2MRidHo0QwhyR1AO3Tu4KLfdyVezZh9w6+seIL/EdaoXh8btHC+7oCzwUd0InQq7CQAwAAEAASURBVIICyBhlkzcjQ4VOqOWcxsCZqWkR5SI927jYzDUyCUVK5OSXj1pUDLSFAUbxtSZYrWhlW08ffo0aRJPTjt27slFnrsGmH77C4xsXw0jCybgEJdDDlkfTV0kD3By1KFOsj2RVotHxuyJk8YswOP5zyflNZGYERF6X51z7tPg8GWG7hXNcnvXgexIcIVNeeY8MQLF4kS/L3q+9e3JgNvrQDBmJUJr/9GRySkNNfM4vCL3SY+D+7Q7UbczCPkZRRFBraobqsKYFdt+kNHQLYz0MnGjxgTlpZju8aGi6NyA2NgIBv67FkrXbMIF73gzEXV32PsxbvhVFVn/0i6Q5kwy3tV9RmLd3UmfE+xrgSQYkRcP3fLvEIcZtHeqtDQzScMEpfZb8jVLaxx3vE1eeRmUzjGI2VdQ55S31v3MVA2cs03JyoTVWN6CinAxMHMlhOoRw1bqm8bk6HGq/jhsDQuSbX3bSjPx7tXIR0J2yoZcMwcH9SLk5+SgpLKKZ8bcZJ9F6Gq0expQYamAtrR03xMf1oghzStSgmO1okgsJMMGHDK31wlC0M2qBCoTsj5XmRG5Rbrs96V4zQxWG28wn2n5WHhV8GEzo0qMrkkPXYPkHH2DI+7ORHO2O+rxClFBTjBpzOW7uHU4GzrAqPn4gaRPf1bCN1tqXMGY3MkqJ1TiQcqvd1tu+oYx327fUq+cgBtqZyR3QUxGwpIizVxhWJU0g35WhkNfFrBCW4YNQQ8cQChdg6v9nKgaEjjaFBCKaxHcZfS/FZVUklP4EVyjyMRY+quH7YsJz847ApDtvxj2TuiKkdbQq56KG2oOG5jov+ldE8znWhEQub+wxwtLqsUOtXdJXBU6aCt2rzSgqq0YtGZiPrJ/m7ko6qwaGlSuuJPEDsV/tY6LVHan8KEVC1u3VZVgydzHWu8ViwuWdUJpVxHXrRFRMNC7tNxATx2cgPtir2WfXsrDbr9ilix4Av/0HD7tDrBKevAK2T9jdxVR7NK57WB3qhbMNAx3PtLgqucYo3TLZKWXDJrMdlXlm7JhbTNNDoyIwu/vrkZbhSROIyrTOtgl2WuAlwXJzN8Lky91RRU5Umy3URoRNtJDDZigU+imaCv0yJLJCog/MKGFIFI4SkxPgu2QHyirr0GTwRlCg4aBnpAoxF4pPqokM8mhF2tCQfVgbueeKew6dBqdi7lMgOzqPIKx1qKWfx+FPeKWfrM2NKkxMZBjcFu/D9h25KKlORggJtvAcYVj2mlJkbsgXPgK/nomIE9+S3DwJRbQ8c10Ztu/eD11ADwyfPA0jYnyg47YAt+bs9mJilH1iJ6dFMmBGNzY0unDXRLNha9w1Oczcx+WAhj6woLAAeHNcTk67JwFZahWnBAMdy7SaGVbjxjLMfK5a8QWANu268gbkZzXAIpscTTp0HhbIDAcSzaROx1MyC87ySoUge7iHonOyHs78WhTnlzLSNBmeCvn6bc4IGxOibmUgQT03rR5gWHxO9kt5MONC0oCB6PvTZqyeuwDfxQcjakKakgVCnnVU1zFqbzVWhHTFNT2jGBJ+FMSJ2S3QF8EabtcozsbufZXoQuZSX69BeGgQLQgksG0wE7mm8TMhjAQ4y7YXazeUYGxAEyMJrfDzMXGTrx6JvdOR+uMObPp5Fl4M1uOha4cgms83VOzH3P/+Dx8tzYc9rCdumJbGBL6SzuoosB7jbYVh6/TM/uGJqk0b8eozr+AbHwZtkJl4GoIYyeeNTj16YOAFndHF1/P42lWGjMEYAT4IcrMgJy8bOYyjj+N+TovZA2HUqpXMGKQfDkchdu2wMs+jN2JDgpr9aL+N+TF2S33sLMJAhzAtWZQSuSuOVjeRekvqsbVUFjAlRbGHiDjLRWDgJuPkCyMwYrIvAphEt431fRahWgX1VGFAzGVuWi8MHtgV7nOXwcwM60UM0w51MhKP80xImDyjMLfybXjxwafwEQntAdLGieURNxBvvnQZwlLTcOk1/bH7nTWY8dobmPupNxLjI2HmBuLiwlJlH5TvpWG4skeU1EpzoQReyEeCDg7UKA2KOgaP1AwMjZqF7/dswD8ffAzvck67J47Fx/+aiCg+I/AdWpQ6Y5MwKsELmSVF+O75Z7HyXWp8Yel47G+XYhRDxRMGDsEtf8jB8x+vwa8f/Rfbf5hFMyCXjt2KyrJKVPpG49YnrmduPn8Ke9L3w1pxaW2EWczv0ofDHuEr4n9SAkF4X/E/EY9aUwiGTOyPeftmI2tLIZwMujCwH7bibVjCtrRzF+Hdn0bhw5cuRWdqXeIXdOGoGVcHAcNW+VvSubnxXTYjrUrDMKV0Q9/wuViwaTn+fu9W+DGXpHf6RLz7j3GI4DsamgYdhfuxg5qo3jcckaEGJYDl0J6qv88tDHQM0+LENAV7wBTgxvQ2YpfhBGzGq0ajhX+oEeFD/TBsij/CuBpECm5ND86tIVB7c8IYEMLKtEEmmvaSNQtRWrgF27LGI72rK0JN6ndj2LROUhOBodVFxagsbplxcpNphDzKYaY/1WgKxUVX3YruXXtjxvsLMX3FNmRl56PJ2wv+qem4Zsow3DQ8lcRRGIEke2a91HyMRmZnoOr1W60uwusV0AUPvHY/ah7/CAu3l6C6LAzjx8QjWAlJbLvnYqbUesXihlf+iupHXsF7i3OQXe2DHglhiHRnyAIJum9gDKbdcjtz7y3EM++txLyVuynwcV2ZvJAy+RJcec1YjI3yhxfNdO0GK0o7Ek7PcHXJNKNEK7YCSREu2T+578mPkhKK9yWrRd6GbGQ3dcaDr9yMKzOi4C1RltRiS7N24t+Pv4MfFn2Bu6b3xDfXJ8KPvmgtcWRgHUa203p/mtIGx0VSX9nof1O2D8hiZx+DOvXCQ/+6HbVPf4bMvSWodIvEpRPjEEDciVwrkYJ5y9ZiI796Jvdk9KPkJlTIidxVyzmKAW67kKnednHQZm+xWPDD7O+xf996XH/lGPj7m9p++HdcbWJmdzvt+3JwG7O/HFw4X2UjpKR2cicRUBaKSF+/UYODnz+OX3XMB/f0ix+hb0YqJl04mO01i+PHUZf6ypmAAU5hSt1VpVl47ZaH8X5NNG5+8C7cNzoeRi0nD6e45LtraKBZkGdpHXTukiL1a0hQGYbtZYRWfDOsq5EmxEae+9TAjBFKIRGVeaLstWK4tjAt0nyeWMBcgXzO3OgkcdfB01N/kFbj5LYNG7WfunqrkllCiLFR2vKkVqCYB9vCn/SHwUiSmZ6h/I1KXkGGmusNzL2npRlOq/RXNgY3NvAZtt/IdmQli2bkQfOd7BEz8DkXc227jSbJdEH468w2MlwyL8IkDEVBibzC+p1coHU0S4p/zJMpojROG8q2/YibrvkfnKMvxlMPXozOzJ4heHYyfL2ReRMXvvk8Hvp8K8wTH8L6P/dFoJeW1y3KKcN2Jgz25AZhvSQabW7DQRjM7KMcs+XtZVDC9wUGORrFznv1Zo6FHBxJ3BkYbu/FZzw4TjZucv7+b3/B/b9UIunWB/H59WkINLnC312Vq/+fjRjIzinEBzPnY/SFU9Gnb39lboq231I6RtMiQ5LjyLn01KJi4CRgQCRzbkTXB2P4xT0w89Xd2LwpC+XDYhHZHISgNZAh8cN8qsdQ3EmEKf17H/1RNzIIT/m0U7FoeHr5GD2PXtmBJ6Q/GibV5b4pftoswkTZN6P3scF5eB1kTtTC9PJppwlRW4RRm9i/lmITJllYjnIJdKHwV0nG4k6fGcFRNDpLbQ7W7q3kWWCeGJAWqciasmHa4OPNTBVtFN5zZxANrbWHjY0bYdPJpy3ckYs6y3dh9upqwDcVN45PpibdzAjbaEa9dO5goEOY1rmDPrUnZxIGJItCwuCR6PvJBqzYsAnbCnojJJ6nB6gBPCdtmMQc6hOZis6RC/HT6oV4+m95iOkcjngyDIu5BDn7CrFxax3CB43GXYPDlUS/J63xVhU57XXYsXAt1jHLfuK0sRjCXJCSLUMt5z4GVKZ17o/xedNDd/pn/MPiMWpEKtZ9n4eNueVMS+SrnrB0EmeA7FPzS0zH3X+/FUlzFmDZvK34dfNWLKdZ0cFTGvw7peDK6y/BqFFd0ZNRjRIEckoKw+6Xr8uFJSgDd13RGUE0Oap7tE4Jps+4SlWmdcYNiQrQ8WJAw2AMPXMETr7nIVz0J54UQMf/qT8I8nihPTvf05AJab280XPAAHTL6IW777fRN80UWNId8fPRnGegf0xyL2rp55JAi1NRNKYY3Pj033EF/eOyL8xAbfoUNXUqwFfrPAEMqEzrBJCnvnqGYYBUS/GfMNBB4gZd4ehnGIxnPTjib6NAIBk5qHVpyaAkW7zCtAT/co3MS0LYT2bw1KFok3Z0PIOPW+vYpsqwDsXPufxbZVrn8uiej30j4ZR0Pqp34xQPPvEsmTnk0yGFTFEMj6fI+NghXVIbPTYMqGN+bHhSn1IxoGJAxYCKgTMAA0fVtGQbV0v268ZGG1PgNO9bOQOAP14Q5MgTOdTOyr+yH0dMGZIxQS0qBlQMqBhQMdCxGBAeoxw6ys3qbW0jPiLTElu1HMddVMzktSs2oLq2RtkZ37FdOvHWG8io1m7YyX5VYHdWnuIsprVDLSoGVAyoGFAx0MEYqKyqxeZtuejea4jCtA5lXEdkWgK7ZMVwkOPpGVLq7WmEF3fNn+1FTkSVjAGSnsaHWRBa77Y+2/umwq9iQMWAioGzGQNWq5x6LWnBaOWj4nRoOSrT0jNnWERYGPr07IprLxvFNE7tbP0/tOYz+Le5rgElpVXo1aMLJo4d2BzppKpaZ/CQqaCpGFAxcJ5gIDuniCm93BEWGsJsKZIo/WDafESmJRqIktBSUq2Q8wn30/FE1LO9WLU2hVGJxuXB0F05sfWUxuee7QhT4VcxoGJAxcBpwoCW2VXk5AFJIXYowxIQjsi05AF5SWFc/CtMS/Kdne1FOQaB/RGmrBwxTuScyj0lZzu+VPhVDKgYUDFwujAg2pUbA+PaYlgCw9nPgU4XJtV2VAyoGFAxoGKgwzGgMq0OHwIVABUDKgZUDKgYOFYMqEzrWDGlPqdiQMWAigEVAx2OAZVpdfgQqACoGFAxoGJAxcCxYuCogRjHWpH6nIqBAxhgFpUmZv628oBASWwqUUAeTGp6xGAXOdSPezLscrggH5SzkTTtnhN/oCX1S0dhgKc7O3nyuK15jOVQ10MikzsKMrXdcxwDqqZ1jg9wh3RPMqnk78BTDz2BERP/g9m1DbCSKR2pOOw84mLlV3z+/3D1A7OwncRQyRx+pJfUex2GAafdjPXffIIrL70L176/EQ12JxMRqCPWYQNyHjXc8ZoWpXKb1QqzpR71zAUoAY1yLpLJ2weecoz3wfvKzqOhOc1dFe2IzKa+vg61jY1Mn0LFiHvyDDzq3IfZQ1x72Y4FJr7Ilx0NFhQWFCNvP1BNgtbGxvaDKnM47XDUVCGP71h9qmEmAXRQmncj86qtMZMoNsHL5A2jZHA/qgbGnfR8r76uHg08b8lN5wlfL/bhHNiucRDSjvRDBlCEB4cNloYGmK024tPFVNw4rnoPPbwMrkMa2wstPmL1TtZbzfHKL4a2rI5Zc9gcReAOyvl+JFBP+F4T55LFbEaN2Qa9pxez6OiPbjk44VbVCtrDQAczLSGUDph5TPdHr7+OL/LK0cT4fA9tAMbedC8eTAuB9qgEqr2uqdd/DwaEYTntNfjlo9fx7y05JHAkQDoTeo67An8b2R3BRjmh6lgLGQ7TfzWSUNq54G2szNlMMNuroUmYlIOJjG0O5rt0kN4K4+Hf2r144YE3sLjKB9NuvBk3j4uD59HmBNuymYvx5asf4tPMIoQNuwmv3JUG//OJaVFPddYXY/2urfhlxXIszdqParOD6NdAGxyGvrE9cOGIoTzZOYj4bG9UjnCdOLZz7cpY8T/FtIum46noCG2cCbfYT4dlP/77rw8xfUUBek++HU/e3B3epJweR5uHZwL85yAMHcu0FLu4HeaC1ViaW8rUHczqS03L5ijH/F9W4qrUixBLn8jxSILn4Fid0i45yTCspVvw8579sJAIiUzu3lSD1ZnrsacvjzM36DpA6yUUDaUo3VuEnMY65NZVoeWMAQe1wZItq/HZykok9e6O4b2j4dWKiGistajOK0J+fhGqKwphaeoG/1OKwTOocq6rxpp8LPjuc7yTuQdFzOUmfkLXvyZYS4qwvGwZ4B+KTtH+iDlNa6yJlhRb1jq8tWA/AuO6YMyITghmTtMOLSJM2a3YszoT36+tQvqIvuifFAJvnros+FKKtQqVTC0kVgC/yhI0wgnvc1Kn7NCROObGO5RpibPebqvEygWrkE2J3IOmKCMl7FpLA+x5q7F4/xhcHS0pPY65P+qDx4UBSs2OOmxauQ47yQwcXK1+NMVZq+vQULQdC3Lr0TvQpJhE2jTXcuFLckvhdEoYhfw+EhxCKFjkHfkqdR6ayVnuMxcLmnwT8Id7rkTXGg/06xcFSdesBHkQzvwVC/HiG/sw6kZvdO8RDj0JCUUcBn/wGWMwRl12Mbz7m+GT3hW+LQRIKm4pzXA3g0MtX06Ml1b5pfXz8oDAqtzjy/Kdf1ywu9r73Rz9d7RNHiStKSf0/oYzAVZw1xrQZqCo5eZtXoz3Mndiv8UOpyc15l590DPYDwY+XlqRh23b9xN++qEOdL65j834O6g/zc8ocLTVpoDHItq0aMzyuIAlJ0cfwCMv2sgcrFuX499vrEHSoEnoOjAWflzcbnzYlUmNL8nLzbgmb2ARTEsRPEtfXb9b8CB32h03uSlF4GKdzV8VnB04iUjs1o0WbF04Hy9+lI/LAsLRJcYfeo0H5ztdFdIFr3BMuH4K9H3LkDAgCd6H4rxVGwK+8pOg8m0XzAJ2S2l+QOBx9YfgSX/53oF+tFV/y/vq36OncTqVOLKLdF+2E7O2l3EqahERn4joxmqs25XNs64qsXBjFq6MSlEI0amE4/yuW1YLhYeaAszbls+ACcDLJwK9aZrduWwjchw1WLhhF+5NDyNBF59F6xVIzPFdJ31WVjEFNhMGEVIlsqy9IqZIO7VqMQUK0ZQIwybRsgWUVi8J0XPXBiNt9Ggk06dl5AkDbnxCzIaN9NPUWxrZrvhD6bMxW2DW6pRUY3rJXabzRUKfgYjuQ4mHPlIdP78VV0M2aiBivrQL4ZJ+sT1dcy5KdyGQzV11yvlrcraPGyPk+KQ7/W9W9pkgKSf3aqV+ttny/G/ttPONwpqYT+U8N1fbfJU48KCvSSc51zyaGyZCBFdy/pswBElv4zouiFGZHiSqSruHprshfpx12JNVgLIGmu2gQ2RkBq4afyF6mLygZdUNDWZUDa2Du6cvQlintCY4tTMYRukjYaHrkEC54FCES8Ir4+vGNvU6wtG6a4RNgYv4FD+kTAN36Y/4QoXRy3wQMzGPBKrjmDVwzBQ/m4yZzClGiur50dJ866CW72Cfm8g0yAGV+cWmaXl0g55jw8eJk7ZwR3ywjsNMds04tNqscHDAZL65MdJRxkxL2KTf1oZGmPlptDbCUs95RbjqnToY9FKnB/vsh4S+g3Bdmg0e1Ax1Mi8VBtqMBI6n9F/WgE2ZSy3jKWMk4/rbePJBzh05OcOp1C3IskufZeIT3zqdTsm7d3S/besBOL++t17Jp7nnnECcSPlbNmE7neUavQ/i4/viAo/N2J2fgzIytMrNG7H9wmSkNcnCPM3gnS/NyaImQSnL3YctldVwksKYontjbFcdGvdsRXYhiczGDVhiG4CRbloSmJaB4HtcrBZzFXavX4l3X5qFBdllaORADew/ClePj1cIO6v/rQhzJGE01xVi/qff4813l2APmVBQQAQmXjkVl+mpYbPO1sXZVIbptz2Mt8v8cNOjf8Ud/QJR+MP7GPfUL6hmgAbpBObRD7fqqw+gJVELHng1Pn9hDMJo2pz/8kt4Yk4WYv/4FD69Ms5VLQGSwJ/6mlos/fJrvPnlamwvr+A9DawJURjecyr+ell3xMeRwOtInNjdspy1eObel7E9eSz+fNMg1H86A6//sAO72R+/mERMveFa3DiyMwI9SQiFY7dXFAZvR129BZlffYU3Ps/ExpIy5Wl7bBT6dJuIJ67tg7hYT3iRMQjRtlTtxhM3P4XMoD74y1WDsPKz9/HxqlJ4hcXimocexP1DQ38jis3tkiUqkXzC6Jysw+Zo4GGnZB4cWx2JsN5bx8AUX4VJtzBnS81ePHfj4/jZlIGHHrgRl3QLcFk4pI78rXjy+en4LNMHf591H66K4LtSlLFla8Rn6f6t+O6Nr/Hlr9tRynfiY9Nxy6N3YFwXBlQZtChb8g3+8Mx32JlbwTFrwoZfP8Wlo7/h8UA0O3eejB/em4IktwasnPE+Hp++DJF/fBoPBWzB31+ZifXFTQgbMQ3/fXAcvBwFmPXOIny9lFaB8irhYLAlxmJo30l45NZeiOVRQwbOUYVeEI4GcwX2b1uKFz74AfNWVcKhcYffoP6477qpmJgcjJJvX8fEf69U5pLN2oAv//U8Zr0qDEuP5PE34L2/DUdwUxV+eup5PPRzDoY/9DRem5bY3H8R2OyoKivjfP4ab89ah6yqauWes3MixvaaiPumpSEywqgEELnBjqItS/H3v7yHwp6T8I8b05H1xod4c0EW9lEMCEzsiituvBbXDoyCv7fBxYBblpurRfV/YqCDmJbMdtrWG0uwZEueIrV5+fojPTkRGZpGhHpvQUl5I6pqtmHt7lp07kKzRit/hTpyJxEDiqRXhe37clFe0wCN1oSUnunoHl6LbZFhWFawj5L+TszPLMfAwaHUh5sLiYXdZsayHz7Co//6lT4nA4J9vZQgiY2r52LlUhtqLGRA7uEtb1D7cqCueCOef+pdvP9zAYzBAQgweMDeWIGPXn4en3t5k8BSrG4uTtFuSEhqaupRWeVGzcqGRtE6IiMwqE835K1Yh8WlVnhHh6FLUjj9bp4ISQ5DAKVYOwWiWh4mV1NnRiWPommkVqd3qYAo37caTz05HV+uKYLB2xd+via4kcBZc/Pxy4Z/Ye3yIXj4yRswtYc/I1gBC6MQq6vqULhlJR7+wwIKVDZ4s68mMuCK3Vvwyp+fxbYn/oo3JiWRabUfsCJSfXX+ejz7j4/x4aJ9kDnvy7apZ8K2vxBLN7yIqZmD8adHbsQNg0NgIMNx2BpQXV2PotI1eOKv61DCOvx9feDhrSdOasjkQ8i0WjDm+uum8UZ0hB+M1E4sxNf+vevw5kc25Izoz8CLWMQEBsCPWoRLM3StxQaLBTU0B1drXFFyDs6LFmnfJlotcVBV446qWgvXq6+LX/F/MW1ZNi/BXTfuwT4bz9vz9YYfcZ+1NRN3XbMBVz36NP4yMRH2wFD07t0VAZWr8GMhtbyQUCSkxyHKYIAuPhJBHJ8mLaNXa9kOx82+YAauWLQRlmAT/P08qAFxLGvW4dmpb2OJ0QPeXv5I7tQZpppS7NmfhznvvoS8ukvx7D2XoLevgZoUtTv6ouZ8/h6eemM5ip2eCPSmJ4pMwMrAlAc2F6Dmr7dgUGQsBvSoRPbqTVjBOWZMiUT3yGD4aPVIiQ+CiSqQw0Ft3tyAqmqBwYxGXhNFy51roGLfSvztsRn4Zk0hfPz9YZK5RLw07NmLr1Y+h5WrLsQjf70MF6cF0DQr1oVGHqZbh7x183DbrC9RRs3NRJyZrBaUbl6DZ+7Owqbn/o7XJnTi86I5Hjy26q+OYlokENTVUV+UhcySerGxwD+wE9LpFDY4EzAk1ISt5cUw86TkdZs2YVjCIMRzoqrl5GNAfEkNFUXYtr8EVQ6aJ/wTMDw1lNK4F1KjIhCywaX1blw+H3t6XYaezdsQHFRx6nK3Y+a7i1GAUFx8y5W45+JUBHGcstcsxWf/m4OvluyFrWXRkQDb66ux5LO5+HlVMQxJg/HnR6ZhcucAWCqKkfnrL5g+Yz72H2pj41QR3UtIqxQxJUWkj8azj/XFuumvYNW72Rg8chIev2MQIigd60WT4Id0ky+RqLr+8KtohtQ6qvLx5Usf4X+rCxHfbzhuufZiDE8PgpEEqGzXZrz1n8/wIwM8vpjdGd1jRyI9xNhcRxMK9hQhMrU37rh2NMYM6QSf2jL8+slMvPr9Jvz438XYw8jGnl7UHATQQwvrt9UwovGlj/H5ylyE9RyI26+bhLF9wuHFF0p3bMZHb3yGrzduxNdfz8PA1EvQ1VfIH/tPJlycXwhHQl9cfeel+OPgGK4Z2R7id7g5jCqGG9dTYsYwXJZdgS/W7EW5vREF2Rvw4cdb8H1kJwxM747BXVPYvwiYmsdTwRUbEzw5CevBRW7witxTvvx2V54v2b4TkWMn4NHL+mJgSii8qkvw02sz8NQPGzBvxmdI73oPLkvsgz8/0A21yU1Y8NQ6JHQbhX/8YzxSTZ5kMFp4ChNtYp9knNj+Rvq5k4ZMwSN/Go3B0XpqiloE+lZj+ORJGDk8DX1SwuEtpkc+W5+zBvfd9QrWrqWQu2Uoeg6IoAnXgeItG/C/T1ahyhCPK269HLcNS2TUXxPyyRxmfLoUuUVVPE9vDF76R398/+p/sO6/BRg/5XLcOyENYUYeEsstAXqaLJuc9K0qcAlsLjzIb5lLHz72Fn7a2oiEQaNxx3VjMTgliP4wIH8trQ9vfoVftizDJz/HoW/CcIQbFQRzPJuQu60ACb0vwN1XD8eYgfEwVORj/owv8ML3mzF7+iLcPzoGSUaerKE4+37Dt/qto5gWF6HDUY89u7OQT1OJxt0TYZ26IZ7mFTeLPwZ0jcY724tJeCzILdiDPaUZiI85+w+fPPMmnNj4bSgszENWUTmjojQITuyJDF+auTQ+SIqOJqGgdF9JAaN0O1bl1SCNi1K2IdhpEipY+jMW5mgQOagXrp3SF4khntSISUqHDUcAF9yuvR9jXTkF+mZCVF+Ui/krd6OkPgDjHpuCyzNi4O+pQ1OQLwJD/BBZWYBpH+08IprcSOB01Ga82L6J+2W03G+kNxgREOCHQGpSLoZBgtJGLaLpVW3JxDebKmmoicalf7oCl6WHwpMOHDcSv5CAgbjNUo2CJz7AmlWbsXlCL6SRabUUY0QnXHHzJbhhdGd403znzuCU8aP7YNaqvcjeuQ1Lim1IZ4jiAQtqy4tC6Gn2rN61QZHIbY5ITL73OlzRPQS+ngwfoUXRz6s37rnfjpz7X8VSCmrrs4YikcxUihBKQ3A0Jt9wCW68IBnhQZ7KdZLsZm1J+dn8H6/Rj6LzS8CVU6bCJ2g5flm5BhvK6+izsaNg31Z8X7AXa7elYtKocRjfMxFBhwPcusKjfvfvMZwmxSnoF2aEN4m9G8fzkvsmY/Hyjfi5upBh96W4vEsnGMkw3Kgh6ujr0ukM8PUzcX4ZqWlKIUM8MGga+HQfivvvnojx3QJp7uM2GHaryemHaY/EKP4g8Xe2mADdHGkY3s0XS3bUIqeoEg1O+l85r/csW4hV+R6IH98PV41OQ1SgFwx06gX4X4D7QmJQZAiED08v9zV6w5N/xX/lSfOin8BFFVvRNIU5HYCrFSpIwyo3LcPMDdXQmrri0tunYnxKIMfRoIxn4NChuJv+4JynZ2LVog3YRYYeGP7bXPKKScEtd16CKRmR8Pfh6ekBPrj04n6YvmgXqnduwQpaEOIi3Rl4dARzcytwzqevHaK+iNnHWpKNhbtyUdHohNbTD2nJ4dCQEImD0jclBWmadVhDh3dpcRF2MdR0KJmW/nwamdPRVxLqJnM1tpLgbqtooITOKLP0WBhEI6EpwxARiS4+JuyupK+KxHzrjmxUUjMKoZNdAhi2r9+BWoMXeiQlIiGIJplmf45eb0BoSAjNOl5wr2hmI6yzsqQEOaWVsAb1wNj0ECV4QSE+lJh1em90S40modhzynru4LzL3bkbpZxniO2OgYm+MJBhuZzqDIDQ6BASE4dunfywbH0xdpdVw4pwl25BIukZGY6U2CD4iIOejLvJ7gbvkEDEUit1bzKjtlb2l5G4ks4oBLWlJ2Q6EjxQmJOL/TQzORhcNDo1kAENJIxiZ+I/nV4Hv+hEpHfyx8KVFdhTxA3WXQMg7ElwZAiKQEaXaAT56Fm3C6ct1R/+V86+IyOm1jxhTBAy0npiT/4WzF65FuuyiH+aqHL2bMYMNyOCyexH0wx2fIVskxzXN7ULMsjcD/SHmp7WvxMGpHpSC7GiqKAUdU3xCDga2M1AyHl3fukDMCCGviBqgq7xod9bDG/0z5nLs7Fk8Xb8uikPdTT/Whk4UbiqCnatDywM9pBgCwfNqDu27EYdIycjxPwom8slCoW403KzeXS3FES6aqS98BgBO4AkMljSppwdnEtsxzs2mXOJEYctc4nVabkGohK5LiJNWLd1P3bQrNo7RGJfZTw1MNKK0S2SJlz69MQEKH3zighFPLeW7BMTbR0Fe2pkajkcAx3AtCS8mgOeS+djSakr2sZagplv/QPfKqq4K4qpns/ImFmrSrArPx9ljQmIoGP8qOv18D6qV9rBgJjLqmsqsWVPFmrFp4Ba/PrfF5BJO7vIdxLVZGYmABsHwmlvQHHOduysTkNwEKO8qDlYGkj8SfjcSXD1JKwSuiwSs0TCKQe5NRNkaV7MKbJ5WHxWTVzc3kpkmbJaeVdMWoweI4Fq0ZXknZNe2I8GhsqLeaaicwwSJLLrgK+UBJh9kGAOiVKTPUUNDKUUsiHGMumZRM5JhJqy4V36yo8b+y6+I41i2mofYjF5WYlPCTSpSIpCMttonY9RDiSVU8GlbQ0FAvHBMUBRKUpTbEMrRJEwH1Nh0IUc2GqkQBgX543wiHj0Sh+JfQtn4N6ftjPDiBU1+7KxjhktBsYFsp/HQSAFBRwxYTISPeliwIIpXnXXISkxFJotddTKJUqSc+BYQWeH3cl0PRjl1+JXE03VRma78fv38JfnliCb0oEICBJsIgFddjIrWkup0YoJ02VSbeT8dHgHIZCh/j4cZ3dBJIswWvkoOgzn43EVtttI4UciSJ0J4YgjrB6cw8pEYYUynnpGAkrUqoZzyUIEyLxTCuGQoBiZ7xJdqAghAhPXhKesI1biMkceF2Tn/Eunn2nJJLNWY0dODgrLZSe9BGRY+KHDXeYU70tR/nBg7fZa7M7eh7zK3ggN/v/2vgMw6iL7/5PdbDZ1k03vBBJq6F2adAXBior19NTjlPPveZbT+4l3nufdeT/LqXh3/u1nPw8roCioiDRpQgokEJKQXkkvm7K/z5tNQhqBAApJZiDZ7LfMvPnMzHvz5r1549GKyajH9K/TQKCeDgVFRfsRn1FLZkotgXanioo6hnJyDG5pBGkHaREuCCK38Aji0wowyTdclSoMXG6Ku/rJDH0ZyCLYnOrIwE+FSZ5GXZtfFWYoTMKXESIyeDGw+UbzJyss7uhisW9hmM33jvdJuASxEy3kNDMo38M5SOPzo9vlJ4JDlU2cRKCdKL92r3f61YlM0USGKA4irmY3WC78Be7KXIEnfiihNlKJIjpf1FIgOEZdp1mc4sUGpKXnExgPJdROty6CS8VnL+PKR9ajwSMQt/7iRlw3Zzi8Pen1ydBja574A363tW0p0j8NdMIpLq5EFRuoyefxFOvT8TWT9CVeNrCeOfwUmdk6ieBRzkSCvzx4EukkHzuJnHrvIz+t0BImyNl21dEiur5moojMw+Tii9jRA9R+kZYux+dkVpV1OBHJZdQGUpPwdVouhvv2h+fJzjR7b5udoZo59odkxsUjlXgbnD0xYFB/RHq6qf0rqhBpLwqyfGpY8QU1qKFzzN4DCcgcTgcNDsTBMZFwWp+CwrQMZFXUw88ig1MmIVXIKshBQWmVmg1LXqLF+NBbztfHC4bkDGxPr8BMH1elWZBTUws5iu1JWS37lk5UyebBbaftopaz7HrOZBto+FAdmjR0lmR2HRkRRjvYXiCVdoP0MsTSBqFcpDl5kqggBVnpSEw7Che6sg/ytyhvyZZ+2VmmJ3lN6h8UTPsZNTMDHVi+OliMYUN9lXYldRGttiQ7FXGpxTAGD0R0sDc1uOZanmQh8hjbrJEbxVMOHEKG3QOh/gH0xuWmfRcnJaTys5OQcNQR8cRALSyC9idX4mLjBFFKq62sQjG9NW1UY4yU3U40NBUUFHFyU8FJjWdbQqR/8LnygwcRV3AeRgVwqUv2V3HprC47Hp8nVsHo5ofIAaFK0+F0xfE++5StTiaq1D6Yh1LATlBVYf67foiny7oz/CYvwJKFwxFkcVO2rkrmVUMPRy6yttAnmvuAqDAYNmcjO5171ipGwV9pPiRPPPjocXi4zgeDQi04Zi2nRsTN2HUU4o6pmmTXWV8SrdyIyMgITi52wJaWhG1pJejPZWUzJwdSlXp6fWYe5mpSTjlM/YdgqIwrtme1ZKnTaSHw0wotdoBGuo/m01MmKaOYGwipHoeMxt03XI4YWRZpqorMUKqryrD545V49LsMMqSj2JqYjluGRygD+GnVWL9MBGQgUrjUZWNrfJbSkgzWKFy1eCnmRNLwLct68oTYvMiADm14Ecs+iWc70HkmMw0ZRVUIsDgjdOIEDH0zEelxO/D+58MReOEQhuUxIGnrVrzw6ueIy+S+LxfHoBem7U4351HRIdiSkow1z63G8AcWObwHC/Ow7sNP8MKqOMqv5l6gSDj+L054XLhZ1guVDK+TibwC0hRIR4sKA/z8jrGh1hkII/MZEkuHga+RUpiM9/71AYKXX4K50fQeJFMsOrgVr720FjuLPTD+6tEYE+GjGOpJUtS6qLZ/MwNhct79YzA5woIjCel4l/uPIu68DAtj6T3Itsg7sB3/XvkBthe6Yuj80ZgwwOGA0JkPQNvM23/jGKvKxvovV+Nz2hNDaVsMJ07uDIXR2FBN+1IytmRTz3UyIbBffwynHcWNWDY6e3ETsgU1++gss3kHzh8dgFjaz7Ljvsfb767DTgpy2IPaF6b6SOH2DfjzM/74xdIZ9HqkPpOdjg+e57693AaExvbD1FHBnAhxGYxLqE5Wb4bTEg0/A0eyKxBr4baBskb4+3m3jP8OhfCC8ARPuqzDnseN8KUoo1uqOg7FXo4dX23A2gTS10r8GKhl9R83GtEfHcLBzVvxwaRBWD6XLvJ0BslK2IF33vscR2IW46Grx9B5hMuoFOyeXB4/mJJDl3sKQVMFNwvTScOLrdOJ3JLlPZ+hwzE1aA02FifhrZc+RsiyhZgZHUDnCTsydm3Ey69+gcRKb0xZNBqDfd05QTkT05/O0Olb135SoSV7Ouq4FJiffhBJlZzJ0UU5ZvQYxNBo6Uah1ZLILI12N0SPHIGIzVnI5ky8MDERcXUTMZvuGKfNRFoK6qN/yCgkk25I2YNNxcIWDQiNisKQgAB4UBOQSAGO1MiZdiPCx47DSG6m/YEz0AruJ0rMK8AIazAN8FNx2+Ld+ONbcXj76Wfx3dsW7msyoKKoFJUunhgSGogjhVyfJ1N0onHe6BOEy5fMwu64PHy+bTUeuXsXXra4cj8N7WXZNQg4n/vDPk2AbM9spqCJkA4fYu/wGTIEw7w34vut63HXsn1cKuKm2VEL8ff7ZnRYqpEMxB7kEjEMd/72EqQ+8Dr2blyHFcl78Q8vbuSkJaSWLuzpuTYEzpqLZdedhwF+Di+9DoV3+wJrQ6FtCo7G8vsvQ9bDb2Dj1g34EzWul6gt0IKGmvIiHMkqh3UGy75lNgb5UYvgdKL7Qot8nfV0ZhuX5KYjLycVu1voZbtL21NbCQwbhKUXzMLoYAnPJUw7AHOumot1Sauw9+MP8atdm+FNG1pNaRls7u6IDA9EOX1klFbUlJ9oTkaDN6YtHITMte9jxZ5v4OvlDDv3VGVlFsDgGo7Ft1yKqaH0zKM2Z2hkH4gdjYkBa/Ax+96f7/0DXvQ2ozFyJv716IWI6sLTykjb0KDFszDhtUPYvG0t7rwvGTGh7Gs5ZchOzUFNg7uYvVqSkfbBiAkzcN3sePzvh/vx7yf+jm9e83RoOzxNoMrZH0vn+dFzlMKUfTZ08AAMtm7BvvUf4Y74jbDQkzlq2qX44+1TYe1MalEIO0fE4uHHluCeFe9j5/o1eGj/LgRQcycCXE3KZ9+vx4CLF+G2qyYg0EIM6Nyk0+kj8JOLfvHgSklLYwQMuioHxGImA52KSi3rz8d+uNeG6+8BwWMxLoozFzoGmOuKcbi4Va88/br37Rw4EPfFxaGOkwU3aziGDx+GUF83GtQdzgaOtiCTUffHYG5sOAUa2wwUMNzsKuF+zJ6Mxn/DTXj8zjkINVUj5WAaPRHT4MuIGA89fBMWDwuFp9rrIsxN7Cr0KhwxDY89eitun9cPpVnZ9EhMRS43pS5afiue+uVMRPB5iaAg9iQVk44M2I0GatkzIzPV5hUzOV4jeNhk3Png1RjmZ0D64XTsT6pFeHA4bRdij6KAcuPSn7xL5quOJVE0eCBy5Fw8/+IDWHH9KBirKpB04LDyjGx0tmD+ivvx9ANXYka4le85WLQzl5XM9OpS/ZB2jGaRKrYxCb0kBndFn9kREqnTjsWZuclE5j9iNp584UE8fstYuFJYO8pORb3BA9MfvA/PPXwt5g3w55KlODaQ0ZNZu4qzh9SfjL+5/p2W0XTRaArDkosX4srRIxEe4E952YQl8wsLHIwrly7DI8t/hkUxwbASH6mHeLsNm3UR/njP5biAy7wFKUeQmJQKyzi6sz9wM9syDBbSIG0hEwqHIwFdxN0s6D/zCrzw2BUYZa1BctJhJGfUwWfsLDz8zEO44/x+XJZztKdomy7WobjzL7/A9AGeyM3IJO6VCA6JhC9lqbS3yYV9jPWVOkt9m5NoyZ4R0/HE2/fhdkbZsMXvx+YNiSiiVnzBLbfjoYti4Mo2Ut54rK/s53Ol7fXK39yB5389H+PqGdqK9Yk/lIXqqAm49/5bcMNE9mlpY26jGDhlFu6im34/93qksS8dSG5AGKPhi84udJtYB4mSYZa+Ke0itDq7Y8C4RXjun3fjnsuGobGsDAdUX0rlBC0YFz98L/62fBEmhjA4gowrEdzSnjKmGJJMbGLH2lOcVxjOihhLXxOvSdNpbkVoxq63fXILTWfTCEc1xfhZzZ3ya1Z/wtnMHtx0zXxYrZZTx4BFiaePjbaDGhrjpSOYnKVzcs7GTtAmcdpUJ8+JtxeHiXQcV1mTZmOebhI32ceefB0Tx3KvyoJpqrOokXi6GfeU96XJqUHVcG3fRi+1RmEmZL6KIbVrBqmS2FtUsFPajVQoIO6xEa87cRaQuHziRVVTK3Hn+DCvieuzDGq5J44Azhzssp6veJA43rAP1NbKsSW0Qwmz4oAWZwHhHxLih1c4qCUGmxTOPkiblY1uWm4UQs7iQSc0sg5iT6mVmHEsR+ohzgYmMjuJPSj7rmp5plcDdQMRsG7ipt60PCNek7JnS/KtEycSmaILI+KPuJ5L/EGh19EnSS/tJeIB18AwVuJd6ErhpBJpaCQ2EkOw2mYn0+Q9Mpz2XdnxsPxm3dQYIL3cnC0eguJNKdURIaw8F1k/icGnyiZdsjxbyRiCQqIr6y/9//j5N5XEuquYeozYIfYZRzw8h8u4MFxxhzexPGnDlnHX1CdsjL9Xy7aU2IocGHyWP3xOxEcd20AYrSs3UIsdUrY9SLtLcmHjqTbluJbxKpqwiZNNOYFa6uNIjvrbiLs8W8dnJaag7LsTd3EXeivUckuA0NxIrOWaxDls/a7Ei6wjT7DxXfHck2VAZwLibOAqjoR7I80y6XG0tbSPwxu5RspjnVgrhbPwHnOTIJEGEGeiOuJVTazlOam7TFLcpD1lYzzvVdUwqLe0PwWLw/PzWHvWsR/USHsyn2PtyTqxHJlsKZxluV36M70abRwHqj+TBtWf2TfsLLeacTTVmBBe1wa7Jhj6wEdaeg5eeWcD5i24AhMmTiaGtAOz3zann3R5UFpTZhqyvm000vhPQmRG3TJwmqmSTzI/shl2EOkCjp9mptP6Mf33KSCgRhWZBScM0g4Em20h7dB5XuLKa2BYG2faA6QtlBeg9CG+YCATNRu4odJE93BhfNQojDKj5HN2DkjH0qAILGYu+bO9OYz53cjBSabCH5lFK62KebJ7qBUs1S+EHA5csjQKK96jFGtmYVK22MlcKBBFGzRTgBloIxX3a4cbO12OGSJIGKic0dbaE1AcMoQeV153EQcMMhMhTRie4/1jA0SIlomVkYJP4jK2Hjyq/iTYRcqVjbPM93gYSlUUAHzASFxki4DR5Chb7igM2o8HaRM1Brg/idCq/OXhEyWhk7N0F35Km5nlZUmqCRxtLW3UJgnhvGZiOxtlAzfxlLYUjJsn/JRz/C40Mcl1EWCsu4xfwVMicTSaZQlM2kbGuAPnY+UIAcSTQkrav97sKEPq3uz+L5MOZ15u5HNtsFbES1uQyUvZfFf6m5MqX3Ur9iuhjLQ4pID6W4SaBLiV5WmzCA1eFTpbaFOV4VtSd+7TE7olAokjHylLHuA99kJ3RntRPEuuqffk09Geqv1IeHM0kU7bky85CT0i9EhIm/4s90iDmf1ZlU6aj9WDJOjUgsBPK7RUw7CDthTfxR/sDE7C4NiQOp1pBByDzkAGcFLosg0c/zqhQzFIzrQ5GDumznNXQoN5dvZGx2xk1t55PsIwhClJTq0sok1kiEAVqjtLDmZz3HzbvSKMxvGv3Q35KtiwIsf81jp5pv0lhZlMGtrfaPed9RMhf0qhfFqwaZdnl18dTPV4dW2DpRqfxL1VIzrG6okq5RAQSmh0Qov0SUmtsm37lMKb2LW9qr61oa/5fhOGJ+Qjqj7H4zcUeiSr8z7OgkS4d3W/NS3kgcftd6TByE5x3Lo359PHPztt5z6Oia6+RkAjoBHQCJyjCGihdY42jCZLI6AR0AhoBDoioIVWR0z0FY2ARkAjoBE4RxHQQuscbRhNlkZAI6AR0Ah0REALrY6Y6CsaAY2ARkAjcI4ioIXWOdowmiyNgEZAI6AR6IiAFlodMdFXNAIaAY2ARuAcRUALrXO0YTRZGgGNgEZAI9ARAS20OmKir2gENAIaAY3AOYrAibevn6OEa7I0Am0QaApVJGF6Og0L1ubhM/SluUyGgpIkIY4kSodOXSFArOS/iuAkeHX17Enek3aQ2EcyBdf4nyRoPfcxLbR6bttpypsQsDNgbV3hAfxr5Vc44joUy+6fiYEMdvpjJjuDxVYezcOGDV9g/a4cMAYzvIbOxG9vm4hgCfvUEv/ux6Sih+XNILsN9YVY9cw72IoQXLXkQkzox6NRTgcrSr/q9F144p/bETBrHpbMioZV49/DOkb3yD27QkvNVHmCrkR1ZpBK9dNEvwTUNDCmlwTJ/clmzt3DTj99TiDA6N71NmRv+w6vf7EZ1TMG436G/7abGUyV/UsiidfztAA5QkQFOz0dBtmqvvWVpfh+1btY8doWFJWZERRQi6qEBsy+bDwWBZ3b0eMk0rhEubfxs6FJS1RVo9YjQVxVAFth/C2BYXlXosXzHRmyEoBY4iF2VzDLoaINtjLs3rgVq+39MW7m+RjLQzFVEPhT0rhIDFM9Jyi5O77B16UGDIgJx8x+bt2mTWWkf/UIBM6u0KKgamioQ3nVEaxesxYfxB/E0XJHhGWn4DBcOPA8LJw3HcOsDCKp1f4e0aF+ciLJRettGXj3tZ0oqeHpuTdMggcFkwgsnieBlLeewoXP/oCRl92G5397PsI5GTq9SZAwSjuK85Ox6r1NyPQaihW/vw7XjA1VR02YXU/i6JCfHKS2BdaUFuP9vz2KFavT1fEo6q4IDR59EjF5Mn518aW4aEokD9WUo4PkhkwMivHBP1/DO9vyMHTBMp742484d1ObFYFHwSXHd8jxRDJZlWY69UTa+N/kHoUlC4bgxg8P4PPtSRgfPgJWBksWynXqfQicJaGlei9qqktwZPuneOTD7ThCBlPfatZnyDiCz/OPIq/BiDuvmo7+zecj9L420DU6VQTI8ezUssr3kFkVlKAhdjHmR/HMLQm7zr4kDFLObaqudpy5JVqFTIlOWw9iuVUlWUjNrMPA6WEYFBkKL0+eQMwjUuSIFXtVKQ5l5iO3lIcLjg5DEM9kOmES7k1GLgcjHs6zISQ6DGFWD0YWP/Ost5ETxTo506rRAE8/HwTw9GhRQO2NxHLnNvz+231454pb8MK9kxDJe6wRUMoTq7cm85DPImSHHsCyKyPgccJKtX9A2sTRLnIWmvwt7dF14jMVpUhJz0N+uQtiRhFPt9Z4Mmo6I6OHTxyF0W9/gPi9KcidNwRePP5FzkTTqfchcHa8B2WA8gTj/ENb8bc125BUWYUqHsMT0C8a40cMxxT+DBsQCl+zATU8LK+ez+qkEeiIALWsuhJs35aAXB5tPnb2KMSQobUsW7Gf1XEyJAf0yaccGngSXLJjMa2vqL5LbSGnGAUNJli9/eFndePBgzygUY6V4GGEDZn78dSfnsbVt7yC9RW1cByT2DqTTv6WM5yqy/DN6y/jmlv+jhe/S0Upaf4xUiPHUwO1nXqPMFyy/A6898Zf8fFbf8V/X/wNHloyFkEuZfj+7Tfx3N4CHiBJIUMi7J5+mD1vNOacPxYXz+8HH7l4RtIJMiLeDen78Njvn8DSW17HhjIeyMlyW79l5HlngWGDEB0NJCcmI72wkis4rZ84I4TqTM4RBM6OpsWBUN9QxePZDyOjooYqvhH+QcNww7VXYpqfhUf+2VFaUYSszDzUeoYjQGbOOmkE2iFgZz9qKCpAwpFClNWHYNLYAHUKtrLFnHgK3y43fiWDrBc7D203jVy6otqk7KpGnvHU7CzQSEFi48m5tcL0pR/zey2/V9bIAYWcA1IgiGZXJScq83pVZTWqeHig2IpM/FFnMrVXAIQxSz48tbaa78lp3VU8MbySp/i6kxbR4Ixc7mpZIm9HpzrCkrSa5IBV2pocXowdq9fmCmlQBzzyQEY5+t2DB2N5uEdj7pL5SEjIxJHv0rBlO4XW5HDllOds8se4K67B8Et5IjWFhCttXi2J9NjF5sU6yCnQAr1Tk8yQQ0DlgFGxKbaRNPIy32uU08kFa/lKnU4OlnSWQxupJUmejXJicLWNeFIz5AnZ1VXEs5J4CJ7kCyZZBuTzHlYrosNDgPWp2JZWhMn9eMS9y9mZk6vK6F8/GgJnRWjJ3E2WIqQjypHrdi7YmEzuCPT2gy9nynKKqZebB8IDIlWHdJwe+qNhoDPuqQiQ6ZXnFSItvxjVAVEYaHVoWd03f5J5qqPS65CwYQPe+WwvDhSWKHtJVOQIzL1qDi4YEUSBCBRtX4ffvLQJR1IzkGOvQdHWL/C7X++Cr4cZs2//DWIT3sLTn8bjUHoBbLajWHn7H/GhxQ3OPhG49PqLce15/eDaetmKdaAHEnK/fBvLX/sBaalHeJS8DZ+98DL2rfKAh6sbBs2+DA/+bCz8WL6dQkyW9vYJnZ/vRTLptFMANfQLxaShc3HbBYPoFMIxpByYum5YJzmMkszfzOPMXaVyDTxpOsAH4RZ3HqpJgUGhoU6jVtahGux+9w38Y1sOBl17J/5nVpAjc7FR2epxaNPXePPTPdibW6iEk2MZkHWTMqz9cN2tl+Hikf4tS7OyPFhnK0HcNz/ggze/wwEKPHe/QMy65BJcMqk/Ar1MEGeXDW++iufXJCI5rZhCqwzPEM//ervD2bc/rrnpYlw+PgyuFFrOFgsiwwPhW3MQcYdKUDtFVme6aXPrGi599xxB4KwILZloGpzcubTCwSwUsNMXZO3DC6+8h9JL52JmZDDcm46bpkldMY9zBC9NxjmDACc+9jocSU9DZuZRlPSbjCHA5rCkAAAVrUlEQVQuppaj4U+eTDJWMueqqky8csuDePpANWrqzPDztaKiogA7du/H2i2bcOVvf4ffzw6Gh1MdamQ5216KqrpalNdVw5MakguZd31eNcoaa1FdWAVbeTWFjx37q31hodphMtXBpcbOY9ZFBZER0Jz4ne+WGahRlFWivrCCy5n1yKipgEeFATQ/gVlS41JTPWpxWXjh98/i2XWHUF3LhTJmJTnaSefeT7fhs3Vz8fAj12N+tFu37GFKOEkd0nOxg7bkCupXURyHoiUJtfWsZ1bSQez6IROV08q4bO8Hs4laF5deD7/9NBY+sYWalgs8LX4IshXhUEUlKnnPw9MLUSODYKppgEHVnbTKZ8VRrH3+n3j2cBaKK6ihiY0Lidj0TSJ233MH/rp0DEzUwirs1FiLKlBbUU1c7Eiu8YU3l2BNZpsjT2q7yiDn7IqAYCuslkbaGvOJPbERYFpD3Qy5/uzRCJwVocWRwBmeCUPGTMK0fRn47HAu5VY1Ug9uxZPP7MSb/Ufg4hlzMD3KHyFWC1z4vO58Pbqf/SjEN9obUEtt3Ua39hHhQdQWTqE7U2DV05a04cln8Pi+KkSOnI67HroGk+mxam+sQ9buT3Hbo5/jk///EkZH3oOLRszDP56bgsNfvYef//ZLWCddgN/9vwUY5e8GVy6xGbEME4dvxb1/eQufxfvhkZV343KrJxm8mXYvcyeei+Sq1Eb6TVuKNwfPxH+eWYkVHxXjip/fil/NHwx/OnF4ebgzXy4hks51jz+JJ1YfgiV8IK678VpcNSMcnryXu3sz/vz4KuzZuRHvfNwfg5bNwECLSyflNTUFGXqjrQq5aWnYuYuOg1S0ygsP45NX12FzUhmsC6/HE3O8uAQny3tcBqWgqacgkB/lKs/vsnxXe2gjfvfiD6g1+2D5k/fi2iGBFHeNyPr8Yyx9/ANYIqbgrj/cgNmh3g4nFSleZFZuFnY3DMDMS67DzTech5DqUnz77lt4blUc3v9kC+5YOBTRFk8suv4OTBv+LW7745v47lAYHnnuV7jM1xMmFzPczGZZwXUkJxdYySu8vAzYeiQXVVy+1TKrCZte9nEKo/wMIMBB6kSh5eE/BMtvuBxOq77AjkNpSOPsrLrGgPL4bfjnob34avh5uP6CuZg0gDNcLbXOAPC9KQuypPpaFOUVo6TcjuAAX2oz3e/Osl+pMnk73tqUjyrTQCx/9OdYHE17CJfwnBroxee3FPdt3IF7v83BzoQjmD94GALczSimt6Ary/OkJuHn54vQIHrZiecgl7lcvD0oaMQxwxXeVh+EhVohlDXz1zatIGuZXKJzp2Byt1vhSfuSC5frvPheYJAfQt0dnnKi0ZQf3IY3NpJOmwXX/WY57p0ZBU9X2oAoJCJDF+NP1ObuWfEWtmzZjb3zRmAANZzWpqfW5Sq97Wg63nvqGXy00pm08y41LaOHBRNmL8Q9d82HN5fhKIePm2RfZU5cEpJoh2vsdwEuGBuFCD8vCthG+CyZi5v/sxb/tWejsMwdrv1dOPnkJEOKocAzevhh3o1X456lExHt7w5Dgx9Cli7GtrgM5CUkYV1+FW738YW7JwU98fT2oHcmtSkvH2+Ehvl1gqcTzJwUiDOMOa8EaVzuHciyuiD/uPXSN85tBLo/ys9UfThKTJx9egTF4vabQ3H+nt3YnpGCvYdSkJxTQWN3DQ7EbcPz7OWNVy7C3HDrmSpZ59MbEJAlJs6mK8u5VMc5ta/UqVOp0HVlG+g4kXkgGanl5aiBG3Z/9BGyKHCUpznvieNF+qF62EtsyM/mMiSXo3ybCpLiVJHty1US4BhBLc91TUqHu63dCMTpJCMxCUe4FOkUNA3zxwXC1exwEHEia3aGC4JiYjFxiDfik3KwP+8oFtkDeb09cY5iZNHPycMfE2eOwJRB/kDtUez9agd2VVCABnojWLwwObnsKomQtoQGIpArIfl5cYg/MhuD3LhEiwYU7tmJjUX1MIZ6UoBzZaUVGeI44RoSjAmjoxHiZVaOFwYnZzpT+CDURxyxylHId9tsfBZCmEdXFLnTDu5KL06ubTKJnqVTb0Tg7AktommgR5FZPJ7ojTThvFkYNnIUDudkIXH7eqzcfIheVFXITj2IncmZmEyh5dkbW0DX6TQQELuWzNybsmj+7EaOMusvKyujvcRGwZSG998q5lJe0/xcZWxHbVk1jO4BsFPzOFtJlkLLysrJyBtQEtsfA6nlubbaQOtE47AbNQ0LNUBU1aK0ik5OJFYgaSUv2pLv7ovx8+Zg+YLBMNnKkTIiCk+99AG2fPw1Ppo0FnfNYF4n0FXcBk7AktFrsOerA3j24ZX4pj+9femAciD1EA5UGzFt1hxMDnJWS4PNhYtMl6gbZkayMNMO6XC0omAj/T6uvMb7jRTSVPy6l/iewwLXvdf00z0LgbMqtBRU7MEGCi4zHTOcqf4Pc7MiKjCcDOSveC6B+y1qypBXXIxyG+DZek9hz8JZU/sjIGDnUpDF6gUv5p1beFS5qp9qMeJJVz/gQjz3zGIMpqYljF5tquUnTTfk3c7w4RKkVQSaU3e56alS1fl7HkWlKCaB/Tq/fXJX+b6BW02c6fLuzkgY7qzzKEafWZKcjIOvbsNT/9mKn08I5vJj1x54hkN78HoCAy9GxcLTkI8vv0qmw0UjIsKH4dYHb8dtC0cgmLY1FVlDpOgJ0ukIHZl8VFZVnqAEfbunI3B2hBY7tZ1uUWXlFaiod2L4G27OlL0oYvQloo12bggVryCZkhndYPXyopG9p0Ot6T+jCMhkh4LGpDb0glq5bELvvqolS1yh4XRm4LKSZ2YuSixWBAd6qm0XzfaQRtG4+JzJLNsxTr4Wdvbjenq8yetiQ+o6fBT7uvynp6HEiXDsF5OypE6OuoaGBnNJ3QSX5BQklNcilpqfi9je5Cna5spKjuIINz07cck9SqJpqDf563iJdZKlOqNMGqm12Y3+mDJ9LIZ/l4jsb3fivcL5WC7u+nTE6CzZqf3t2rGHYdhqMe1nP8Mj53vCk/mQfOUoYaZ9zotbAZxFIySRnefSOmepScfUDLngKR6EgqeaR7R5XDBjH+AWmrpIf8RQ82x+r2OO+kpPRuCsCC21EbEmG5+u+hBr8w0YNGgohvv7gE5W9ARjyJYD2/FmUjVxNcAtKBiDI0KgLVo9uZv9GLRTD3Iyw9efbs5WA3Zm5XGDcfcjp0hg5oDhIzE9fCPicuLxzeoUzLp+DMKtZk6iHHTXFZcip7AI5rAIBIqbXZeJgoBLd27yMp0QfoivQGOYD2zcl2ik3ca5K2cREYy872IvQ2o6957VUDXxlFBU3HTLCV1A/wGIspiRkLsLb726CUOWzcLwIAtcKTwq81Kw4cO1+CYFiL5wMEZH+NIu14ard0m1SBUnOoQExAzARDo+fX3gAF5+cR+ufXQmo6Z3nk9jYzW3BXDfGN3xN339FTZYBiLSjbg5ucJC7crFTHf3QeGMDchrXZd+/LsCIycmDjyzsG9/BRoircqz096Cp4jDWhRT2y4taUTs1GDHPrXj56rv9GAEzorQkjmXE9fma2w1yEtL5V6bRKznoBFjrYSYUevZXLqweIfigukzMCnSrwdDrEn/cRCQ/mJCcGgIvey84MHYdPu56XYU+VfrvbtqWk6tPnPXt3jyL2nwpqok8QFFPXF2t2LI+PFYMDYGV998Hr5O+xib3ngJ/5M6AiOi/OBOTSFPlh2LSpDHGf5Fy27FJUN8utwLJlkb/IMwMtQHnxgysOHF17Fipx+c3H0wddY0XDgmQmlHHTBh57eb3RAeE4Eot72I+3ItHi9Jgr8FCB46HTdeNBRu0aNw101TkP7UWsR98jbuzdmPcRSIEkGmPDMRX23JgtOo8bj5mukYEuIpO0u6mSgcfYIxc8pgvPjtQeR/twZrUybjqujOhY7B4IFR86di/O4UrPl+HZ5N3A5/K+Mv0pvTLuYwkydiJo7FvEUzcdXkSHgSm+4ntnNgKMaEWrCOnoobXvo3Ht5BfuBhxZz5MzA7NlRt+kZdDQpyS3C0yoWTXH+4yOTglMrrPoX6jZ8WgbMjtGRku/hi8tixOFLSgO/zC1FQVqpqLosdVq8gxI4Zjwmxg3F+7BAE00tKJ41AewRkuc0aEoQBgdzoSoa2NbEaV/YTI38Tv+J9dYQGbVDF3ELxfkqcWqZSvEzuWYIxxzkM8yaHof/UhXj0IVd89SWD727aik0bbEorKvN0R0y/wVi8YDxi/UU8SKK/HrUSZ/qTG6hRKSHYTByFj7MXIztcuxD7Csrx3tYteDVePPsmY9j4aZyvSQ6dcFPS42Q0Y+B507D0inys/GgPPlyVTG0lDNf8egbfYL7cCzVq0WV4zM0Ta77chY+37kIiD/KS3IICrOh31RJcNncM95KFwkpb1PGWI8V+p+hnHSTsk0wWVeKns8kDA2aMxaQPNuGzxBS8uykNV/SPUVqbvKPCJ8mn0MvnLdSCSivtMIePxi9vnIIobxcYGLqqjCGXMuL3YNXqNUgpqkFM2HWYGunOdxxli4+hkQ0leTQnoddITCWUk6KrSegayQ8W/Gwx4osrser7LXgtzoyQwdMw5jzuXWtaK6wrLWPUDLrXe4bimhgK8uP5+jcXpj97LAI8wUGNok4rIDHYqhkDbc3qT+jFtwc3XTNfbeDr9OHuXBSbFvd41NZUcY9NJcol4rRs/WeSTq32Y9CO5cWlBjd6GCrvoladuztFdfZsBQf6Y0++joljh+GSBdNUKJvO+Ehn7+pr5xAC7J+2ijyGPHoV97/yHYJu/gPW3j1B7bFStiex8xTmIyW7RNlAJEZfs/IhMfGcqdl4M/JFmL8HjOyPNm62LS+pRFEpo2KozanUGLhnyuLhCT8f7r2iw4LjqI5GVBQVIzOnjHMvXwRwb5KXTKxUH6VQkk23XEUozCtCQUk1N+Y6wd3Lm4LFB75dbvhlgF9u9SgnA84qKOWxIdzP5OyG4JAABPjQDd/oiHVYV1vNZbAy5JfUqsgPUicXGn09uF/Myv1MHvTKE6Z/vD5dV8P3C/KRU2Vk/elm7uvREltRXPbqbNXI4XJrKcOCmqwB6O/H/VpODTiak4OCygYYfQMRaXWFoT4br9/5NP62rQKLnngQd49j+RyzspLSQPtSRX42nnrgIbx6tD/+8uiduGFiGLXCWuQyYkWRzcD9VkHwEZuXqMZkQxKxPy+7AEcZIcNC+52/hwu9C1kPaWdGHylkiKh84imOMW4WH4WnD72zDLR1laYm4qH7/oQ3q4bhjf9dhpmDA+HFPWw69TwE0tJz8Mo7GzBvwRWYMHGy2rcoZ+E1p7PTqhRMEhDT7OoBfxc6WkiH5WCRaawILWUcJpFGGXg6aQSOhwBVBCO1j5GjByLIeydSuAk44ZdjMMad3Vr6DjUCD98ADPGiDYR9SwIFHUuiLVHLkC0X/HSilHMzeXGAuMPbT4Lm0h2CvFSCz0ogWqVliEqiBBOfpcNGf08LtToa/KUsdV1y5x8s14X9OpBLl35BEnxXhA/z4OxfNKbjJgpSk9kVPn4muFu8lcu3CFrZMKsYuwhaOmKIJiJ0+pBOyVtiDzqRBqFTtD8+1mUSj0FrEI9TaRpvYi9rSRx/zhSUIWHhCGLZjgMfRdjTezI4hO84rom/Rf3Ro9hP4Wpr8EdYFB02KOBdRMNjZvUSYgqFKCpuVBuDfT0p5Ji3weiKwIhw+HGSIEF0W+KKSh343S84CL5sLCfWRUJIqSR4GlwRRDx9iWc96yz1FAcSgb6BTjj5GfHYf9AFMy4bjZgQby4ZnrIVzVGm/n3OInB2hJaCQ5ZDuBQgP8JRWqcTjbrWz+q/+y4C7CdGMmC/ceNwadQXWJmwB+/sKMLw6YHKc064t5H7gNxO4PzQAqB6npMle7th0aE/Sr5kmHYyxg73HLk5hAiFUEtewpVbSjr+H8zPQKHk2prptilD8pHyT4bOzouRcScC26ikXcdnFO2GZlf3Y3QbeU3ErqoHnT9A4Wb1cqPmk4g/P/YxXJcOxyBqne7iFFGcgy2rP8X6Yk+MPW8EBoUyUoZ4Oopwlejsjhlqq8Id9TKpyOxKmra6xz8p8NrW+RhddbYKJKzfidSAYFw7MgaBHvSwPI7zSNtM9beeiEC70XmWqtBmUJ4lGnSxPRABMi5q5C7mIMy9dDhWpWzG+ne34c6pFyG6tb9ad/vXyT5/wueOMdZug3vCvJnjyTxz3IJPQFtnebe5RiHiwxODb7wUBYGbEbd3E1Y+tAGNDLnkiWoUNZoQEcL7V03AoiWTEeNNDbFZc2LRDsnXCXFd3VOvqQeOvSjLmUXJ+Oi7bAwavxBzx0WqY1bakHrsaf1XL0Dg3BBavQBIXYWzhABn4CYuSw2ceRF+Zx+EXGMI7SZqpfmkFJuzRHXPL5ZSQZY8o8+fjgeGDcTBH/YjJaMURbQ/CfAGHx/EDBiEMf1DEODrRseItk4XZwYAxwqNk0sgFv38enhz68KIYAYpkDVDnXotAlpo9dqm7TsVU5tj/fph7uWR3Jju2OvUbj7ed8D4KWtKzUnsY/5BYfCZHYix3NzdvL9bbIFyVlebgynPOG1sZf53DxyAxVdGqLBwUmaLRnfGy9MZngsIaKF1LrSCpuH0EODM2mCkp9np5aLf7i4C1LbEoUocWUy0HZ6dROFIm6VE3NepbyCg9ei+0c66lhoBjYBGoFcgcJLTE3FJ594Lca9V0UN7dt1VxA3WR9zsHccf0LFYryf17EbV1GsENAK9AgF1irXiz+28yptqd0KhJcLKZqtDIeOvHUrN5Dk3Pf+AkIqqahwtqUB2bhGSDmU41sC11OoVHV5XQiOgEejZCGTmFKKktJwb9Hm0RyfphEKrjiemZufkYvP2BGTwEDwzI1339CRCOOkgYx6yPrsTMqlldbnls6dXV9OvEdAIaAR6DAIVlVXIzMrFpKn5aoWvPeEnDONko7TLz89DTU0NIzd7qV3t7TPpad9F/SzIL4AX6+PuznhoPa0Cml6NgEZAI9BLEbBRUZKz0fz9/eHjY1XH8bQO49Sl0JKlweYfiUMoGklv8NyQs3gaKbgk6KfEoOsNdeql/VdXSyOgEehjCAh/FrkjodNEWLUP/Nyl0OrNWAko7cHozfXVddMIaAQ0Ar0BgT6rZGiB1Ru6r66DRkAj0NcQ6LNCq681tK6vRkAjoBHoDQhoodUbWlHXQSOgEdAI9BEEtNDqIw2tq6kR0AhoBHoDAlpo9YZW1HXQCGgENAJ9BAEttPpIQ+tqagQ0AhqB3oCAFlq9oRV1HTQCGgGNQB9BQAutPtLQupoaAY2ARqA3IKCFVm9oRV0HjYBGQCPQRxDQQquPNLSupkZAI6AR6A0IaKHVG1pR10EjoBHQCPQRBP4PLy/Mu7ureHgAAAAASUVORK5CYII=)"
   ]
  },
  {
   "cell_type": "markdown",
   "id": "e315d1b7-5652-4366-8d7a-878bfec3b098",
   "metadata": {},
   "source": [
    "**Error al no seguir PEMDAS**"
   ]
  },
  {
   "cell_type": "code",
   "execution_count": 33,
   "id": "156330cc-5dfc-4b27-8d9f-815e22eda629",
   "metadata": {},
   "outputs": [
    {
     "data": {
      "text/plain": [
       "3.0"
      ]
     },
     "execution_count": 33,
     "metadata": {},
     "output_type": "execute_result"
    }
   ],
   "source": [
    "5 + 3 ** 2 - 8 / 2 * 3 + 1"
   ]
  },
  {
   "cell_type": "markdown",
   "id": "c97d1f44-109f-44a4-8492-617a9e34e112",
   "metadata": {},
   "source": [
    "1. `5 + 3 ^ 2 - 8 / 2 * 3 + 1`\n",
    "   - `3 ^ 2 = 9`\n",
    "2. `5 + 9 - 8 / 2 * 3 + 1`\n",
    "   - `8 / 2 = 4`\n",
    "   - `4 * 3 = 12`\n",
    "3. `5 + 9 - 12 + 1`\n",
    "   - `5 + 9 = 14`\n",
    "   - `14 - 12 = 2`\n",
    "   - `2 + 1 = 3`\n",
    "\n",
    "\n",
    "**Resultado**: 3"
   ]
  },
  {
   "cell_type": "markdown",
   "id": "b50671a1-b00c-424e-9b10-0bf66ab6e4ee",
   "metadata": {},
   "source": [
    "**Uso correcto de PEMDAS**"
   ]
  },
  {
   "cell_type": "code",
   "execution_count": 34,
   "id": "6d764e87-9297-447e-909f-2b1713d1385e",
   "metadata": {},
   "outputs": [
    {
     "data": {
      "text/plain": [
       "53.0"
      ]
     },
     "execution_count": 34,
     "metadata": {},
     "output_type": "execute_result"
    }
   ],
   "source": [
    "(5 + 3) ** 2 - 8 / 2 * 3 + 1"
   ]
  },
  {
   "cell_type": "markdown",
   "id": "a68cafee-ca4f-439c-b145-9ef9cac8a91c",
   "metadata": {},
   "source": [
    "1. `(5 + 3) ^ 2 - 8 / 2 * 3 + 1`\n",
    "   - `(5 + 3) = 8`\n",
    "   - `8 ^ 2 = 64`\n",
    "2. `64 - 8 / 2 * 3 + 1`\n",
    "   - `8 / 2 = 4`\n",
    "   - `4 * 3 = 12`\n",
    "3. `64 - 12 + 1`\n",
    "   - `64 - 12 = 52`\n",
    "   - `52 + 1 = 53`\n",
    "\n",
    "\n",
    "**Resultado**: 53"
   ]
  }
 ],
 "metadata": {
  "kernelspec": {
   "display_name": "Python 3 (ipykernel)",
   "language": "python",
   "name": "python3"
  },
  "language_info": {
   "codemirror_mode": {
    "name": "ipython",
    "version": 3
   },
   "file_extension": ".py",
   "mimetype": "text/x-python",
   "name": "python",
   "nbconvert_exporter": "python",
   "pygments_lexer": "ipython3",
   "version": "3.12.2"
  }
 },
 "nbformat": 4,
 "nbformat_minor": 5
}
