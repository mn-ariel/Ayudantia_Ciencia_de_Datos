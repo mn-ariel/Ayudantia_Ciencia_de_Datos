{
 "cells": [
  {
   "cell_type": "markdown",
   "id": "44bc4480-b0c2-4f0e-9ea5-22ef0ee83e6e",
   "metadata": {},
   "source": [
    "# 6. Clases en Python"
   ]
  },
  {
   "cell_type": "markdown",
   "id": "a1fcf8ce-7b9c-4d0f-85ea-b4c114253861",
   "metadata": {},
   "source": [
    "## 6.1 Introducción a las Clases\n",
    "\n",
    "Las clases en Python son una pieza fundamental del paradigma de la programación orientada a objetos (POO). Permiten al programador estructurar sus programas de manera que los componentes pueden reutilizarse, organizarse y relacionarse de una manera intuitiva y escalable.\n",
    "\n",
    "La programación orientada a objetos nos ayuda a modelar conceptos del mundo real como objetos de software, definiendo sus propiedades (atributos) y comportamientos (métodos) de manera clara y concisa. Esto facilita la gestión de complejidades en programas grandes y mejora la legibilidad del código."
   ]
  },
  {
   "cell_type": "markdown",
   "id": "22bf9eb9-6edb-4315-b8b3-6b6728653ee2",
   "metadata": {},
   "source": [
    "## 6.2 Creación de una Clase\n",
    "\n",
    "### 6.2.1 ¿Qué es una Clase?\n",
    "En Python, una clase sirve como un molde para la creación de objetos; es una estructura que combina datos (atributos) y funciones (métodos) bajo un solo nombre. Las clases nos permiten modelar objetos del mundo real o conceptos abstractos de manera eficiente y reutilizable."
   ]
  },
  {
   "cell_type": "markdown",
   "id": "1c9dc903-4d2a-49f4-a31f-c621e3d493cc",
   "metadata": {},
   "source": [
    "### 6.2.2 Creación de una Clase en Python\n",
    "Para definir una clase en Python, se utiliza la palabra clave **`class`**, seguida del nombre de la clase con la primera letra en mayúscula (siguiendo la convención de CamelCase), y luego dos puntos. Dentro de la clase, se definen sus atributos y métodos:"
   ]
  },
  {
   "cell_type": "code",
   "execution_count": 2,
   "id": "59464472-90f0-417d-ac0c-35e446e55dbf",
   "metadata": {},
   "outputs": [],
   "source": [
    "class NombreDeLaClase:\n",
    "    # Atributos de la clase\n",
    "    atributo_clase = \"Este es un atributo de clase.\"\n",
    "    \n",
    "    # Constructor de la clase\n",
    "    def __init__(self, atributo_instancia):\n",
    "        # Atributos de instancia\n",
    "        self.atributo_instancia = atributo_instancia\n",
    "    \n",
    "    # Método de la clase\n",
    "    def metodo_de_instancia(self):\n",
    "        return f\"Este es un método de la clase, invocando el atributo '{self.atributo_instancia}'.\""
   ]
  },
  {
   "cell_type": "markdown",
   "id": "c3a70ad0-da41-41af-90c0-37ee933b4cef",
   "metadata": {},
   "source": [
    "### 6.2.3 Componentes Clave de una Clase\n",
    "\n",
    "- **Atributos de Clase**: Variables definidas directamente en la clase que son compartidas por todas las instancias de la clase.\n",
    "\n",
    "- **Constructor `__init__(self)`**: Un método especial que se ejecuta al crear un objeto de la clase. Se utiliza para inicializar los atributos de la instancia.\n",
    "\n",
    "- **Atributos de Instancia**: Variables vinculadas a una instancia específica de la clase. Son definidos usualmente dentro del método `__init__`.\n",
    "\n",
    "- **Métodos**: Funciones definidas dentro de una clase que describen los comportamientos y acciones que pueden realizar las instancias de la clase.\n",
    "\n",
    "**Ejemplo Mejorado: Clase Coche**\n",
    "\n",
    "Veamos cómo podríamos definir una clase más descriptiva y funcional, como Coche, que modela las características y comportamientos de un coche:"
   ]
  },
  {
   "cell_type": "code",
   "execution_count": 3,
   "id": "92fa1a14-fe3a-4b03-8be5-f34841c5c3cd",
   "metadata": {},
   "outputs": [],
   "source": [
    "class Coche:\n",
    "    # Atributo de clase\n",
    "    ruedas = 4\n",
    "    \n",
    "    # Constructor\n",
    "    def __init__(self, marca, modelo, año):\n",
    "        self.marca = marca\n",
    "        self.modelo = modelo\n",
    "        self.año = año\n",
    "        self.encendido = False\n",
    "    \n",
    "    # Método para encender el coche\n",
    "    def encender(self):\n",
    "        self.encendido = True\n",
    "        return f\"El {self.modelo} está encendido.\"\n",
    "    \n",
    "    # Método para apagar el coche\n",
    "    def apagar(self):\n",
    "        self.encendido = False\n",
    "        return \"Coche apagado.\"\n",
    "    \n",
    "    # Método para mostrar información del coche\n",
    "    def info(self):\n",
    "        return f\"Coche {self.marca} {self.modelo}, año {self.año}.\""
   ]
  },
  {
   "cell_type": "markdown",
   "id": "9a09b463-e91c-42f3-8684-c50e40ce02c6",
   "metadata": {},
   "source": [
    "En este ejemplo, `Coche` tiene tanto atributos (como `marca`, `modelo`, y `año`) que definen sus características, como métodos (como `encender()`, `apagar()` y `info()`) que proporcionan comportamientos. La distinción entre atributos de clase y de instancia nos permite manejar datos tanto a nivel de clase como a nivel de cada objeto individual creado a partir de la clase `Coche`.\n",
    "\n",
    "Este enfoque de definición de clases hace que nuestro código sea más organizado, modular y reutilizable, permitiéndonos modelar entidades complejas de una manera que es intuitiva tanto para el programador como para el usuario final."
   ]
  },
  {
   "cell_type": "markdown",
   "id": "27766b64-9600-422d-9913-798044c109c7",
   "metadata": {},
   "source": [
    "### 6.2.4 Instanciando Objetos\n",
    "\n",
    "La creación de una instancia es el proceso por el cual se crea un objeto específico a partir del \"molde\" que la clase proporciona. Cada instancia puede tener atributos únicos basados en los valores que se pasan al constructor de la clase (`__init__`).\n",
    "\n",
    "Aquí tienes un ejemplo de cómo instanciar un coche específico y trabajar con él:"
   ]
  },
  {
   "cell_type": "code",
   "execution_count": 4,
   "id": "f7cbcf62-7c82-4d33-a3b8-c5026149e679",
   "metadata": {},
   "outputs": [
    {
     "name": "stdout",
     "output_type": "stream",
     "text": [
      "Coche Toyota Corolla, año 2020.\n",
      "El Corolla está encendido.\n",
      "El coche está listo para conducir.\n",
      "Coche apagado.\n"
     ]
    }
   ],
   "source": [
    "# Creación de una instancia de Coche\n",
    "mi_coche = Coche(\"Toyota\", \"Corolla\", 2020)\n",
    "\n",
    "# Accediendo a los atributos de la instancia\n",
    "print(mi_coche.info())\n",
    "# Salida esperada: \"Coche Toyota Corolla, año 2020.\"\n",
    "\n",
    "# Utilizando métodos de la instancia\n",
    "print(mi_coche.encender())\n",
    "# Salida esperada: \"El Corolla está encendido.\"\n",
    "\n",
    "# Verificar el estado del coche\n",
    "if mi_coche.encendido:\n",
    "    print(\"El coche está listo para conducir.\")\n",
    "else:\n",
    "    print(\"Necesitas encender el coche primero.\")\n",
    "# Salida esperada: \"El coche está listo para conducir.\"\n",
    "\n",
    "# Apagar el coche\n",
    "print(mi_coche.apagar())\n",
    "# Salida esperada: \"Coche apagado.\""
   ]
  },
  {
   "cell_type": "markdown",
   "id": "30df7ff6-9ba5-4193-8add-61f666f02d21",
   "metadata": {},
   "source": [
    "En este ejemplo, hemos creado un coche de la marca Toyota, modelo Corolla, del año 2020. Hemos accedido a su información utilizando el método info(), encendido el coche con el método encender(), y luego comprobado si el coche estaba encendido o no. Finalmente, hemos apagado el coche con el método apagar()."
   ]
  },
  {
   "cell_type": "markdown",
   "id": "49457c3b-4f8c-408c-b90c-f6e1f6a02538",
   "metadata": {},
   "source": [
    "## 6.3 Herencia\n",
    "\n",
    "La herencia es un principio fundamental de la programación orientada a objetos que permite a una clase (subclase o clase hija) heredar atributos y métodos de otra clase (superclase o clase padre). Esto facilita la reutilización de código y la creación de relaciones jerárquicas entre clases.\n",
    "\n",
    "**Ejemplo:**"
   ]
  },
  {
   "cell_type": "code",
   "execution_count": 5,
   "id": "6e4e0bfd-d000-4835-9e9f-6a5ff15e0365",
   "metadata": {},
   "outputs": [],
   "source": [
    "# Definimos una clase base o superclase\n",
    "class Persona:\n",
    "    def __init__(self, nombre, edad):\n",
    "        self.nombre = nombre\n",
    "        self.edad = edad\n",
    "\n",
    "    def presentarse(self):\n",
    "        return f\"Me llamo {self.nombre} y tengo {self.edad} años.\"\n",
    "\n",
    "# Creamos una subclase que hereda de Persona\n",
    "class Estudiante(Persona):\n",
    "    def __init__(self, nombre, edad, matricula):\n",
    "        super().__init__(nombre, edad)  # Llamamos al constructor de la clase padre\n",
    "        self.matricula = matricula\n",
    "\n",
    "    # Sobrescribimos el método presentarse\n",
    "    def presentarse(self):\n",
    "        presentacion_base = super().presentarse()\n",
    "        return f\"{presentacion_base} Mi matrícula es {self.matricula}.\""
   ]
  },
  {
   "cell_type": "markdown",
   "id": "4c0c1e6b-c443-40c0-9d69-ddbb15882777",
   "metadata": {},
   "source": [
    "## 6.4 Polimorfismo\n",
    "\n",
    "El polimorfismo es la capacidad de utilizar una interfaz común para múltiples formas (tipos de datos). Permite que métodos con el mismo nombre actúen de manera diferente según el objeto que los invoca.\n",
    "\n",
    "**Ejemplo:**"
   ]
  },
  {
   "cell_type": "code",
   "execution_count": 6,
   "id": "09774086-08f9-4a7b-aefb-a5f003262bec",
   "metadata": {},
   "outputs": [
    {
     "name": "stdout",
     "output_type": "stream",
     "text": [
      "Me llamo Juan y tengo 30 años.\n",
      "Me llamo Ana y tengo 22 años. Mi matrícula es A01234567.\n"
     ]
    }
   ],
   "source": [
    "def imprimir_presentacion(persona):\n",
    "    print(persona.presentarse())\n",
    "\n",
    "juan = Persona(\"Juan\", 30)\n",
    "ana = Estudiante(\"Ana\", 22, \"A01234567\")\n",
    "\n",
    "# A pesar de llamar al mismo método, el comportamiento varía según el tipo de objeto\n",
    "imprimir_presentacion(juan)\n",
    "imprimir_presentacion(ana)"
   ]
  },
  {
   "cell_type": "markdown",
   "id": "17a7afc5-ec60-411f-b151-c874845ee8dd",
   "metadata": {},
   "source": [
    "## 6.5 Encapsulación\n",
    "\n",
    "La encapsulación es un mecanismo que restringe el acceso directo a los datos y métodos de un objeto y puede prevenir la modificación accidental de datos. Los atributos o métodos privados se definen con un guion bajo `_` como prefijo.\n",
    "\n",
    "**Ejemplo:**"
   ]
  },
  {
   "cell_type": "code",
   "execution_count": 7,
   "id": "5039a23c-3861-4f8c-8aa7-f9fbcc942a69",
   "metadata": {},
   "outputs": [],
   "source": [
    "class CuentaBancaria:\n",
    "    def __init__(self, titular, saldo_inicial):\n",
    "        self.titular = titular\n",
    "        self._saldo = saldo_inicial  # Atributo privado\n",
    "\n",
    "    def depositar(self, cantidad):\n",
    "        if cantidad > 0:\n",
    "            self._saldo += cantidad\n",
    "            return f\"Nuevo saldo: {self._saldo}\"\n",
    "        else:\n",
    "            return \"La cantidad a depositar debe ser positiva.\"\n",
    "    \n",
    "    def mostrar_saldo(self):\n",
    "        return f\"Saldo actual: {self._saldo}\""
   ]
  },
  {
   "cell_type": "code",
   "execution_count": 8,
   "id": "e43257b8-5595-4836-af06-af8d8dd92fdd",
   "metadata": {},
   "outputs": [
    {
     "name": "stdout",
     "output_type": "stream",
     "text": [
      "Nuevo saldo: 1500\n",
      "Saldo actual: 1500\n",
      "La cantidad a depositar debe ser positiva.\n"
     ]
    }
   ],
   "source": [
    "mi_cuenta = CuentaBancaria(\"Ariel\", 1000)\n",
    "print(mi_cuenta.depositar(500))  # Correcto, incrementa el saldo\n",
    "print(mi_cuenta.mostrar_saldo())  # Muestra el saldo actualizado\n",
    "\n",
    "print(mi_cuenta.depositar(-200))  # Incorrecto, muestra mensaje de error"
   ]
  }
 ],
 "metadata": {
  "kernelspec": {
   "display_name": "Python 3 (ipykernel)",
   "language": "python",
   "name": "python3"
  },
  "language_info": {
   "codemirror_mode": {
    "name": "ipython",
    "version": 3
   },
   "file_extension": ".py",
   "mimetype": "text/x-python",
   "name": "python",
   "nbconvert_exporter": "python",
   "pygments_lexer": "ipython3",
   "version": "3.12.2"
  }
 },
 "nbformat": 4,
 "nbformat_minor": 5
}
