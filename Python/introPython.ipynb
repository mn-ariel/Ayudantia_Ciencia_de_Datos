{
 "cells": [
  {
   "cell_type": "markdown",
   "metadata": {},
   "source": [
    "# Curso de Ciencia de Datos y Machine Learning I/2024\n",
    "\n",
    "# Introducción a Python 3\n",
    "\n",
    "## Contenido\n",
    "### __[Tema 1: Simplicidad en los programas](introPython1.ipynb)__\n",
    "### __[Tema 2: Programación con Archivos, Variables y Cadenas de Texto](introPython2.ipynb)__\n",
    "### __[Tema 3: Bucles y Más Bucles](introPython3.ipynb)__\n",
    "### __[Tema 4: Bucles while y for](introPython4.ipynb)__\n",
    "### __[Tema 5: Introducción a Funciones en Python](introPython5.ipynb)__\n",
    "### __[Tema 6: Clases en Python](introPython6.ipynb)__\n",
    "### __[Tema 7: Manejo de Archivos en Python (File I/O) y Uso de Importaciones](introPython7.ipynb)__"
   ]
  },
  {
   "cell_type": "code",
   "execution_count": null,
   "metadata": {},
   "outputs": [],
   "source": []
  }
 ],
 "metadata": {
  "kernelspec": {
   "display_name": "Python 3 (ipykernel)",
   "language": "python",
   "name": "python3"
  },
  "language_info": {
   "codemirror_mode": {
    "name": "ipython",
    "version": 3
   },
   "file_extension": ".py",
   "mimetype": "text/x-python",
   "name": "python",
   "nbconvert_exporter": "python",
   "pygments_lexer": "ipython3",
   "version": "3.12.2"
  }
 },
 "nbformat": 4,
 "nbformat_minor": 4
}
