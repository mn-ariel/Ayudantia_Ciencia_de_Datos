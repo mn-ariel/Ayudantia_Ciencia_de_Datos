{
 "cells": [
  {
   "cell_type": "markdown",
   "id": "f71bcbd8-f49c-4207-ad27-33e6c203a956",
   "metadata": {},
   "source": [
    "# 4. Bucles `while` y `for`"
   ]
  },
  {
   "cell_type": "markdown",
   "id": "4d7de5b5-8345-4c00-a82f-8df1aaa034d7",
   "metadata": {},
   "source": [
    "Los bucles son estructuras fundamentales en cualquier lenguaje de programación, permitiéndonos ejecutar un bloque de código repetidamente bajo ciertas condiciones. En Python, los dos tipos principales de bucles son `while` y `for`."
   ]
  },
  {
   "attachments": {},
   "cell_type": "markdown",
   "id": "08df2e77-49a8-4e6d-81da-027749568fd7",
   "metadata": {},
   "source": [
    "## 4.1 Bucle `while`"
   ]
  },
  {
   "attachments": {},
   "cell_type": "markdown",
   "id": "0699e04f-9138-455e-8d3c-e753bcf3de7b",
   "metadata": {},
   "source": [
    "Un bucle `while` ejecuta repetidamente un bloque de código mientras una condición dada es verdadera.\n",
    "\n",
    "**Ejemplo simple:**\n",
    "\n",
    "Imagina que quieres contar del 1 al 5, imprimir cada número en la pantalla."
   ]
  },
  {
   "cell_type": "code",
   "execution_count": 1,
   "id": "7ae7f895-269a-431e-8f9f-6846dce4a41d",
   "metadata": {},
   "outputs": [
    {
     "name": "stdout",
     "output_type": "stream",
     "text": [
      "1\n",
      "2\n",
      "3\n",
      "4\n",
      "5\n"
     ]
    }
   ],
   "source": [
    "contador = 1\n",
    "while contador <= 5:\n",
    "    print(contador)\n",
    "    contador += 1"
   ]
  },
  {
   "cell_type": "markdown",
   "id": "2edc4feb-69a3-4531-b6bf-0b56f74e8d2c",
   "metadata": {},
   "source": [
    "Este código incrementa `contador` en 1 en cada iteración del bucle y termina cuando `contador` supera el valor de 5."
   ]
  },
  {
   "cell_type": "markdown",
   "id": "c01e5cb9-c06a-4208-ada1-c5936c6ad216",
   "metadata": {},
   "source": [
    "### 4.1.1 Bucles Infinitos\n",
    "\n",
    "Un bucle infinito ocurre cuando la condición del bucle while siempre se evalúa como verdadera. Aunque pueda parecer un error, los bucles infinitos son útiles en situaciones donde una acción debe repetirse continuamente hasta que se interrumpa externamente, por ejemplo, en servidores o juegos donde el programa espera continuamente la entrada del usuario.\n",
    "\n",
    "Este ejemplo muestra un bucle infinito que constantemente solicita al usuario ingresar un mensaje hasta que decide escribir \"salir\" para terminar el bucle."
   ]
  },
  {
   "cell_type": "code",
   "execution_count": 2,
   "id": "afb31996-1bae-41cd-ba5f-b6799e4bbc62",
   "metadata": {},
   "outputs": [
    {
     "name": "stdin",
     "output_type": "stream",
     "text": [
      "Escribe algo (o escribe 'salir' para terminar):  asd\n"
     ]
    },
    {
     "name": "stdout",
     "output_type": "stream",
     "text": [
      "Tu mensaje fue: asd\n"
     ]
    },
    {
     "name": "stdin",
     "output_type": "stream",
     "text": [
      "Escribe algo (o escribe 'salir' para terminar):  asd\n"
     ]
    },
    {
     "name": "stdout",
     "output_type": "stream",
     "text": [
      "Tu mensaje fue: asd\n"
     ]
    },
    {
     "name": "stdin",
     "output_type": "stream",
     "text": [
      "Escribe algo (o escribe 'salir' para terminar):  asd\n"
     ]
    },
    {
     "name": "stdout",
     "output_type": "stream",
     "text": [
      "Tu mensaje fue: asd\n"
     ]
    },
    {
     "name": "stdin",
     "output_type": "stream",
     "text": [
      "Escribe algo (o escribe 'salir' para terminar):  asd\n"
     ]
    },
    {
     "name": "stdout",
     "output_type": "stream",
     "text": [
      "Tu mensaje fue: asd\n"
     ]
    },
    {
     "name": "stdin",
     "output_type": "stream",
     "text": [
      "Escribe algo (o escribe 'salir' para terminar):  salir\n"
     ]
    },
    {
     "name": "stdout",
     "output_type": "stream",
     "text": [
      "Saliendo del bucle...\n"
     ]
    }
   ],
   "source": [
    "while True:\n",
    "    mensaje = input(\"Escribe algo (o escribe 'salir' para terminar): \")\n",
    "    if mensaje == \"salir\":\n",
    "        print(\"Saliendo del bucle...\")\n",
    "        break  # Termina el bucle infinito\n",
    "    print(f\"Tu mensaje fue: {mensaje}\")\n"
   ]
  },
  {
   "cell_type": "markdown",
   "id": "ade22c27-3d7d-4e1b-a94e-182a3cc71ac4",
   "metadata": {},
   "source": [
    "En este caso, `while` **True** crea un bucle que se ejecutará indefinidamente porque su condición siempre es verdadera. La instrucción `break` proporciona un medio para salir del bucle, basado en una condición específica, en este caso, cuando el usuario escribe \"salir\"."
   ]
  },
  {
   "cell_type": "markdown",
   "id": "d7f6030d-54af-43ae-a7f3-ebd8e72bab5a",
   "metadata": {},
   "source": [
    "### 4.1.2 Control de Flujo con `break` y `continue`\n",
    "\n",
    "- **`break`**: Se utiliza para terminar el bucle inmediatamente, sin importar en qué punto del ciclo de iteración se encuentre. Es especialmente útil para salir de bucles infinitos o cuando se cumple una condición específica que no requiere ejecutar el resto del código en el bucle.\n",
    "\n",
    "- **`continue`**: Omite el resto del código dentro del bucle para la iteración actual y pasa directamente a la siguiente iteración. Es útil para evitar la ejecución de ciertas partes del bucle bajo condiciones específicas.\n",
    "\n",
    "Este ejemplo es una simulación simple que pide al usuario adivinar un número secreto. Si el usuario escribe \"salir\", el programa termina gracias a `break`. Si el usuario adivina el número, el bucle también termina. Si el usuario introduce un número incorrecto, el bucle continúa, permitiendo múltiples intentos."
   ]
  },
  {
   "cell_type": "code",
   "execution_count": 4,
   "id": "50fdf7b9-cae9-4829-b63d-04e56be6a929",
   "metadata": {},
   "outputs": [
    {
     "name": "stdin",
     "output_type": "stream",
     "text": [
      "Adivina el número secreto entre 1 y 10 (escribe 'salir' para terminar):  7\n"
     ]
    },
    {
     "name": "stdout",
     "output_type": "stream",
     "text": [
      "¡Felicidades! Adivinaste el número.\n"
     ]
    }
   ],
   "source": [
    "numero_secreto = 7\n",
    "while True:\n",
    "    respuesta = input(\"Adivina el número secreto entre 1 y 10 (escribe 'salir' para terminar): \")\n",
    "    \n",
    "    if respuesta == \"salir\":\n",
    "        print(\"Gracias por jugar. ¡Hasta la próxima!\")\n",
    "        break\n",
    "    \n",
    "    if int(respuesta) == numero_secreto:\n",
    "        print(\"¡Felicidades! Adivinaste el número.\")\n",
    "        break  # Termina el bucle si el usuario adivina el número\n",
    "    else:\n",
    "        print(\"Número incorrecto, intenta de nuevo.\")\n",
    "        continue  # Este continue es opcional, solo para fines ilustrativos\n"
   ]
  },
  {
   "cell_type": "markdown",
   "id": "4d2e5cc8-0277-4a00-9bb1-f2ad2976f053",
   "metadata": {},
   "source": [
    "En este segundo ejemplo, `break` se usa para terminar el bucle cuando el usuario decide salir o cuando adivina el número secreto. La instrucción `continue` está implícita en este contexto, ya que el bucle automáticamente continúa si ninguna de las condiciones de `break` se cumple. Aunque aquí el uso de `continue` es más ilustrativo, sirve para mostrar cómo se podría utilizar para saltar a la siguiente iteración del bucle bajo ciertas condiciones."
   ]
  },
  {
   "cell_type": "markdown",
   "id": "a3d3d18b-16c4-474f-a97f-c39d151cb247",
   "metadata": {
    "jp-MarkdownHeadingCollapsed": true
   },
   "source": [
    "## 4.2 Bucle `for`"
   ]
  },
  {
   "cell_type": "markdown",
   "id": "c209342f-3401-4b51-b7cc-a80fe8a9612e",
   "metadata": {},
   "source": [
    "El bucle `for` en Python es más versátil que en muchos otros lenguajes. Es especialmente útil para recorrer elementos de una colección (como una lista o una cadena) y ejecutar un bloque de código para cada elemento.\n",
    "\n",
    "**Ejemplo con lista:**\n",
    "\n",
    "Supongamos que tienes una lista de frutas y deseas imprimir el nombre de cada una."
   ]
  },
  {
   "cell_type": "code",
   "execution_count": 9,
   "id": "3ad356ea-db67-47db-9de2-d6c212bf0cb4",
   "metadata": {},
   "outputs": [
    {
     "name": "stdout",
     "output_type": "stream",
     "text": [
      "manzana\n",
      "banana\n",
      "cereza\n"
     ]
    }
   ],
   "source": [
    "frutas = [\"manzana\", \"banana\", \"cereza\"]\n",
    "for fruta in frutas:\n",
    "    print(fruta)"
   ]
  },
  {
   "cell_type": "markdown",
   "id": "f318f1d8-3840-4bac-bdb6-8fa2e8297b3c",
   "metadata": {},
   "source": [
    "Este código imprime cada elemento en la lista frutas.\n",
    "\n",
    "**Ejemplo con range():**\n",
    "\n",
    "También puedes combinar `for` con `range()` para generar secuencias numéricas."
   ]
  },
  {
   "cell_type": "code",
   "execution_count": 11,
   "id": "f95d64a7-8ff2-4781-9e01-d46467f9590d",
   "metadata": {},
   "outputs": [
    {
     "name": "stdout",
     "output_type": "stream",
     "text": [
      "1\n",
      "2\n",
      "3\n",
      "4\n",
      "5\n"
     ]
    }
   ],
   "source": [
    "for numero in range(1, 6):\n",
    "    print(numero)"
   ]
  },
  {
   "cell_type": "markdown",
   "id": "1bbc4a93-04e8-43ee-8bb1-f97118181b1a",
   "metadata": {},
   "source": [
    "### 4.2.1 Iteración sobre Diccionarios"
   ]
  },
  {
   "cell_type": "markdown",
   "id": "7aae836a-2f92-49ad-a956-9c9e8be2dcc8",
   "metadata": {},
   "source": [
    "Python facilita la iteración sobre diccionarios, permitiendo acceder tanto a las llaves como a los valores durante el bucle. Esto es útil para tareas que requieren manipulación o consulta de datos almacenados en estructuras de tipo clave-valor."
   ]
  },
  {
   "cell_type": "markdown",
   "id": "66ccab66-3890-4a42-9934-6ab4b13d37a3",
   "metadata": {},
   "source": [
    "### 4.2.2 Comprensión de Listas"
   ]
  },
  {
   "cell_type": "markdown",
   "id": "ac81bc8b-83ba-4c58-bb58-7b2d5d0b4868",
   "metadata": {},
   "source": [
    "Una característica poderosa en Python es la comprensión de listas, que permite crear listas de manera concisa a partir de secuencias existentes. Un bucle `for` se utiliza dentro de la comprensión de listas para generar elementos de la nueva lista basados en una expresión y, opcionalmente, filtrar elementos usando una condición.\n",
    "\n",
    "**Ejemplos Avanzados**\n",
    "\n",
    "**Ejemplo 1**: Iteración Avanzada sobre Diccionarios\n",
    "Supongamos que tienes un diccionario que almacena la cantidad de votos que recibieron diferentes candidatos en una elección. Aquí te muestro cómo puedes iterar sobre este diccionario para imprimir tanto los nombres de los candidatos como los votos que recibieron:"
   ]
  },
  {
   "cell_type": "code",
   "execution_count": 12,
   "id": "66623f77-be53-4472-be4d-77eeafb3fbc2",
   "metadata": {},
   "outputs": [
    {
     "name": "stdout",
     "output_type": "stream",
     "text": [
      "Alice recibió 320 votos.\n",
      "Bob recibió 450 votos.\n",
      "Charlie recibió 125 votos.\n"
     ]
    }
   ],
   "source": [
    "resultados_eleccion = {\n",
    "    \"Alice\": 320,\n",
    "    \"Bob\": 450,\n",
    "    \"Charlie\": 125\n",
    "}\n",
    "\n",
    "for candidato, votos in resultados_eleccion.items():\n",
    "    print(f\"{candidato} recibió {votos} votos.\")"
   ]
  },
  {
   "cell_type": "markdown",
   "id": "c6373017-d951-4884-a7af-dd02388c0cb4",
   "metadata": {},
   "source": [
    "Este ejemplo demuestra cómo usar `.items()` en un diccionario para acceder simultáneamente a las llaves y valores durante la iteración.\n",
    "\n",
    "**Ejemplo 2**: Comprensión de Listas con `for`\n",
    "\n",
    "Imagina que quieres crear una lista de los cuadrados de los números del 1 al 10, pero solo si el cuadrado es un número par. Aquí te muestro cómo hacerlo mediante comprensión de listas:"
   ]
  },
  {
   "cell_type": "code",
   "execution_count": 13,
   "id": "68f8a7d0-d7af-4c20-a586-bad0981eae87",
   "metadata": {},
   "outputs": [
    {
     "name": "stdout",
     "output_type": "stream",
     "text": [
      "[4, 16, 36, 64, 100]\n"
     ]
    }
   ],
   "source": [
    "cuadrados_pares = [x ** 2 for x in range(1, 11) if (x ** 2) % 2 == 0]\n",
    "print(cuadrados_pares)"
   ]
  },
  {
   "cell_type": "markdown",
   "id": "21370a9d-1426-4f70-a4ed-e5806cec78be",
   "metadata": {},
   "source": [
    "## 4.3 Uso de `else` con Bucles"
   ]
  },
  {
   "cell_type": "markdown",
   "id": "55319060-d568-4c5c-91dd-32aba26b5073",
   "metadata": {},
   "source": [
    "Es posible combinar `else` con bucles `fo`r y `while` en Python, algo que no es tan común en otros lenguajes de programación. El bloque `else` se ejecuta cuando el bucle termina normalmente, sin ser interrumpido por un `break`."
   ]
  },
  {
   "cell_type": "code",
   "execution_count": 7,
   "id": "6ea8f1d3-89c5-48eb-a4ec-4e6c7b5b0fe2",
   "metadata": {},
   "outputs": [
    {
     "name": "stdin",
     "output_type": "stream",
     "text": [
      "¿Cuál es la capital de Italia?  roma\n"
     ]
    },
    {
     "name": "stdout",
     "output_type": "stream",
     "text": [
      "¡Correcto!\n"
     ]
    }
   ],
   "source": [
    "# Ejemplo con `for` y `else`\n",
    "for i in range(3):\n",
    "    respuesta = input(\"¿Cuál es la capital de Italia? \")\n",
    "    if respuesta.lower() == \"roma\":\n",
    "        print(\"¡Correcto!\")\n",
    "        break\n",
    "else:\n",
    "    print(\"La respuesta correcta es Roma.\")"
   ]
  },
  {
   "cell_type": "code",
   "execution_count": 9,
   "id": "cba5c733-4a3b-4c08-bce5-7142590547b0",
   "metadata": {},
   "outputs": [
    {
     "name": "stdin",
     "output_type": "stream",
     "text": [
      "2 + 2 =  4\n"
     ]
    },
    {
     "name": "stdout",
     "output_type": "stream",
     "text": [
      "¡Correcto!\n"
     ]
    }
   ],
   "source": [
    "# Ejemplo con `while` y `else`\n",
    "contador = 0\n",
    "while contador < 3:\n",
    "    respuesta = input(\"2 + 2 = \")\n",
    "    if respuesta == \"4\":\n",
    "        print(\"¡Correcto!\")\n",
    "        break\n",
    "    contador += 1\n",
    "else:\n",
    "    print(\"No has acertado después de 3 intentos.\")"
   ]
  },
  {
   "cell_type": "code",
   "execution_count": null,
   "id": "86cda4e3-74b5-42e4-a4a6-0835ba7300f0",
   "metadata": {},
   "outputs": [],
   "source": []
  }
 ],
 "metadata": {
  "kernelspec": {
   "display_name": "Python 3 (ipykernel)",
   "language": "python",
   "name": "python3"
  },
  "language_info": {
   "codemirror_mode": {
    "name": "ipython",
    "version": 3
   },
   "file_extension": ".py",
   "mimetype": "text/x-python",
   "name": "python",
   "nbconvert_exporter": "python",
   "pygments_lexer": "ipython3",
   "version": "3.12.2"
  }
 },
 "nbformat": 4,
 "nbformat_minor": 5
}
