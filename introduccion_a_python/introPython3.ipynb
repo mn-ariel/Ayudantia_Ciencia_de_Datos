{
 "cells": [
  {
   "cell_type": "markdown",
   "id": "ea671c38-c716-4fd8-8902-b3fb08ce5910",
   "metadata": {},
   "source": [
    "# 3. Bucles y Más Bucles"
   ]
  },
  {
   "cell_type": "markdown",
   "id": "9a1d19ef-e19f-471a-8208-8fe0f9545c85",
   "metadata": {},
   "source": [
    "## 3.1 Introducción\n",
    "\n",
    "Considera una situación donde debes ejecutar una acción específica 20 veces. Una opción sería repetir manualmente esa acción en tu código 20 veces, lo cual no solo resultaría tedioso sino también ineficiente. Una solución más elegante sería utilizar lo que conocemos como un bucle. Un bucle permite ejecutar repetidamente un bloque de código hasta que se cumpla una condición determinada, simplificando enormemente nuestro trabajo y haciendo el código más limpio y eficiente."
   ]
  },
  {
   "cell_type": "markdown",
   "id": "89577d66-1fe7-48a0-8205-e9604c641f42",
   "metadata": {},
   "source": [
    "## 3.2 Expresiones Booleanas\n",
    "\n",
    "En el tema de las expresiones booleanas, se explora cómo establecer las condiciones para la ejecución continua de un bucle. Las expresiones booleanas son cuestiones cuyas respuestas son exclusivamente \"Verdadero\" o \"Falso\". Tomemos, por ejemplo, la tarea de comparar dos números para determinar si son idénticos. En este caso, se emplearía la expresión:\n",
    "\n",
    "`numero1 == numero2`\n",
    "\n",
    "Si ambos números son exactamente iguales, entonces la afirmación \"El número1 es igual al número2\" se considera VERDADERA.\n",
    "\n",
    "Por otro lado, si se sugiere que el primer número es mayor que el segundo:\n",
    "\n",
    "`numero1 > numero2`\n",
    "\n",
    "Y en realidad el \"número1 es menor que el número2\", la afirmación sería FALSA. Este método de evaluación es fundamental para el funcionamiento de los bucles: un bucle persistirá mientras su condición asociada se evalúe como verdadera y cesará cuando la condición sea falsa.\n",
    "\n",
    "Dicho esto, es crucial entender los operadores empleados en las expresiones booleanas y su significado:\n",
    "\n",
    "| Expresión | Función  |\n",
    "|   :---:    |   :---:   |\n",
    "|    `<`     | menor que |\n",
    "| `<=` | menor que o igual a |\n",
    "| `>` | mayor que |\n",
    "| `>=` | mayor que o igual a |\n",
    "| `!=` | diferente de |\n",
    "| `==` | igual a |\n",
    "\n",
    "Es importante distinguir entre el uso de `=` y `==`. El operador `=` se usa para asignar un valor a una variable, mientras que `==` se utiliza para comparar si dos valores son equivalentes, retornando un resultado verdadero o falso según corresponda."
   ]
  },
  {
   "cell_type": "markdown",
   "id": "5651fc5b-2def-490b-9067-e7af8bf7b3e9",
   "metadata": {},
   "source": [
    "## 3.3 Sentencias condicionales\n",
    "\n",
    "En la sección de declaraciones condicionales, se explora el uso de estructuras condicionales en la programación. Estas estructuras permiten ejecutar secciones específicas de código solo cuando se cumplen determinadas condiciones. A diferencia de los bucles, que pueden ejecutarse repetidamente mientras una condición sea verdadera, las declaraciones condicionales se ejecutan una sola vez por cada vez que se encuentran en el flujo de ejecución del programa. La declaración condicional más común en casi todos los lenguajes de programación es la sentencia `if`. Funciona de la siguiente manera:\n",
    "\n",
    "```python\n",
    "if {condiciones que deben cumplirse}:\n",
    "    {hacer esto}\n",
    "    {y esto}\n",
    "    {y esto también}\n",
    "{esto sucede de todas formas}\n",
    "{porque no está indentado}\n",
    "```\n",
    "\n",
    "Ahora, se presentarán algunos ejemplos en Python que ilustran el uso de las declaraciones condicionales:"
   ]
  },
  {
   "cell_type": "markdown",
   "id": "43476f05-04f3-4f19-9f38-ca005c027fd0",
   "metadata": {},
   "source": [
    "### 3.3.1 Uso básico de `if`:\n",
    "\n",
    "Primero, se introduce el uso del `if` por sí solo para ejecutar un bloque de código únicamente si se cumple una condición específica."
   ]
  },
  {
   "cell_type": "code",
   "execution_count": 7,
   "id": "61dddb70-fe35-4114-998e-aa910f1bb9dc",
   "metadata": {},
   "outputs": [
    {
     "name": "stdout",
     "output_type": "stream",
     "text": [
      "Eres mayor de edad. con if\n"
     ]
    }
   ],
   "source": [
    "edad = 18\n",
    "if edad >= 18:\n",
    "    print(\"Eres mayor de edad. con if\")"
   ]
  },
  {
   "cell_type": "markdown",
   "id": "efa4215b-d5bb-44bf-a7aa-63f76ac6fa6a",
   "metadata": {},
   "source": [
    "Este código imprimirá \"Eres mayor de edad.\" solo si el valor de la variable edad es 18 o más."
   ]
  },
  {
   "cell_type": "markdown",
   "id": "27d262a1-0ff8-4155-9adb-74b7ab8abbd7",
   "metadata": {},
   "source": [
    "### 3.3.2 Uso básico de `else`:\n",
    "\n",
    "A continuación, se amplía el ejemplo anterior al agregar un `else`, que permite ejecutar un bloque alternativo de código si la condición del `if` no se cumple."
   ]
  },
  {
   "cell_type": "code",
   "execution_count": 8,
   "id": "91a717d3-6809-432a-840b-f326e5f36e22",
   "metadata": {},
   "outputs": [
    {
     "name": "stdout",
     "output_type": "stream",
     "text": [
      "Aún eres menor de edad.\n"
     ]
    }
   ],
   "source": [
    "edad = 16\n",
    "if edad >= 18:\n",
    "    print(\"Eres mayor de edad.\")\n",
    "else:\n",
    "    print(\"Aún eres menor de edad.\")"
   ]
  },
  {
   "cell_type": "markdown",
   "id": "a292c72a-616f-4dc2-810d-d4d7a963a7c4",
   "metadata": {},
   "source": [
    "Aquí, si `edad` es menor que 18, se imprimirá \"Aún eres menor de edad.\""
   ]
  },
  {
   "cell_type": "markdown",
   "id": "99c96026-5dd5-45cf-9972-1f755e6826b3",
   "metadata": {},
   "source": [
    "### 3.3.3 Uso básico de `elseif`:\n",
    "\n",
    "Para situaciones donde se deben considerar múltiples condiciones, se introduce `elif` (abreviatura de \"else if\"), que permite evaluar condiciones adicionales si las anteriores no se cumplen."
   ]
  },
  {
   "cell_type": "code",
   "execution_count": 11,
   "id": "8fc5a1e2-e6a7-4d47-b5bf-668c812640f8",
   "metadata": {},
   "outputs": [
    {
     "name": "stdout",
     "output_type": "stream",
     "text": [
      "Excelente\n"
     ]
    }
   ],
   "source": [
    "calificacion = 95\n",
    "if calificacion >= 90:\n",
    "    print(\"Excelente\")\n",
    "elif calificacion >= 80:\n",
    "    print(\"Muy bien\")\n",
    "else:\n",
    "    print(\"Sigue esforzándote\")"
   ]
  },
  {
   "cell_type": "markdown",
   "id": "594eb01f-7928-457b-b46e-4757aa36e663",
   "metadata": {},
   "source": [
    "En este ejemplo, \"Muy bien\" se imprimirá si calificacion es 85, ya que cumple con la condición del `elif` pero no con la del `if`."
   ]
  },
  {
   "cell_type": "markdown",
   "id": "7c198808-9435-47d9-b39f-5e0f970d300c",
   "metadata": {},
   "source": [
    "Es fundamental recordar la importancia de la indentación en Python, ya que define los bloques de código que se ejecutan como parte de cada declaración condicional. La indentación clara y consistente no solo mejora la legibilidad del código, sino que es esencial para su correcta ejecución."
   ]
  },
  {
   "cell_type": "markdown",
   "id": "89f5d348-20bc-4597-9fc8-dfd457a3518a",
   "metadata": {},
   "source": [
    "## 3.4 Uso Avanzado de `if` y `else`"
   ]
  },
  {
   "cell_type": "markdown",
   "id": "faf14c3b-e3b1-4946-a1f3-a03397df224d",
   "metadata": {},
   "source": [
    "Al profundizar en el uso avanzado de declaraciones condicionales con `if` y `else` en Python, se vuelve crucial incorporar operadores lógicos `and` y `or` para crear condiciones más complejas y versátiles. Estos operadores permiten la evaluación de múltiples criterios simultáneamente, otorgando un gran poder para dirigir el flujo de programas basados en una variedad de situaciones y parámetros. A continuación, se detalla cómo y cuándo utilizar `and`, `or`, junto con ejemplos prácticos:"
   ]
  },
  {
   "cell_type": "markdown",
   "id": "f39f9909-b898-4384-88a0-428672ad59a3",
   "metadata": {},
   "source": [
    "En Python, los operadores lógicos `and` y `or` se utilizan para combinar expresiones booleanas y son fundamentales para construir condiciones más complejas dentro de las declaraciones condicionales y los bucles. Aquí te presento cómo funcionan estos operadores:\n",
    "\n",
    "- **`and`**: Este operador devuelve **True** solo si todas las expresiones que combina son verdaderas. Se utiliza para asegurar que múltiples condiciones se cumplan simultáneamente. Por ejemplo, `expresion1 and expresion2` será **True** solo si tanto `expresion1` como `expresion2` son verdaderas.\n",
    "\n",
    "- **`or`**: A diferencia de `and`, el operador `or` devuelve **True** si al menos una de las expresiones que combina es verdadera. Se usa para permitir flexibilidad en las condiciones, de modo que se pueda proceder cuando se cumple al menos una de varias posibles condiciones. `expresion1 or expresion2` será **True** si `expresion1` es verdadera, o `expresion2` es verdadera, o ambas son verdaderas.\n",
    "\n",
    "Estos operadores son esenciales para controlar el flujo de programas complejos, permitiendo que se ejecuten o se salteen ciertas partes del código basadas en la lógica combinada de varias condiciones."
   ]
  },
  {
   "cell_type": "markdown",
   "id": "5cfbcd79-eb6e-44f8-b998-d5fb20f8859f",
   "metadata": {},
   "source": [
    "### 3.4.1 Operador Lógico `and`\n",
    "\n",
    "El operador `and` se utiliza para asegurar que todas las condiciones especificadas sean verdaderas para que se ejecute el bloque de código bajo el `if`. Esto es particularmente útil cuando se necesitan cumplir varios criterios antes de realizar una acción.\n",
    "\n",
    "**Ejemplo**:"
   ]
  },
  {
   "cell_type": "code",
   "execution_count": 18,
   "id": "66c5652c-4771-4382-8453-7395d8395ea0",
   "metadata": {},
   "outputs": [
    {
     "name": "stdout",
     "output_type": "stream",
     "text": [
      "Calificas para el puesto de trabajo.\n"
     ]
    }
   ],
   "source": [
    "edad = 24\n",
    "experiencia = 3\n",
    "if edad > 18 and experiencia >= 2:\n",
    "    print(\"Calificas para el puesto de trabajo.\")\n",
    "else:\n",
    "    print(\"No cumples con los requisitos mínimos.\")"
   ]
  },
  {
   "cell_type": "markdown",
   "id": "620508e4-d855-451f-b0f6-10d72374661e",
   "metadata": {},
   "source": [
    "En este ejemplo, el mensaje \"Calificas para el puesto de trabajo.\" se imprimirá solo si el candidato tiene más de 18 años y al menos 2 años de experiencia."
   ]
  },
  {
   "cell_type": "markdown",
   "id": "b601a42d-ff74-4319-a120-a6ffe1309afa",
   "metadata": {},
   "source": [
    "### 3.4.2 Operador Lógico `or`\n",
    "\n",
    "El operador `or` se utiliza cuando al menos una de las condiciones debe ser verdadera para ejecutar el bloque de código. Proporciona una ruta alternativa cuando se presentan múltiples formas de cumplir con un requisito.\n",
    "\n",
    "**Ejemplo:**"
   ]
  },
  {
   "cell_type": "code",
   "execution_count": 22,
   "id": "835468e2-6fd0-484b-9148-11770f05ed82",
   "metadata": {},
   "outputs": [
    {
     "name": "stdout",
     "output_type": "stream",
     "text": [
      "Es un buen día para ir a la playa.\n"
     ]
    }
   ],
   "source": [
    "temperatura = 20\n",
    "llueve = True\n",
    "if temperatura > 25 or llueve:\n",
    "    print(\"Es un buen día para ir a la playa.\")\n",
    "else:\n",
    "    print(\"Quizás deberíamos considerar otro plan.\")"
   ]
  },
  {
   "cell_type": "markdown",
   "id": "0e25aa49-53c0-4c60-a73d-9c74f2d23d4c",
   "metadata": {},
   "source": [
    "Aquí, \"Es un buen día para ir a la playa.\" se imprimirá si hace calor (más de 25 grados) o si no está lloviendo, ofreciendo flexibilidad en las condiciones para ir a la playa."
   ]
  },
  {
   "cell_type": "markdown",
   "id": "f3e1cf5f-d55c-4b94-b537-4e6760f1d319",
   "metadata": {},
   "source": [
    "### 3.4.3 Combinando `and`, `or` con Condiciones Anidadas\n",
    "\n",
    "Las declaraciones condicionales pueden anidarse dentro de otras y combinarse con `and` y `or` para formular lógicas aún más complejas.\n",
    "\n",
    "**Ejemplo:**\n",
    "\n",
    "Imagina que estás desarrollando un programa para un cine que determina el precio de la entrada basado en varios factores como la edad del cliente, si es miembro del club de cine, y si el día es miércoles (día con descuento)."
   ]
  },
  {
   "cell_type": "code",
   "execution_count": 23,
   "id": "35857f65-9785-4b4a-8603-c89467cbffdf",
   "metadata": {},
   "outputs": [
    {
     "name": "stdout",
     "output_type": "stream",
     "text": [
      "Tienes un 20% de descuento.\n"
     ]
    }
   ],
   "source": [
    "edad = 22\n",
    "es_miembro = True\n",
    "es_miercoles = False\n",
    "\n",
    "if es_miembro and es_miercoles:\n",
    "    print(\"Tienes un 50% de descuento.\")\n",
    "elif es_miembro or (edad >= 18 and edad <= 25):\n",
    "    print(\"Tienes un 20% de descuento.\")\n",
    "elif edad < 18 or es_miercoles:\n",
    "    print(\"Tienes un 10% de descuento por ser menor de edad o por comprar en miércoles.\")\n",
    "else:\n",
    "    print(\"El precio de la entrada es estándar.\")"
   ]
  },
  {
   "cell_type": "markdown",
   "id": "02f21a49-ed35-4170-8394-203f027a813a",
   "metadata": {},
   "source": [
    "Este código evalúa las condiciones de la siguiente manera:\n",
    "\n",
    "- Miembros en Miércoles: Primero verifica si la persona es miembro del club de cine y si además es miércoles. En este caso, se aplica un 50% de descuento.\n",
    "\n",
    "- Miembros o Jóvenes Adultos: Luego, si no se cumplió la primera condición, verifica si la persona es miembro del club de cine o si tiene entre 18 y 25 años. Si se cumple alguna de estas condiciones, se aplica un 20% de descuento.\n",
    "\n",
    "- Menores de Edad o Miércoles: A continuación, si no se cumplió ninguna de las condiciones anteriores, pero la persona es menor de 18 años o es miércoles, se aplica un 10% de descuento. Esto ofrece una opción de descuento a jóvenes y a aquellos que compran entradas los miércoles.\n",
    "\n",
    "- Precio Estándar: Finalmente, si ninguna de las condiciones anteriores se cumple, se informa al cliente que el precio de la entrada es el estándar, sin descuentos aplicables.\n",
    "\n",
    "Al dominar estos conceptos avanzados de declaraciones condicionales y operadores lógicos, se amplían significativamente las posibilidades para controlar el flujo de programas en Python, permitiendo la creación de soluciones elegantes y eficientes para problemas complejos."
   ]
  }
 ],
 "metadata": {
  "kernelspec": {
   "display_name": "Python 3 (ipykernel)",
   "language": "python",
   "name": "python3"
  },
  "language_info": {
   "codemirror_mode": {
    "name": "ipython",
    "version": 3
   },
   "file_extension": ".py",
   "mimetype": "text/x-python",
   "name": "python",
   "nbconvert_exporter": "python",
   "pygments_lexer": "ipython3",
   "version": "3.12.2"
  }
 },
 "nbformat": 4,
 "nbformat_minor": 5
}
