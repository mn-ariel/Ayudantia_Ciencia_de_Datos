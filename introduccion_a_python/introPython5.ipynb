{
 "cells": [
  {
   "cell_type": "markdown",
   "id": "cf3082de-f630-47a7-bc64-f2b2434b18f8",
   "metadata": {},
   "source": [
    "# 5. Introducción a Funciones en Python"
   ]
  },
  {
   "cell_type": "markdown",
   "id": "41d0a4d5-cd57-48f1-8640-6635e35ca56e",
   "metadata": {},
   "source": [
    "## 5.1. ¿Qué es una Función?\n",
    "\n",
    "En Python, una función es un bloque de código reutilizable diseñado para realizar una operación específica. Las funciones son fundamentales en la programación, ya que permiten segmentar programas complejos en unidades más pequeñas y manejables. Al usar funciones, podemos escribir código menos redundante, mejorar la legibilidad y facilitar la depuración."
   ]
  },
  {
   "cell_type": "markdown",
   "id": "b6148012-bbc0-401d-98e4-49e40a7c1e32",
   "metadata": {},
   "source": [
    "## 5.2. Definiendo Funciones con `def`\n",
    "\n",
    "La palabra clave `def` se utiliza para definir una función en Python. La sintaxis básica para definir una función es la siguiente:\n",
    "\n",
    "```python\n",
    "def nombre_funcion(parametro_1, parametro_2):\n",
    "    # Cuerpo de la función\n",
    "    ...\n",
    "```\n",
    "\n",
    "**¿Por Qué \"`def`\"?**\n",
    "\n",
    "La palabra `def` viene de \"define\" (definir en inglés). Se utiliza para definir o declarar una función, especificando su nombre y los parámetros que puede tomar. Todo el bloque de código indentado que sigue a la declaración `def` forma el cuerpo de la función, donde se ejecutan las operaciones definidas."
   ]
  },
  {
   "cell_type": "markdown",
   "id": "f7366a7b-a55f-4591-9c4c-15017386ff78",
   "metadata": {},
   "source": [
    "## 5.3 Indentación en Funciones\n",
    "La indentación es crucial en Python, especialmente en la definición de funciones. El cuerpo de una función debe estar indentado correctamente para que Python entienda qué instrucciones pertenecen a la función. Esta es una regla estricta en Python, que ayuda a mantener el código limpio y bien estructurado.\n",
    "\n",
    "**Ejemplo Básico**"
   ]
  },
  {
   "cell_type": "code",
   "execution_count": 2,
   "id": "df72b794-d552-47e1-8610-63a9b8957fd3",
   "metadata": {},
   "outputs": [],
   "source": [
    "def saludar():\n",
    "    print(\"¡Hola, mundo!\")"
   ]
  },
  {
   "cell_type": "code",
   "execution_count": 3,
   "id": "8108f8d8-3f9a-479c-8bc5-d0e58b5eb3c1",
   "metadata": {},
   "outputs": [
    {
     "name": "stdout",
     "output_type": "stream",
     "text": [
      "¡Hola, mundo!\n"
     ]
    }
   ],
   "source": [
    "saludar()"
   ]
  },
  {
   "cell_type": "markdown",
   "id": "5e06c0ae-24c4-4907-bb21-d714ff5b485f",
   "metadata": {},
   "source": [
    "## 5.4 Tipos de Funciones\n",
    "\n",
    "En Python, las funciones se pueden clasificar principalmente en dos tipos: funciones \"fruitful\" (que devuelven un valor) y funciones \"void\" (que no devuelven un valor)."
   ]
  },
  {
   "cell_type": "markdown",
   "id": "bf9eeeb3-06d1-4b6f-b20f-ea1321b60f0c",
   "metadata": {},
   "source": [
    "### 5.4.1 Funciones \"Fruitful\"\n",
    "\n",
    "Las funciones \"fruitful\" realizan operaciones y devuelven un resultado. Utilizan la palabra clave `return` para devolver un valor al llamador."
   ]
  },
  {
   "cell_type": "code",
   "execution_count": 5,
   "id": "81c62374-2401-4dd1-9627-012e7d98449d",
   "metadata": {},
   "outputs": [],
   "source": [
    "def duplicador_fruitful(numero):\n",
    "  resultado = numero * 2\n",
    "  return(resultado)"
   ]
  },
  {
   "cell_type": "code",
   "execution_count": 6,
   "id": "04259ac0-4c02-48da-be8d-bc1aa26cc281",
   "metadata": {},
   "outputs": [
    {
     "name": "stdout",
     "output_type": "stream",
     "text": [
      "4\n"
     ]
    }
   ],
   "source": [
    "resultado = duplicador_fruitful(2)\n",
    "print(resultado)"
   ]
  },
  {
   "cell_type": "markdown",
   "id": "ce89d9a1-88a5-4e41-8f49-cf85305bce2c",
   "metadata": {},
   "source": [
    "### 5.4.2 Funciones \"Void\"\n",
    "\n",
    "Las funciones \"void\" realizan una tarea pero no devuelven un valor. Son útiles para ejecutar acciones como imprimir a la pantalla, modificar archivos, etc."
   ]
  },
  {
   "cell_type": "code",
   "execution_count": 8,
   "id": "923a55f0-f772-4d6f-a11c-e50f74d60768",
   "metadata": {},
   "outputs": [],
   "source": [
    "def duplicador_void(numero):\n",
    "  resultado = numero * 2\n",
    "  print(resultado)"
   ]
  },
  {
   "cell_type": "code",
   "execution_count": 9,
   "id": "35478710-5014-4e05-a48e-355aad7e0056",
   "metadata": {},
   "outputs": [
    {
     "name": "stdout",
     "output_type": "stream",
     "text": [
      "4\n"
     ]
    }
   ],
   "source": [
    "duplicador_void(2)"
   ]
  },
  {
   "cell_type": "code",
   "execution_count": 10,
   "id": "74c7db0e-9ae5-4c21-99a3-0131ee4bd92b",
   "metadata": {},
   "outputs": [
    {
     "name": "stdout",
     "output_type": "stream",
     "text": [
      "4\n",
      "None\n"
     ]
    }
   ],
   "source": [
    "resultado = duplicador_void(2)\n",
    "print(resultado) # la funcion void no devuelve nada"
   ]
  },
  {
   "cell_type": "markdown",
   "id": "2f0e4284-195c-4b18-8174-be9be8c75aea",
   "metadata": {},
   "source": [
    "### 5.4.3 Funciones Anónimas `lambda`\n",
    "\n",
    "Las funciones `lambda` son una manera concisa de escribir funciones en una sola línea. Son útiles para operaciones que requieren una función simple, y a menudo se usan junto con funciones como `map()`, `filter()`, y `apply()` en Pandas.\n",
    "\n",
    "**Ejemplo de función `lambda`**"
   ]
  },
  {
   "cell_type": "code",
   "execution_count": 11,
   "id": "a6034615-d88c-419b-b397-2aa938189fa7",
   "metadata": {},
   "outputs": [
    {
     "name": "stdout",
     "output_type": "stream",
     "text": [
      "6\n"
     ]
    }
   ],
   "source": [
    "multiplicar = lambda x, y: x * y\n",
    "print(multiplicar(2, 3))"
   ]
  },
  {
   "cell_type": "markdown",
   "id": "ffb841cd-5f1e-41a6-a7ba-6d6070f221f4",
   "metadata": {},
   "source": [
    "## 5.5. Parámetros y Argumentos\n",
    "\n",
    "Los términos \"parámetros\" y \"argumentos\" se usan a menudo en el contexto de funciones. Los parámetros son variables que se definen en la declaración de una función y se utilizan dentro de la función. Los argumentos son los valores reales que se pasan a la función al llamarla.\n",
    "\n",
    "**Ejemplo de Parámetros y Argumentos**"
   ]
  },
  {
   "cell_type": "code",
   "execution_count": 20,
   "id": "47e9cddb-dc57-4b8f-a448-88c115e87bdb",
   "metadata": {},
   "outputs": [
    {
     "name": "stdout",
     "output_type": "stream",
     "text": [
      "50\n"
     ]
    }
   ],
   "source": [
    "# Parámetros: a, b\n",
    "def multiplicar(a, b):\n",
    "    return a * b\n",
    "\n",
    "# Argumentos: 10, 5\n",
    "resultado = multiplicar(10, 5)\n",
    "print(resultado)  # Salida: 50"
   ]
  },
  {
   "cell_type": "markdown",
   "id": "cf5efee6-49e4-4f8a-a417-c7aa466a08d8",
   "metadata": {},
   "source": [
    "## 5.6 Argumentos en Funciones: *args y **kwargs\n",
    "\n",
    "En Python, las funciones pueden aceptar un número variable de argumentos mediante el uso de `*args` para argumentos posicionales y `**kwargs` para argumentos de palabras clave. Estas convenciones permiten que las funciones manejen una cantidad más flexible de entradas, lo que las hace increíblemente versátiles."
   ]
  },
  {
   "cell_type": "markdown",
   "id": "b462cbf2-557c-49a6-9786-9ebc5f1e1d6c",
   "metadata": {},
   "source": [
    "### 5.6.1 **`*args`**\n",
    "\n",
    "La sintaxis `*args` en la definición de una función permite que la función acepte cualquier número de argumentos posicionales que se pasen. Los argumentos se tratan como una tupla dentro de la función, lo que permite iterar sobre ellos o acceder a ellos individualmente.\n",
    "\n",
    "**Ejemplo de Uso de `*args`:**"
   ]
  },
  {
   "cell_type": "code",
   "execution_count": 12,
   "id": "7c33be4c-19c3-4414-8da1-8224c0d9f63a",
   "metadata": {},
   "outputs": [
    {
     "name": "stdout",
     "output_type": "stream",
     "text": [
      "10\n",
      "30\n"
     ]
    }
   ],
   "source": [
    "def sumar_numeros(*args):\n",
    "    total = 0\n",
    "    for numero in args:\n",
    "        total += numero\n",
    "    return total\n",
    "\n",
    "print(sumar_numeros(1, 2, 3, 4))  \n",
    "print(sumar_numeros(10, 20))  "
   ]
  },
  {
   "cell_type": "markdown",
   "id": "6a8babfc-35f4-42b8-a6c7-dbf06a00420b",
   "metadata": {},
   "source": [
    "### 5.6.2 **`*kwargs`**\n",
    "\n",
    "La sintaxis `**kwargs` permite que una función acepte cualquier número de argumentos de palabras clave. Los kwargs (Keyword Arguments) se pasan a la función como un diccionario, lo que permite acceder a los valores por sus claves dentro de la función.\n",
    "\n",
    "**Ejemplo de Uso de `**kwargs`:**"
   ]
  },
  {
   "cell_type": "code",
   "execution_count": 13,
   "id": "69bde2ee-93b6-4e63-95dd-23fc04782287",
   "metadata": {},
   "outputs": [
    {
     "name": "stdout",
     "output_type": "stream",
     "text": [
      "nombre: Carlos\n",
      "edad: 30\n",
      "ciudad: Madrid\n"
     ]
    }
   ],
   "source": [
    "def describir_persona(**kwargs):\n",
    "    for clave, valor in kwargs.items():\n",
    "        print(f\"{clave}: {valor}\")\n",
    "\n",
    "describir_persona(nombre=\"Carlos\", edad=30, ciudad=\"Madrid\")"
   ]
  },
  {
   "cell_type": "markdown",
   "id": "d020baaf-a940-46a7-ac68-a127362ec5f7",
   "metadata": {},
   "source": [
    "### 5.6.2 Combinando **`**args`**  y **`**kwargs`**\n",
    "\n",
    "Es posible usar `*args` y `**kwargs` juntos en la definición de una función para aceptar un número ilimitado de argumentos posicionales y de palabras clave.\n",
    "\n",
    "**Ejemplo Combinando `*args` y `**kwargs`:**"
   ]
  },
  {
   "cell_type": "code",
   "execution_count": 14,
   "id": "6f57d324-e130-4cd5-9ab2-8e464f517bbe",
   "metadata": {},
   "outputs": [],
   "source": [
    "def crear_perfil(nombre, correo, *hobbies, **detalles_personales):\n",
    "    print(f\"Nombre: {nombre}\")\n",
    "    print(f\"Correo: {correo}\")\n",
    "    print(\"Hobbies:\")\n",
    "    for hobby in hobbies:\n",
    "        print(f\" - {hobby}\")\n",
    "    print(\"Detalles Personales:\")\n",
    "    for clave, valor in detalles_personales.items():\n",
    "        print(f\" - {clave}: {valor}\") "
   ]
  },
  {
   "cell_type": "code",
   "execution_count": 15,
   "id": "dcc5b22f-0f25-45b9-b168-071255db40c9",
   "metadata": {},
   "outputs": [
    {
     "name": "stdout",
     "output_type": "stream",
     "text": [
      "Nombre: Ana\n",
      "Correo: ana@example.com\n",
      "Hobbies:\n",
      " - Leer\n",
      " - Escalar\n",
      " - Caminar\n",
      "Detalles Personales:\n",
      " - edad: 29\n",
      " - ciudad: Sucre\n"
     ]
    }
   ],
   "source": [
    "crear_perfil(\"Ana\", \"ana@example.com\",\n",
    "             \"Leer\", \"Escalar\", \"Caminar\",\n",
    "             edad=29, ciudad=\"Sucre\")"
   ]
  },
  {
   "cell_type": "markdown",
   "id": "03437852-60ba-468f-8ee4-19c26974ddf8",
   "metadata": {},
   "source": [
    "**Buenas Prácticas**\n",
    "\n",
    "- Uso Moderado: Aunque **`*args`** y **`**kwargs`** añaden flexibilidad a las funciones, deben usarse con moderación para evitar interfaces de funciones confusas.\n",
    "\n",
    "- Claro y Documentado: Siempre documenta el propósito y el uso esperado de los argumentos, especialmente cuando utilices **`*args`** y **`**kwargs`** , para mantener tu código claro y comprensible.\n",
    "\n",
    "Al dominar el uso de `*args` y `**kwargs`, podrás crear funciones más flexibles y potentes que pueden manejar una amplia gama de situaciones. Estas características hacen que Python sea particularmente fuerte para escribir funciones que requieren versatilidad en la cantidad y tipo de argumentos."
   ]
  }
 ],
 "metadata": {
  "kernelspec": {
   "display_name": "Python 3 (ipykernel)",
   "language": "python",
   "name": "python3"
  },
  "language_info": {
   "codemirror_mode": {
    "name": "ipython",
    "version": 3
   },
   "file_extension": ".py",
   "mimetype": "text/x-python",
   "name": "python",
   "nbconvert_exporter": "python",
   "pygments_lexer": "ipython3",
   "version": "3.12.2"
  }
 },
 "nbformat": 4,
 "nbformat_minor": 5
}
