{
 "cells": [
  {
   "cell_type": "markdown",
   "id": "6dc1f4d3-7058-49bb-8c03-dfd74d922618",
   "metadata": {},
   "source": [
    "# 1. NumPy para Ciencia de Datos\n",
    "\n",
    "NumPy es una piedra angular en el ecosistema de la ciencia de datos en Python, brindando eficiencia y versatilidad para la manipulación de datos numéricos. A continuación, se presenta una guía integral que abarca desde los conceptos básicos hasta técnicas avanzadas esenciales para el análisis de datos."
   ]
  },
  {
   "cell_type": "markdown",
   "id": "6ab44974-729c-433d-a38e-11caf893d3d3",
   "metadata": {},
   "source": [
    "![image.png](data:image/png;base64,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)"
   ]
  },
  {
   "cell_type": "markdown",
   "id": "f372bbbf-d04d-4180-a943-4316d790ac03",
   "metadata": {},
   "source": [
    "# 1.1 Introducción a NumPy\n",
    "\n",
    "NumPy, abreviatura de Numerical Python, es una librería que ofrece estructuras de datos y operaciones para manejar arrays y matrices de manera eficiente. Es especialmente útil para datos de gran volumen, gracias a su rapidez y eficacia."
   ]
  },
  {
   "cell_type": "markdown",
   "id": "93e0878c-5874-4701-8787-fb5c9dc85583",
   "metadata": {},
   "source": [
    "### 1.1.1 Instalación de NumPy\n",
    "\n",
    "Antes de utilizar NumPy, asegúrate de que esté instalado en tu entorno de Python. Si aún no lo has hecho, puedes instalarlo usando pip:"
   ]
  },
  {
   "cell_type": "markdown",
   "id": "d511fd61-b8b9-417e-932c-49a06faf489b",
   "metadata": {},
   "source": [
    "```python\n",
    "pip install numpy\n",
    "```"
   ]
  },
  {
   "cell_type": "markdown",
   "id": "43e00f5e-ad2d-4588-baa2-0bb7f116623e",
   "metadata": {},
   "source": [
    "## 1.2 Creación y Manipulación de Arrays"
   ]
  },
  {
   "cell_type": "code",
   "execution_count": 3,
   "id": "7cfb021f-2bb5-45ce-bbb1-47808d92cfae",
   "metadata": {},
   "outputs": [
    {
     "name": "stdout",
     "output_type": "stream",
     "text": [
      "Dimensiones: 2\n",
      "Forma: (2, 3)\n",
      "Tamaño: 6\n",
      "Tipo de dato: int32\n"
     ]
    }
   ],
   "source": [
    "import numpy as np\n",
    "\n",
    "# Arrays unidimensionales y bidimensionales\n",
    "unidim_array = np.array([1, 2, 3])\n",
    "bidim_array = np.array([[1, 2, 3], [4, 5, 6]])\n",
    "\n",
    "# Atributos importantes\n",
    "print(\"Dimensiones:\", bidim_array.ndim)\n",
    "print(\"Forma:\", bidim_array.shape)\n",
    "print(\"Tamaño:\", bidim_array.size)\n",
    "print(\"Tipo de dato:\", bidim_array.dtype)"
   ]
  },
  {
   "cell_type": "code",
   "execution_count": 5,
   "id": "668cb988-40f2-4f13-b0cd-788a89e9ea4c",
   "metadata": {},
   "outputs": [
    {
     "name": "stdout",
     "output_type": "stream",
     "text": [
      "[5 6 7]\n",
      "[2 4 6]\n"
     ]
    }
   ],
   "source": [
    "# Operaciones básicas\n",
    "print(unidim_array + 4)\n",
    "print(unidim_array * 2)"
   ]
  },
  {
   "cell_type": "code",
   "execution_count": 6,
   "id": "fe9d36f5-496a-40c6-a712-7d4b4dc29309",
   "metadata": {},
   "outputs": [
    {
     "name": "stdout",
     "output_type": "stream",
     "text": [
      "[[1 2]\n",
      " [3 4]\n",
      " [5 6]]\n",
      "[1 2 3 4 5 6]\n"
     ]
    }
   ],
   "source": [
    "# Manipulación de arrays\n",
    "print(bidim_array.reshape(3, 2))\n",
    "array1, array2 = np.array([1, 2, 3]), np.array([4, 5, 6])\n",
    "print(np.hstack((array1, array2)))"
   ]
  },
  {
   "cell_type": "markdown",
   "id": "7f5e1211-1f78-4cf0-bedd-94a037c06f36",
   "metadata": {},
   "source": [
    "## 1.3 Profundización en NumPy\n",
    "\n",
    "NumPy es indispensable para el análisis de datos. Veamos cómo aprovechar su potencial al máximo."
   ]
  },
  {
   "cell_type": "markdown",
   "id": "cb9b136e-7958-48b3-8a1f-d2d03aafb2e8",
   "metadata": {},
   "source": [
    "### 1.3.1 Inicialización Avanzada de Arrays\n",
    "\n",
    "NumPy ofrece diversas formas de inicializar arrays, facilitando la creación de matrices especiales."
   ]
  },
  {
   "cell_type": "code",
   "execution_count": 17,
   "id": "8fb982a5-6d7f-45d9-baa1-931e251095bf",
   "metadata": {},
   "outputs": [
    {
     "name": "stdout",
     "output_type": "stream",
     "text": [
      "Matriz de ceros:\n",
      "[[0. 0. 0. 0.]\n",
      " [0. 0. 0. 0.]\n",
      " [0. 0. 0. 0.]]\n"
     ]
    }
   ],
   "source": [
    "import numpy as np\n",
    "\n",
    "# Crear una matriz de ceros\n",
    "zeros = np.zeros((3, 4))\n",
    "print(\"Matriz de ceros:\")\n",
    "print(zeros)"
   ]
  },
  {
   "cell_type": "code",
   "execution_count": 18,
   "id": "be148b4f-a0f2-4b7a-9c99-72a98649ef11",
   "metadata": {},
   "outputs": [
    {
     "name": "stdout",
     "output_type": "stream",
     "text": [
      "\n",
      "Matriz de unos:\n",
      "[[1. 1. 1.]\n",
      " [1. 1. 1.]]\n"
     ]
    }
   ],
   "source": [
    "# Crear una matriz de unos\n",
    "ones = np.ones((2, 3))\n",
    "print(\"\\nMatriz de unos:\")\n",
    "print(ones)"
   ]
  },
  {
   "cell_type": "code",
   "execution_count": 19,
   "id": "feba3189-3c0d-481f-8f7a-2292be871541",
   "metadata": {},
   "outputs": [
    {
     "name": "stdout",
     "output_type": "stream",
     "text": [
      "\n",
      "Matriz de puro sietes:\n",
      "[[7 7 7]\n",
      " [7 7 7]\n",
      " [7 7 7]]\n"
     ]
    }
   ],
   "source": [
    "# Crear una matriz con todos los elementos iguales a un valor constante\n",
    "full = np.full((3, 3), 7)\n",
    "print(\"\\nMatriz de puro sietes:\")\n",
    "print(full)"
   ]
  },
  {
   "cell_type": "code",
   "execution_count": 20,
   "id": "c87e3725-2391-4e47-ada6-7cd82d75f73b",
   "metadata": {},
   "outputs": [
    {
     "name": "stdout",
     "output_type": "stream",
     "text": [
      "\n",
      "Matriz identidad:\n",
      "[[1. 0. 0. 0.]\n",
      " [0. 1. 0. 0.]\n",
      " [0. 0. 1. 0.]\n",
      " [0. 0. 0. 1.]]\n"
     ]
    }
   ],
   "source": [
    "# Crear una matriz identidad\n",
    "eye = np.eye(4)\n",
    "print(\"\\nMatriz identidad:\")\n",
    "print(eye)"
   ]
  },
  {
   "cell_type": "code",
   "execution_count": 28,
   "id": "3308dc99-540e-492b-8fbc-c6ed7608022a",
   "metadata": {},
   "outputs": [
    {
     "name": "stdout",
     "output_type": "stream",
     "text": [
      "\n",
      "Vector de 0 a 10 dividido en 10 partes iguales:\n",
      "[ 1.    3.25  5.5   7.75 10.  ]\n"
     ]
    }
   ],
   "source": [
    "# Crear un vector de números espaciados uniformemente entre dos valores\n",
    "linspace = np.linspace(1, 10, 5)\n",
    "print(\"\\nVector de 0 a 10 dividido en 10 partes iguales:\")\n",
    "print(linspace)"
   ]
  },
  {
   "cell_type": "code",
   "execution_count": 29,
   "id": "97a1c777-330a-401d-bd6a-8971a7f082e3",
   "metadata": {},
   "outputs": [
    {
     "name": "stdout",
     "output_type": "stream",
     "text": [
      "\n",
      "Vector que inicia en 0 y termina en 10 con incrementos de 2:\n",
      "[ 0  2  4  6  8 10]\n"
     ]
    }
   ],
   "source": [
    "\n",
    "# Crear un vector con valores en un rango con incrementos específicos\n",
    "arange = np.arange(0, 11, 2)\n",
    "print(\"\\nVector que inicia en 0 y termina en 10 con incrementos de 2:\")\n",
    "print(arange)\n"
   ]
  },
  {
   "cell_type": "code",
   "execution_count": 23,
   "id": "b3438c76-b111-418d-beda-0092b1d1d7e7",
   "metadata": {},
   "outputs": [
    {
     "name": "stdout",
     "output_type": "stream",
     "text": [
      "\n",
      "Matriz con valores aleatorios entre 0 y 1:\n",
      "[[0.07663368 0.29710929]\n",
      " [0.74066545 0.90802927]\n",
      " [0.53824986 0.72943592]]\n"
     ]
    }
   ],
   "source": [
    "# Ejemplo avanzado: Crear una matriz con valores aleatorios\n",
    "random_matrix = np.random.rand(3, 2)\n",
    "print(\"\\nMatriz con valores aleatorios entre 0 y 1:\")\n",
    "print(random_matrix)\n"
   ]
  },
  {
   "cell_type": "code",
   "execution_count": 24,
   "id": "c9684248-1dab-43ca-a190-8caf6436a012",
   "metadata": {},
   "outputs": [
    {
     "name": "stdout",
     "output_type": "stream",
     "text": [
      "\n",
      "Vector de fechas desde 2020-01-01 hasta 2020-01-31:\n",
      "['2020-01-01' '2020-01-02' '2020-01-03' '2020-01-04' '2020-01-05'\n",
      " '2020-01-06' '2020-01-07' '2020-01-08' '2020-01-09' '2020-01-10'\n",
      " '2020-01-11' '2020-01-12' '2020-01-13' '2020-01-14' '2020-01-15'\n",
      " '2020-01-16' '2020-01-17' '2020-01-18' '2020-01-19' '2020-01-20'\n",
      " '2020-01-21' '2020-01-22' '2020-01-23' '2020-01-24' '2020-01-25'\n",
      " '2020-01-26' '2020-01-27' '2020-01-28' '2020-01-29' '2020-01-30'\n",
      " '2020-01-31']\n"
     ]
    }
   ],
   "source": [
    "\n",
    "# Crear un vector de fechas\n",
    "dates = np.arange('2020-01', '2020-02', dtype='datetime64[D]')\n",
    "print(\"\\nVector de fechas desde 2020-01-01 hasta 2020-01-31:\")\n",
    "print(dates)"
   ]
  },
  {
   "cell_type": "markdown",
   "id": "c77ab9a5-c968-4143-9879-fc13ce116d82",
   "metadata": {},
   "source": [
    "**Explicación:**\n",
    "- `np.zeros` y`np.ones` son muy útiles para inicializar modelos de aprendizaje automático con pesos iniciales o para crear máscaras en procesamiento de imágenes.\n",
    "\n",
    "- ` np.full` es útil cuando se necesita una constante como punto de partida para cálculos o para crear una matriz de control en experimentos.\n",
    "\n",
    "- `np.eye` es esencial en álgebra lineal, especialmente para operaciones que involucran la inversión de matrices o solución de sistemas de ecuaciones lineales.\n",
    "\n",
    "- `np.linspace` y `np.arange` son fundamentales para crear vectores de tiempo en análisis de series temporales o para definir el espacio de búsqueda en optimización y simulaciones.\n",
    "\n",
    "- `np.random.rand` permite la creación de datos sintéticos para pruebas o para inicializar modelos de forma aleatoria, lo cual es una práctica común en el aprendizaje profundo.\n",
    "\n",
    "- El uso de `np.arange` con `dtype='datetime64[D]'` ilustra cómo NumPy también facilita el manejo de fechas, crucial para el trabajo con series temporales."
   ]
  },
  {
   "cell_type": "markdown",
   "id": "5cde8628-19f7-43c1-a8d1-9bc9d066ccb4",
   "metadata": {},
   "source": [
    "### 1.3.2 Álgebra Lineal en NumPy\n",
    "\n",
    "El álgebra lineal es el corazón de muchos algoritmos de machine learning y análisis de datos. NumPy proporciona un conjunto robusto de herramientas para realizar operaciones de álgebra lineal de manera eficiente."
   ]
  },
  {
   "cell_type": "code",
   "execution_count": 13,
   "id": "e376d2b2-6e29-40c9-8a39-7a20b0cd0c20",
   "metadata": {},
   "outputs": [
    {
     "name": "stdout",
     "output_type": "stream",
     "text": [
      "Producto punto: 32\n",
      "Producto de matrices:\n",
      " [[19 22]\n",
      " [43 50]]\n",
      "Transpuesta:\n",
      " [[1 3]\n",
      " [2 4]]\n",
      "Inversa:\n",
      " [[-2.   1. ]\n",
      " [ 1.5 -0.5]]\n",
      "Autovalores: [-0.37228132  5.37228132]\n",
      "Autovectores:\n",
      " [[-0.82456484 -0.41597356]\n",
      " [ 0.56576746 -0.90937671]]\n"
     ]
    }
   ],
   "source": [
    "# Vectores para el producto punto\n",
    "a, b = np.array([1, 2, 3]), np.array([4, 5, 6])\n",
    "dot_product = np.dot(a, b)\n",
    "print(\"Producto punto:\", dot_product)\n",
    "\n",
    "# Matrices para la multiplicación\n",
    "A, B = np.array([[1, 2], [3, 4]]), np.array([[5, 6], [7, 8]])\n",
    "matrix_product = np.matmul(A, B)\n",
    "print(\"Producto de matrices:\\n\", matrix_product)\n",
    "\n",
    "# Transposición de una matriz\n",
    "transpose = np.transpose(A)\n",
    "print(\"Transpuesta:\\n\", transpose)\n",
    "\n",
    "# Inversa de una matriz\n",
    "inverse = np.linalg.inv(A)\n",
    "print(\"Inversa:\\n\", inverse)\n",
    "\n",
    "# Autovalores y autovectores\n",
    "eigenvalues, eigenvectors = np.linalg.eig(A)\n",
    "print(\"Autovalores:\", eigenvalues)\n",
    "print(\"Autovectores:\\n\", eigenvectors)"
   ]
  },
  {
   "cell_type": "markdown",
   "id": "d6c26732-4bc1-49d1-96bb-38ac8481f2e0",
   "metadata": {},
   "source": [
    "### 1.3.3 Filtrado y Estadísticas\n",
    "\n",
    "El filtrado de datos y el cálculo de estadísticas son tareas cotidianas en el análisis de datos. NumPy simplifica estas operaciones:"
   ]
  },
  {
   "cell_type": "code",
   "execution_count": 15,
   "id": "8ca63228-62bd-4f5d-8702-cd967d8359a2",
   "metadata": {},
   "outputs": [
    {
     "name": "stdout",
     "output_type": "stream",
     "text": [
      "Datos filtrados: [ 5  9  7 11 14 15]\n",
      "Media: 6.181818181818182 Mediana: 5.0 Desviación estándar: 5.149019003093199 Varianza: 26.512396694214875\n",
      "Suma acumulativa: [ 1  6  8 17 24 24 27 38 52 67 68] Producto acumulativo: [  1   5  10  90 630   0   0   0   0   0   0]\n"
     ]
    }
   ],
   "source": [
    "# Datos para el ejemplo\n",
    "data = np.array([1, 5, 2, 9, 7, 0, 3, 11, 14, 15, 1])\n",
    "\n",
    "# Filtrado de datos\n",
    "filtered = data[data > 3]\n",
    "print(\"Datos filtrados:\", filtered)\n",
    "\n",
    "# Estadísticas básicas\n",
    "mean, median = np.mean(data), np.median(data)\n",
    "std_dev, variance = np.std(data), np.var(data)\n",
    "print(\"Media:\", mean, \"Mediana:\", median, \"Desviación estándar:\", std_dev, \"Varianza:\", variance)\n",
    "\n",
    "# Suma y producto acumulativos\n",
    "cumsum, cumprod = np.cumsum(data), np.cumprod(data)\n",
    "print(\"Suma acumulativa:\", cumsum, \"Producto acumulativo:\", cumprod)"
   ]
  },
  {
   "cell_type": "markdown",
   "id": "d5a8bb54-9ba5-42d6-8591-66eec9cc4a2a",
   "metadata": {},
   "source": [
    "### 1.3.4 Trabajar con Fechas y Series Temporales\n",
    "\n",
    "NumPy también admite el trabajo con fechas y series temporales, lo que facilita el análisis en este tipo de datos:"
   ]
  },
  {
   "cell_type": "code",
   "execution_count": 17,
   "id": "ba96e800-6c87-4459-bcd9-e709b2fa8b44",
   "metadata": {},
   "outputs": [
    {
     "name": "stdout",
     "output_type": "stream",
     "text": [
      "Diferencia entre fechas: [466]\n"
     ]
    }
   ],
   "source": [
    "# Creación de un rango de fechas\n",
    "dates = np.array(['2020-03-15', '2021-06-24'], dtype='datetime64[D]')\n",
    "date_diff = np.diff(dates)\n",
    "print(\"Diferencia entre fechas:\", date_diff)"
   ]
  }
 ],
 "metadata": {
  "kernelspec": {
   "display_name": "Python 3 (ipykernel)",
   "language": "python",
   "name": "python3"
  },
  "language_info": {
   "codemirror_mode": {
    "name": "ipython",
    "version": 3
   },
   "file_extension": ".py",
   "mimetype": "text/x-python",
   "name": "python",
   "nbconvert_exporter": "python",
   "pygments_lexer": "ipython3",
   "version": "3.12.2"
  }
 },
 "nbformat": 4,
 "nbformat_minor": 5
}
